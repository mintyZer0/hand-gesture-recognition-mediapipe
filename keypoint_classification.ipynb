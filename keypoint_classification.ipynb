{
 "cells": [
  {
   "cell_type": "code",
   "execution_count": 1,
   "metadata": {},
   "outputs": [
    {
     "name": "stdout",
     "output_type": "stream",
     "text": [
      "WARNING:tensorflow:From C:\\ProgramData\\anaconda3\\Lib\\site-packages\\keras\\src\\losses.py:2976: The name tf.losses.sparse_softmax_cross_entropy is deprecated. Please use tf.compat.v1.losses.sparse_softmax_cross_entropy instead.\n",
      "\n"
     ]
    }
   ],
   "source": [
    "import csv\n",
    "\n",
    "import numpy as np\n",
    "import tensorflow as tf\n",
    "from sklearn.model_selection import train_test_split\n",
    "\n",
    "RANDOM_SEED = 42"
   ]
  },
  {
   "cell_type": "markdown",
   "metadata": {},
   "source": [
    "# 各パス指定"
   ]
  },
  {
   "cell_type": "code",
   "execution_count": 2,
   "metadata": {},
   "outputs": [],
   "source": [
    "dataset = 'model/keypoint_classifier/keypoint.csv'\n",
    "model_save_path = 'model/keypoint_classifier/keypoint_classifier.hdf5'"
   ]
  },
  {
   "cell_type": "markdown",
   "metadata": {},
   "source": [
    "# 分類数設定"
   ]
  },
  {
   "cell_type": "code",
   "execution_count": 3,
   "metadata": {},
   "outputs": [],
   "source": [
    "NUM_CLASSES = 19"
   ]
  },
  {
   "cell_type": "markdown",
   "metadata": {},
   "source": [
    "# 学習データ読み込み"
   ]
  },
  {
   "cell_type": "code",
   "execution_count": 4,
   "metadata": {},
   "outputs": [],
   "source": [
    "X_dataset = np.loadtxt(dataset, delimiter=',', dtype='float32', usecols=list(range(1, (21 * 2) + 1)))"
   ]
  },
  {
   "cell_type": "code",
   "execution_count": 5,
   "metadata": {},
   "outputs": [],
   "source": [
    "y_dataset = np.loadtxt(dataset, delimiter=',', dtype='int32', usecols=(0))"
   ]
  },
  {
   "cell_type": "code",
   "execution_count": 6,
   "metadata": {},
   "outputs": [],
   "source": [
    "X_train, X_test, y_train, y_test = train_test_split(X_dataset, y_dataset, train_size=0.75, random_state=RANDOM_SEED)"
   ]
  },
  {
   "cell_type": "markdown",
   "metadata": {},
   "source": [
    "# モデル構築"
   ]
  },
  {
   "cell_type": "code",
   "execution_count": 7,
   "metadata": {},
   "outputs": [
    {
     "name": "stdout",
     "output_type": "stream",
     "text": [
      "WARNING:tensorflow:From C:\\ProgramData\\anaconda3\\Lib\\site-packages\\keras\\src\\backend.py:1398: The name tf.executing_eagerly_outside_functions is deprecated. Please use tf.compat.v1.executing_eagerly_outside_functions instead.\n",
      "\n"
     ]
    }
   ],
   "source": [
    "model = tf.keras.models.Sequential([\n",
    "    tf.keras.layers.Input((21 * 2, )),\n",
    "    tf.keras.layers.Dropout(0.2),\n",
    "    tf.keras.layers.Dense(20, activation='relu'),\n",
    "    tf.keras.layers.Dropout(0.4),\n",
    "    tf.keras.layers.Dense(10, activation='relu'),\n",
    "    tf.keras.layers.Dense(NUM_CLASSES, activation='softmax')\n",
    "])"
   ]
  },
  {
   "cell_type": "code",
   "execution_count": 8,
   "metadata": {},
   "outputs": [
    {
     "name": "stdout",
     "output_type": "stream",
     "text": [
      "Model: \"sequential\"\n",
      "_________________________________________________________________\n",
      " Layer (type)                Output Shape              Param #   \n",
      "=================================================================\n",
      " dropout (Dropout)           (None, 42)                0         \n",
      "                                                                 \n",
      " dense (Dense)               (None, 20)                860       \n",
      "                                                                 \n",
      " dropout_1 (Dropout)         (None, 20)                0         \n",
      "                                                                 \n",
      " dense_1 (Dense)             (None, 10)                210       \n",
      "                                                                 \n",
      " dense_2 (Dense)             (None, 19)                209       \n",
      "                                                                 \n",
      "=================================================================\n",
      "Total params: 1279 (5.00 KB)\n",
      "Trainable params: 1279 (5.00 KB)\n",
      "Non-trainable params: 0 (0.00 Byte)\n",
      "_________________________________________________________________\n"
     ]
    }
   ],
   "source": [
    "model.summary()  # tf.keras.utils.plot_model(model, show_shapes=True)"
   ]
  },
  {
   "cell_type": "code",
   "execution_count": 9,
   "metadata": {},
   "outputs": [],
   "source": [
    "# モデルチェックポイントのコールバック\n",
    "cp_callback = tf.keras.callbacks.ModelCheckpoint(\n",
    "    model_save_path, verbose=1, save_weights_only=False)\n",
    "# 早期打ち切り用コールバック\n",
    "es_callback = tf.keras.callbacks.EarlyStopping(patience=20, verbose=1)"
   ]
  },
  {
   "cell_type": "code",
   "execution_count": 10,
   "metadata": {},
   "outputs": [
    {
     "name": "stdout",
     "output_type": "stream",
     "text": [
      "WARNING:tensorflow:From C:\\ProgramData\\anaconda3\\Lib\\site-packages\\keras\\src\\optimizers\\__init__.py:309: The name tf.train.Optimizer is deprecated. Please use tf.compat.v1.train.Optimizer instead.\n",
      "\n"
     ]
    }
   ],
   "source": [
    "# モデルコンパイル\n",
    "model.compile(\n",
    "    optimizer='adam',\n",
    "    loss='sparse_categorical_crossentropy',\n",
    "    metrics=['accuracy']\n",
    ")"
   ]
  },
  {
   "cell_type": "markdown",
   "metadata": {},
   "source": [
    "# モデル訓練"
   ]
  },
  {
   "cell_type": "code",
   "execution_count": 11,
   "metadata": {
    "scrolled": true
   },
   "outputs": [
    {
     "name": "stdout",
     "output_type": "stream",
     "text": [
      "Epoch 1/1000\n",
      "WARNING:tensorflow:From C:\\ProgramData\\anaconda3\\Lib\\site-packages\\keras\\src\\utils\\tf_utils.py:492: The name tf.ragged.RaggedTensorValue is deprecated. Please use tf.compat.v1.ragged.RaggedTensorValue instead.\n",
      "\n",
      "WARNING:tensorflow:From C:\\ProgramData\\anaconda3\\Lib\\site-packages\\keras\\src\\engine\\base_layer_utils.py:384: The name tf.executing_eagerly_outside_functions is deprecated. Please use tf.compat.v1.executing_eagerly_outside_functions instead.\n",
      "\n",
      "71/94 [=====================>........] - ETA: 0s - loss: 2.9170 - accuracy: 0.0743\n",
      "Epoch 1: saving model to model/keypoint_classifier\\keypoint_classifier.hdf5\n",
      "94/94 [==============================] - 2s 5ms/step - loss: 2.8957 - accuracy: 0.0888 - val_loss: 2.7581 - val_accuracy: 0.1732\n",
      "Epoch 2/1000\n",
      "74/94 [======================>.......] - ETA: 0s - loss: 2.7049 - accuracy: 0.1554"
     ]
    },
    {
     "name": "stderr",
     "output_type": "stream",
     "text": [
      "C:\\ProgramData\\anaconda3\\Lib\\site-packages\\keras\\src\\engine\\training.py:3103: UserWarning: You are saving your model as an HDF5 file via `model.save()`. This file format is considered legacy. We recommend using instead the native Keras format, e.g. `model.save('my_model.keras')`.\n",
      "  saving_api.save_model(\n"
     ]
    },
    {
     "name": "stdout",
     "output_type": "stream",
     "text": [
      "\n",
      "Epoch 2: saving model to model/keypoint_classifier\\keypoint_classifier.hdf5\n",
      "94/94 [==============================] - 0s 3ms/step - loss: 2.6857 - accuracy: 0.1590 - val_loss: 2.4625 - val_accuracy: 0.2110\n",
      "Epoch 3/1000\n",
      "76/94 [=======================>......] - ETA: 0s - loss: 2.4789 - accuracy: 0.2225\n",
      "Epoch 3: saving model to model/keypoint_classifier\\keypoint_classifier.hdf5\n",
      "94/94 [==============================] - 0s 3ms/step - loss: 2.4494 - accuracy: 0.2350 - val_loss: 2.1920 - val_accuracy: 0.3573\n",
      "Epoch 4/1000\n",
      "74/94 [======================>.......] - ETA: 0s - loss: 2.2533 - accuracy: 0.2978\n",
      "Epoch 4: saving model to model/keypoint_classifier\\keypoint_classifier.hdf5\n",
      "94/94 [==============================] - 0s 3ms/step - loss: 2.2405 - accuracy: 0.2995 - val_loss: 1.9610 - val_accuracy: 0.4106\n",
      "Epoch 5/1000\n",
      "91/94 [============================>.] - ETA: 0s - loss: 2.0998 - accuracy: 0.3327\n",
      "Epoch 5: saving model to model/keypoint_classifier\\keypoint_classifier.hdf5\n",
      "94/94 [==============================] - 0s 3ms/step - loss: 2.0991 - accuracy: 0.3317 - val_loss: 1.8124 - val_accuracy: 0.4564\n",
      "Epoch 6/1000\n",
      "92/94 [============================>.] - ETA: 0s - loss: 2.0092 - accuracy: 0.3517\n",
      "Epoch 6: saving model to model/keypoint_classifier\\keypoint_classifier.hdf5\n",
      "94/94 [==============================] - 0s 3ms/step - loss: 2.0070 - accuracy: 0.3526 - val_loss: 1.6946 - val_accuracy: 0.4799\n",
      "Epoch 7/1000\n",
      "74/94 [======================>.......] - ETA: 0s - loss: 1.9210 - accuracy: 0.3718\n",
      "Epoch 7: saving model to model/keypoint_classifier\\keypoint_classifier.hdf5\n",
      "94/94 [==============================] - 0s 4ms/step - loss: 1.9116 - accuracy: 0.3729 - val_loss: 1.5721 - val_accuracy: 0.4894\n",
      "Epoch 8/1000\n",
      "85/94 [==========================>...] - ETA: 0s - loss: 1.8319 - accuracy: 0.3939\n",
      "Epoch 8: saving model to model/keypoint_classifier\\keypoint_classifier.hdf5\n",
      "94/94 [==============================] - 0s 4ms/step - loss: 1.8322 - accuracy: 0.3932 - val_loss: 1.4640 - val_accuracy: 0.5242\n",
      "Epoch 9/1000\n",
      "74/94 [======================>.......] - ETA: 0s - loss: 1.7651 - accuracy: 0.4077\n",
      "Epoch 9: saving model to model/keypoint_classifier\\keypoint_classifier.hdf5\n",
      "94/94 [==============================] - 0s 3ms/step - loss: 1.7597 - accuracy: 0.4107 - val_loss: 1.3752 - val_accuracy: 0.5431\n",
      "Epoch 10/1000\n",
      "82/94 [=========================>....] - ETA: 0s - loss: 1.6930 - accuracy: 0.4365\n",
      "Epoch 10: saving model to model/keypoint_classifier\\keypoint_classifier.hdf5\n",
      "94/94 [==============================] - 0s 4ms/step - loss: 1.6932 - accuracy: 0.4349 - val_loss: 1.2994 - val_accuracy: 0.5745\n",
      "Epoch 11/1000\n",
      "90/94 [===========================>..] - ETA: 0s - loss: 1.6570 - accuracy: 0.4374\n",
      "Epoch 11: saving model to model/keypoint_classifier\\keypoint_classifier.hdf5\n",
      "94/94 [==============================] - 0s 4ms/step - loss: 1.6561 - accuracy: 0.4381 - val_loss: 1.2504 - val_accuracy: 0.6138\n",
      "Epoch 12/1000\n",
      "93/94 [============================>.] - ETA: 0s - loss: 1.6128 - accuracy: 0.4611\n",
      "Epoch 12: saving model to model/keypoint_classifier\\keypoint_classifier.hdf5\n",
      "94/94 [==============================] - 0s 3ms/step - loss: 1.6125 - accuracy: 0.4613 - val_loss: 1.1968 - val_accuracy: 0.6216\n",
      "Epoch 13/1000\n",
      "93/94 [============================>.] - ETA: 0s - loss: 1.5845 - accuracy: 0.4695\n",
      "Epoch 13: saving model to model/keypoint_classifier\\keypoint_classifier.hdf5\n",
      "94/94 [==============================] - 0s 4ms/step - loss: 1.5846 - accuracy: 0.4695 - val_loss: 1.1632 - val_accuracy: 0.6604\n",
      "Epoch 14/1000\n",
      "93/94 [============================>.] - ETA: 0s - loss: 1.5589 - accuracy: 0.4746\n",
      "Epoch 14: saving model to model/keypoint_classifier\\keypoint_classifier.hdf5\n",
      "94/94 [==============================] - 0s 4ms/step - loss: 1.5590 - accuracy: 0.4745 - val_loss: 1.1151 - val_accuracy: 0.6672\n",
      "Epoch 15/1000\n",
      "76/94 [=======================>......] - ETA: 0s - loss: 1.5296 - accuracy: 0.4763\n",
      "Epoch 15: saving model to model/keypoint_classifier\\keypoint_classifier.hdf5\n",
      "94/94 [==============================] - 0s 4ms/step - loss: 1.5305 - accuracy: 0.4796 - val_loss: 1.0871 - val_accuracy: 0.6568\n",
      "Epoch 16/1000\n",
      "77/94 [=======================>......] - ETA: 0s - loss: 1.4941 - accuracy: 0.4906\n",
      "Epoch 16: saving model to model/keypoint_classifier\\keypoint_classifier.hdf5\n",
      "94/94 [==============================] - 0s 3ms/step - loss: 1.4909 - accuracy: 0.4939 - val_loss: 1.0514 - val_accuracy: 0.6956\n",
      "Epoch 17/1000\n",
      "74/94 [======================>.......] - ETA: 0s - loss: 1.4770 - accuracy: 0.4992\n",
      "Epoch 17: saving model to model/keypoint_classifier\\keypoint_classifier.hdf5\n",
      "94/94 [==============================] - 0s 3ms/step - loss: 1.4821 - accuracy: 0.4974 - val_loss: 1.0342 - val_accuracy: 0.7024\n",
      "Epoch 18/1000\n",
      "81/94 [========================>.....] - ETA: 0s - loss: 1.4478 - accuracy: 0.5039\n",
      "Epoch 18: saving model to model/keypoint_classifier\\keypoint_classifier.hdf5\n",
      "94/94 [==============================] - 0s 3ms/step - loss: 1.4500 - accuracy: 0.5047 - val_loss: 1.0063 - val_accuracy: 0.7009\n",
      "Epoch 19/1000\n",
      "74/94 [======================>.......] - ETA: 0s - loss: 1.4332 - accuracy: 0.5136\n",
      "Epoch 19: saving model to model/keypoint_classifier\\keypoint_classifier.hdf5\n",
      "94/94 [==============================] - 0s 3ms/step - loss: 1.4353 - accuracy: 0.5111 - val_loss: 0.9809 - val_accuracy: 0.7037\n",
      "Epoch 20/1000\n",
      "74/94 [======================>.......] - ETA: 0s - loss: 1.4406 - accuracy: 0.5068\n",
      "Epoch 20: saving model to model/keypoint_classifier\\keypoint_classifier.hdf5\n",
      "94/94 [==============================] - 0s 3ms/step - loss: 1.4311 - accuracy: 0.5094 - val_loss: 0.9657 - val_accuracy: 0.7278\n",
      "Epoch 21/1000\n",
      "72/94 [=====================>........] - ETA: 0s - loss: 1.4044 - accuracy: 0.5094\n",
      "Epoch 21: saving model to model/keypoint_classifier\\keypoint_classifier.hdf5\n",
      "94/94 [==============================] - 0s 3ms/step - loss: 1.4041 - accuracy: 0.5125 - val_loss: 0.9389 - val_accuracy: 0.7283\n",
      "Epoch 22/1000\n",
      "74/94 [======================>.......] - ETA: 0s - loss: 1.4064 - accuracy: 0.5158\n",
      "Epoch 22: saving model to model/keypoint_classifier\\keypoint_classifier.hdf5\n",
      "94/94 [==============================] - 0s 3ms/step - loss: 1.4015 - accuracy: 0.5193 - val_loss: 0.9320 - val_accuracy: 0.7392\n",
      "Epoch 23/1000\n",
      "83/94 [=========================>....] - ETA: 0s - loss: 1.3836 - accuracy: 0.5232\n",
      "Epoch 23: saving model to model/keypoint_classifier\\keypoint_classifier.hdf5\n",
      "94/94 [==============================] - 0s 4ms/step - loss: 1.3755 - accuracy: 0.5269 - val_loss: 0.9059 - val_accuracy: 0.7346\n",
      "Epoch 24/1000\n",
      "74/94 [======================>.......] - ETA: 0s - loss: 1.3637 - accuracy: 0.5355\n",
      "Epoch 24: saving model to model/keypoint_classifier\\keypoint_classifier.hdf5\n",
      "94/94 [==============================] - 0s 3ms/step - loss: 1.3719 - accuracy: 0.5324 - val_loss: 0.8911 - val_accuracy: 0.7409\n",
      "Epoch 25/1000\n",
      "72/94 [=====================>........] - ETA: 0s - loss: 1.3621 - accuracy: 0.5297\n",
      "Epoch 25: saving model to model/keypoint_classifier\\keypoint_classifier.hdf5\n",
      "94/94 [==============================] - 0s 4ms/step - loss: 1.3570 - accuracy: 0.5331 - val_loss: 0.8709 - val_accuracy: 0.7482\n",
      "Epoch 26/1000\n",
      "79/94 [========================>.....] - ETA: 0s - loss: 1.3411 - accuracy: 0.5320\n",
      "Epoch 26: saving model to model/keypoint_classifier\\keypoint_classifier.hdf5\n",
      "94/94 [==============================] - 0s 4ms/step - loss: 1.3372 - accuracy: 0.5355 - val_loss: 0.8619 - val_accuracy: 0.7467\n",
      "Epoch 27/1000\n",
      "85/94 [==========================>...] - ETA: 0s - loss: 1.3357 - accuracy: 0.5382\n",
      "Epoch 27: saving model to model/keypoint_classifier\\keypoint_classifier.hdf5\n",
      "94/94 [==============================] - 0s 3ms/step - loss: 1.3331 - accuracy: 0.5395 - val_loss: 0.8536 - val_accuracy: 0.7508\n",
      "Epoch 28/1000\n",
      "76/94 [=======================>......] - ETA: 0s - loss: 1.3473 - accuracy: 0.5323\n",
      "Epoch 28: saving model to model/keypoint_classifier\\keypoint_classifier.hdf5\n",
      "94/94 [==============================] - 0s 3ms/step - loss: 1.3392 - accuracy: 0.5364 - val_loss: 0.8415 - val_accuracy: 0.7540\n",
      "Epoch 29/1000\n",
      "83/94 [=========================>....] - ETA: 0s - loss: 1.3259 - accuracy: 0.5385\n",
      "Epoch 29: saving model to model/keypoint_classifier\\keypoint_classifier.hdf5\n",
      "94/94 [==============================] - 0s 4ms/step - loss: 1.3238 - accuracy: 0.5407 - val_loss: 0.8372 - val_accuracy: 0.7611\n",
      "Epoch 30/1000\n",
      "93/94 [============================>.] - ETA: 0s - loss: 1.3131 - accuracy: 0.5477\n",
      "Epoch 30: saving model to model/keypoint_classifier\\keypoint_classifier.hdf5\n",
      "94/94 [==============================] - 0s 3ms/step - loss: 1.3133 - accuracy: 0.5476 - val_loss: 0.8358 - val_accuracy: 0.7503\n",
      "Epoch 31/1000\n",
      "78/94 [=======================>......] - ETA: 0s - loss: 1.2978 - accuracy: 0.5498\n",
      "Epoch 31: saving model to model/keypoint_classifier\\keypoint_classifier.hdf5\n",
      "94/94 [==============================] - 0s 3ms/step - loss: 1.2965 - accuracy: 0.5491 - val_loss: 0.8135 - val_accuracy: 0.7830\n",
      "Epoch 32/1000\n",
      "73/94 [======================>.......] - ETA: 0s - loss: 1.2870 - accuracy: 0.5552\n",
      "Epoch 32: saving model to model/keypoint_classifier\\keypoint_classifier.hdf5\n",
      "94/94 [==============================] - 0s 3ms/step - loss: 1.2825 - accuracy: 0.5559 - val_loss: 0.8082 - val_accuracy: 0.7649\n",
      "Epoch 33/1000\n",
      "92/94 [============================>.] - ETA: 0s - loss: 1.3005 - accuracy: 0.5445\n",
      "Epoch 33: saving model to model/keypoint_classifier\\keypoint_classifier.hdf5\n",
      "94/94 [==============================] - 0s 3ms/step - loss: 1.3016 - accuracy: 0.5445 - val_loss: 0.8103 - val_accuracy: 0.7664\n",
      "Epoch 34/1000\n",
      "85/94 [==========================>...] - ETA: 0s - loss: 1.2944 - accuracy: 0.5474\n",
      "Epoch 34: saving model to model/keypoint_classifier\\keypoint_classifier.hdf5\n",
      "94/94 [==============================] - 0s 4ms/step - loss: 1.2953 - accuracy: 0.5473 - val_loss: 0.7935 - val_accuracy: 0.7739\n",
      "Epoch 35/1000\n",
      "90/94 [===========================>..] - ETA: 0s - loss: 1.2749 - accuracy: 0.5507\n",
      "Epoch 35: saving model to model/keypoint_classifier\\keypoint_classifier.hdf5\n",
      "94/94 [==============================] - 0s 3ms/step - loss: 1.2757 - accuracy: 0.5508 - val_loss: 0.7877 - val_accuracy: 0.7654\n",
      "Epoch 36/1000\n",
      "71/94 [=====================>........] - ETA: 0s - loss: 1.2783 - accuracy: 0.5526\n",
      "Epoch 36: saving model to model/keypoint_classifier\\keypoint_classifier.hdf5\n",
      "94/94 [==============================] - 0s 3ms/step - loss: 1.2755 - accuracy: 0.5524 - val_loss: 0.7842 - val_accuracy: 0.7701\n",
      "Epoch 37/1000\n",
      "87/94 [==========================>...] - ETA: 0s - loss: 1.2561 - accuracy: 0.5581\n",
      "Epoch 37: saving model to model/keypoint_classifier\\keypoint_classifier.hdf5\n",
      "94/94 [==============================] - 0s 3ms/step - loss: 1.2556 - accuracy: 0.5588 - val_loss: 0.7767 - val_accuracy: 0.7747\n",
      "Epoch 38/1000\n",
      "75/94 [======================>.......] - ETA: 0s - loss: 1.2705 - accuracy: 0.5603\n",
      "Epoch 38: saving model to model/keypoint_classifier\\keypoint_classifier.hdf5\n",
      "94/94 [==============================] - 0s 3ms/step - loss: 1.2748 - accuracy: 0.5574 - val_loss: 0.7705 - val_accuracy: 0.7787\n",
      "Epoch 39/1000\n",
      "79/94 [========================>.....] - ETA: 0s - loss: 1.2681 - accuracy: 0.5599\n",
      "Epoch 39: saving model to model/keypoint_classifier\\keypoint_classifier.hdf5\n",
      "94/94 [==============================] - 0s 4ms/step - loss: 1.2609 - accuracy: 0.5616 - val_loss: 0.7646 - val_accuracy: 0.7923\n",
      "Epoch 40/1000\n",
      "93/94 [============================>.] - ETA: 0s - loss: 1.2511 - accuracy: 0.5646\n",
      "Epoch 40: saving model to model/keypoint_classifier\\keypoint_classifier.hdf5\n",
      "94/94 [==============================] - 0s 3ms/step - loss: 1.2509 - accuracy: 0.5647 - val_loss: 0.7488 - val_accuracy: 0.7948\n",
      "Epoch 41/1000\n",
      "79/94 [========================>.....] - ETA: 0s - loss: 1.2559 - accuracy: 0.5579\n",
      "Epoch 41: saving model to model/keypoint_classifier\\keypoint_classifier.hdf5\n",
      "94/94 [==============================] - 0s 3ms/step - loss: 1.2538 - accuracy: 0.5580 - val_loss: 0.7472 - val_accuracy: 0.7875\n",
      "Epoch 42/1000\n",
      "93/94 [============================>.] - ETA: 0s - loss: 1.2373 - accuracy: 0.5658\n",
      "Epoch 42: saving model to model/keypoint_classifier\\keypoint_classifier.hdf5\n",
      "94/94 [==============================] - 0s 3ms/step - loss: 1.2371 - accuracy: 0.5658 - val_loss: 0.7412 - val_accuracy: 0.7993\n",
      "Epoch 43/1000\n",
      "92/94 [============================>.] - ETA: 0s - loss: 1.2355 - accuracy: 0.5674\n",
      "Epoch 43: saving model to model/keypoint_classifier\\keypoint_classifier.hdf5\n",
      "94/94 [==============================] - 0s 4ms/step - loss: 1.2327 - accuracy: 0.5685 - val_loss: 0.7452 - val_accuracy: 0.7878\n",
      "Epoch 44/1000\n",
      "90/94 [===========================>..] - ETA: 0s - loss: 1.2464 - accuracy: 0.5583\n",
      "Epoch 44: saving model to model/keypoint_classifier\\keypoint_classifier.hdf5\n",
      "94/94 [==============================] - 0s 4ms/step - loss: 1.2481 - accuracy: 0.5584 - val_loss: 0.7401 - val_accuracy: 0.7976\n",
      "Epoch 45/1000\n",
      "89/94 [===========================>..] - ETA: 0s - loss: 1.2313 - accuracy: 0.5722\n",
      "Epoch 45: saving model to model/keypoint_classifier\\keypoint_classifier.hdf5\n",
      "94/94 [==============================] - 0s 5ms/step - loss: 1.2311 - accuracy: 0.5723 - val_loss: 0.7383 - val_accuracy: 0.7827\n",
      "Epoch 46/1000\n",
      "91/94 [============================>.] - ETA: 0s - loss: 1.2429 - accuracy: 0.5627\n",
      "Epoch 46: saving model to model/keypoint_classifier\\keypoint_classifier.hdf5\n",
      "94/94 [==============================] - 0s 3ms/step - loss: 1.2416 - accuracy: 0.5631 - val_loss: 0.7283 - val_accuracy: 0.7963\n",
      "Epoch 47/1000\n",
      "72/94 [=====================>........] - ETA: 0s - loss: 1.2226 - accuracy: 0.5690\n",
      "Epoch 47: saving model to model/keypoint_classifier\\keypoint_classifier.hdf5\n",
      "94/94 [==============================] - 0s 3ms/step - loss: 1.2290 - accuracy: 0.5682 - val_loss: 0.7346 - val_accuracy: 0.7920\n",
      "Epoch 48/1000\n",
      "77/94 [=======================>......] - ETA: 0s - loss: 1.2255 - accuracy: 0.5680\n",
      "Epoch 48: saving model to model/keypoint_classifier\\keypoint_classifier.hdf5\n",
      "94/94 [==============================] - 0s 3ms/step - loss: 1.2298 - accuracy: 0.5687 - val_loss: 0.7291 - val_accuracy: 0.8014\n",
      "Epoch 49/1000\n",
      "80/94 [========================>.....] - ETA: 0s - loss: 1.2217 - accuracy: 0.5705\n",
      "Epoch 49: saving model to model/keypoint_classifier\\keypoint_classifier.hdf5\n",
      "94/94 [==============================] - 0s 3ms/step - loss: 1.2157 - accuracy: 0.5705 - val_loss: 0.7194 - val_accuracy: 0.7948\n",
      "Epoch 50/1000\n",
      "75/94 [======================>.......] - ETA: 0s - loss: 1.2136 - accuracy: 0.5740\n",
      "Epoch 50: saving model to model/keypoint_classifier\\keypoint_classifier.hdf5\n",
      "94/94 [==============================] - 0s 3ms/step - loss: 1.2201 - accuracy: 0.5731 - val_loss: 0.7164 - val_accuracy: 0.7978\n",
      "Epoch 51/1000\n",
      "90/94 [===========================>..] - ETA: 0s - loss: 1.2122 - accuracy: 0.5706\n",
      "Epoch 51: saving model to model/keypoint_classifier\\keypoint_classifier.hdf5\n",
      "94/94 [==============================] - 0s 4ms/step - loss: 1.2144 - accuracy: 0.5700 - val_loss: 0.7169 - val_accuracy: 0.7920\n",
      "Epoch 52/1000\n",
      "77/94 [=======================>......] - ETA: 0s - loss: 1.2127 - accuracy: 0.5756\n",
      "Epoch 52: saving model to model/keypoint_classifier\\keypoint_classifier.hdf5\n",
      "94/94 [==============================] - 0s 3ms/step - loss: 1.2100 - accuracy: 0.5762 - val_loss: 0.7103 - val_accuracy: 0.8016\n",
      "Epoch 53/1000\n",
      "75/94 [======================>.......] - ETA: 0s - loss: 1.1933 - accuracy: 0.5799\n",
      "Epoch 53: saving model to model/keypoint_classifier\\keypoint_classifier.hdf5\n",
      "94/94 [==============================] - 0s 3ms/step - loss: 1.1973 - accuracy: 0.5803 - val_loss: 0.7055 - val_accuracy: 0.8069\n",
      "Epoch 54/1000\n",
      "79/94 [========================>.....] - ETA: 0s - loss: 1.2168 - accuracy: 0.5728\n",
      "Epoch 54: saving model to model/keypoint_classifier\\keypoint_classifier.hdf5\n",
      "94/94 [==============================] - 0s 3ms/step - loss: 1.2162 - accuracy: 0.5729 - val_loss: 0.7077 - val_accuracy: 0.8064\n",
      "Epoch 55/1000\n",
      "71/94 [=====================>........] - ETA: 0s - loss: 1.1975 - accuracy: 0.5803\n",
      "Epoch 55: saving model to model/keypoint_classifier\\keypoint_classifier.hdf5\n",
      "94/94 [==============================] - 0s 3ms/step - loss: 1.2012 - accuracy: 0.5772 - val_loss: 0.6949 - val_accuracy: 0.8142\n",
      "Epoch 56/1000\n",
      "72/94 [=====================>........] - ETA: 0s - loss: 1.1973 - accuracy: 0.5792\n",
      "Epoch 56: saving model to model/keypoint_classifier\\keypoint_classifier.hdf5\n",
      "94/94 [==============================] - 0s 3ms/step - loss: 1.1957 - accuracy: 0.5804 - val_loss: 0.6992 - val_accuracy: 0.8107\n",
      "Epoch 57/1000\n",
      "75/94 [======================>.......] - ETA: 0s - loss: 1.2081 - accuracy: 0.5750\n",
      "Epoch 57: saving model to model/keypoint_classifier\\keypoint_classifier.hdf5\n",
      "94/94 [==============================] - 0s 3ms/step - loss: 1.2092 - accuracy: 0.5741 - val_loss: 0.7114 - val_accuracy: 0.8056\n",
      "Epoch 58/1000\n",
      "92/94 [============================>.] - ETA: 0s - loss: 1.1814 - accuracy: 0.5808\n",
      "Epoch 58: saving model to model/keypoint_classifier\\keypoint_classifier.hdf5\n",
      "94/94 [==============================] - 0s 3ms/step - loss: 1.1815 - accuracy: 0.5811 - val_loss: 0.6947 - val_accuracy: 0.8258\n",
      "Epoch 59/1000\n",
      "77/94 [=======================>......] - ETA: 0s - loss: 1.1778 - accuracy: 0.5880\n",
      "Epoch 59: saving model to model/keypoint_classifier\\keypoint_classifier.hdf5\n",
      "94/94 [==============================] - 0s 3ms/step - loss: 1.1752 - accuracy: 0.5871 - val_loss: 0.6862 - val_accuracy: 0.8155\n",
      "Epoch 60/1000\n",
      "90/94 [===========================>..] - ETA: 0s - loss: 1.1801 - accuracy: 0.5879\n",
      "Epoch 60: saving model to model/keypoint_classifier\\keypoint_classifier.hdf5\n",
      "94/94 [==============================] - 0s 3ms/step - loss: 1.1809 - accuracy: 0.5869 - val_loss: 0.6918 - val_accuracy: 0.8220\n",
      "Epoch 61/1000\n",
      "77/94 [=======================>......] - ETA: 0s - loss: 1.1830 - accuracy: 0.5856\n",
      "Epoch 61: saving model to model/keypoint_classifier\\keypoint_classifier.hdf5\n",
      "94/94 [==============================] - 0s 3ms/step - loss: 1.1878 - accuracy: 0.5822 - val_loss: 0.6872 - val_accuracy: 0.8137\n",
      "Epoch 62/1000\n",
      "75/94 [======================>.......] - ETA: 0s - loss: 1.1922 - accuracy: 0.5806\n",
      "Epoch 62: saving model to model/keypoint_classifier\\keypoint_classifier.hdf5\n",
      "94/94 [==============================] - 0s 3ms/step - loss: 1.1870 - accuracy: 0.5817 - val_loss: 0.6776 - val_accuracy: 0.8195\n",
      "Epoch 63/1000\n",
      "77/94 [=======================>......] - ETA: 0s - loss: 1.1770 - accuracy: 0.5860\n",
      "Epoch 63: saving model to model/keypoint_classifier\\keypoint_classifier.hdf5\n",
      "94/94 [==============================] - 0s 3ms/step - loss: 1.1728 - accuracy: 0.5898 - val_loss: 0.6716 - val_accuracy: 0.8187\n",
      "Epoch 64/1000\n",
      "77/94 [=======================>......] - ETA: 0s - loss: 1.1568 - accuracy: 0.5895\n",
      "Epoch 64: saving model to model/keypoint_classifier\\keypoint_classifier.hdf5\n",
      "94/94 [==============================] - 0s 3ms/step - loss: 1.1540 - accuracy: 0.5932 - val_loss: 0.6812 - val_accuracy: 0.8167\n",
      "Epoch 65/1000\n",
      "92/94 [============================>.] - ETA: 0s - loss: 1.1641 - accuracy: 0.5927\n",
      "Epoch 65: saving model to model/keypoint_classifier\\keypoint_classifier.hdf5\n",
      "94/94 [==============================] - 0s 3ms/step - loss: 1.1649 - accuracy: 0.5924 - val_loss: 0.6851 - val_accuracy: 0.8359\n",
      "Epoch 66/1000\n",
      "72/94 [=====================>........] - ETA: 0s - loss: 1.1617 - accuracy: 0.5911\n",
      "Epoch 66: saving model to model/keypoint_classifier\\keypoint_classifier.hdf5\n",
      "94/94 [==============================] - 0s 3ms/step - loss: 1.1646 - accuracy: 0.5931 - val_loss: 0.6708 - val_accuracy: 0.8235\n",
      "Epoch 67/1000\n",
      "80/94 [========================>.....] - ETA: 0s - loss: 1.1641 - accuracy: 0.5904\n",
      "Epoch 67: saving model to model/keypoint_classifier\\keypoint_classifier.hdf5\n",
      "94/94 [==============================] - 0s 4ms/step - loss: 1.1629 - accuracy: 0.5885 - val_loss: 0.6674 - val_accuracy: 0.8240\n",
      "Epoch 68/1000\n",
      "74/94 [======================>.......] - ETA: 0s - loss: 1.1653 - accuracy: 0.5911\n",
      "Epoch 68: saving model to model/keypoint_classifier\\keypoint_classifier.hdf5\n",
      "94/94 [==============================] - 0s 3ms/step - loss: 1.1728 - accuracy: 0.5870 - val_loss: 0.6887 - val_accuracy: 0.8230\n",
      "Epoch 69/1000\n",
      "81/94 [========================>.....] - ETA: 0s - loss: 1.1671 - accuracy: 0.5841\n",
      "Epoch 69: saving model to model/keypoint_classifier\\keypoint_classifier.hdf5\n",
      "94/94 [==============================] - 0s 4ms/step - loss: 1.1684 - accuracy: 0.5834 - val_loss: 0.6812 - val_accuracy: 0.8228\n",
      "Epoch 70/1000\n",
      "74/94 [======================>.......] - ETA: 0s - loss: 1.1626 - accuracy: 0.5921\n",
      "Epoch 70: saving model to model/keypoint_classifier\\keypoint_classifier.hdf5\n",
      "94/94 [==============================] - 0s 3ms/step - loss: 1.1557 - accuracy: 0.5945 - val_loss: 0.6733 - val_accuracy: 0.8172\n",
      "Epoch 71/1000\n",
      "94/94 [==============================] - ETA: 0s - loss: 1.1456 - accuracy: 0.5914\n",
      "Epoch 71: saving model to model/keypoint_classifier\\keypoint_classifier.hdf5\n",
      "94/94 [==============================] - 0s 3ms/step - loss: 1.1456 - accuracy: 0.5914 - val_loss: 0.6742 - val_accuracy: 0.8321\n",
      "Epoch 72/1000\n",
      "80/94 [========================>.....] - ETA: 0s - loss: 1.1447 - accuracy: 0.5922\n",
      "Epoch 72: saving model to model/keypoint_classifier\\keypoint_classifier.hdf5\n",
      "94/94 [==============================] - 0s 3ms/step - loss: 1.1397 - accuracy: 0.5943 - val_loss: 0.6643 - val_accuracy: 0.8296\n",
      "Epoch 73/1000\n",
      "78/94 [=======================>......] - ETA: 0s - loss: 1.1553 - accuracy: 0.5917\n",
      "Epoch 73: saving model to model/keypoint_classifier\\keypoint_classifier.hdf5\n",
      "94/94 [==============================] - 0s 3ms/step - loss: 1.1528 - accuracy: 0.5930 - val_loss: 0.6608 - val_accuracy: 0.8112\n",
      "Epoch 74/1000\n",
      "78/94 [=======================>......] - ETA: 0s - loss: 1.1523 - accuracy: 0.5942\n",
      "Epoch 74: saving model to model/keypoint_classifier\\keypoint_classifier.hdf5\n",
      "94/94 [==============================] - 0s 3ms/step - loss: 1.1457 - accuracy: 0.5966 - val_loss: 0.6598 - val_accuracy: 0.8361\n",
      "Epoch 75/1000\n",
      "74/94 [======================>.......] - ETA: 0s - loss: 1.1322 - accuracy: 0.6001\n",
      "Epoch 75: saving model to model/keypoint_classifier\\keypoint_classifier.hdf5\n",
      "94/94 [==============================] - 0s 3ms/step - loss: 1.1331 - accuracy: 0.5988 - val_loss: 0.6754 - val_accuracy: 0.8185\n",
      "Epoch 76/1000\n",
      "79/94 [========================>.....] - ETA: 0s - loss: 1.1430 - accuracy: 0.6051\n",
      "Epoch 76: saving model to model/keypoint_classifier\\keypoint_classifier.hdf5\n",
      "94/94 [==============================] - 0s 3ms/step - loss: 1.1424 - accuracy: 0.6038 - val_loss: 0.6553 - val_accuracy: 0.8369\n",
      "Epoch 77/1000\n",
      "94/94 [==============================] - ETA: 0s - loss: 1.1550 - accuracy: 0.5940\n",
      "Epoch 77: saving model to model/keypoint_classifier\\keypoint_classifier.hdf5\n",
      "94/94 [==============================] - 0s 3ms/step - loss: 1.1550 - accuracy: 0.5940 - val_loss: 0.6647 - val_accuracy: 0.8364\n",
      "Epoch 78/1000\n",
      "92/94 [============================>.] - ETA: 0s - loss: 1.1330 - accuracy: 0.6017\n",
      "Epoch 78: saving model to model/keypoint_classifier\\keypoint_classifier.hdf5\n",
      "94/94 [==============================] - 0s 3ms/step - loss: 1.1330 - accuracy: 0.6018 - val_loss: 0.6611 - val_accuracy: 0.8386\n",
      "Epoch 79/1000\n",
      "76/94 [=======================>......] - ETA: 0s - loss: 1.1467 - accuracy: 0.5957\n",
      "Epoch 79: saving model to model/keypoint_classifier\\keypoint_classifier.hdf5\n",
      "94/94 [==============================] - 0s 3ms/step - loss: 1.1425 - accuracy: 0.5997 - val_loss: 0.6654 - val_accuracy: 0.8190\n",
      "Epoch 80/1000\n",
      "78/94 [=======================>......] - ETA: 0s - loss: 1.1414 - accuracy: 0.5906\n",
      "Epoch 80: saving model to model/keypoint_classifier\\keypoint_classifier.hdf5\n",
      "94/94 [==============================] - 0s 3ms/step - loss: 1.1398 - accuracy: 0.5908 - val_loss: 0.6520 - val_accuracy: 0.8313\n",
      "Epoch 81/1000\n",
      "80/94 [========================>.....] - ETA: 0s - loss: 1.1203 - accuracy: 0.6051\n",
      "Epoch 81: saving model to model/keypoint_classifier\\keypoint_classifier.hdf5\n",
      "94/94 [==============================] - 0s 3ms/step - loss: 1.1248 - accuracy: 0.6026 - val_loss: 0.6695 - val_accuracy: 0.8303\n",
      "Epoch 82/1000\n",
      "76/94 [=======================>......] - ETA: 0s - loss: 1.1445 - accuracy: 0.5995\n",
      "Epoch 82: saving model to model/keypoint_classifier\\keypoint_classifier.hdf5\n",
      "94/94 [==============================] - 0s 3ms/step - loss: 1.1475 - accuracy: 0.5992 - val_loss: 0.6668 - val_accuracy: 0.8283\n",
      "Epoch 83/1000\n",
      "78/94 [=======================>......] - ETA: 0s - loss: 1.1386 - accuracy: 0.5992\n",
      "Epoch 83: saving model to model/keypoint_classifier\\keypoint_classifier.hdf5\n",
      "94/94 [==============================] - 0s 3ms/step - loss: 1.1383 - accuracy: 0.5996 - val_loss: 0.6600 - val_accuracy: 0.8235\n",
      "Epoch 84/1000\n",
      "78/94 [=======================>......] - ETA: 0s - loss: 1.1316 - accuracy: 0.6022\n",
      "Epoch 84: saving model to model/keypoint_classifier\\keypoint_classifier.hdf5\n",
      "94/94 [==============================] - 0s 3ms/step - loss: 1.1369 - accuracy: 0.5985 - val_loss: 0.6655 - val_accuracy: 0.8225\n",
      "Epoch 85/1000\n",
      "90/94 [===========================>..] - ETA: 0s - loss: 1.1348 - accuracy: 0.5920\n",
      "Epoch 85: saving model to model/keypoint_classifier\\keypoint_classifier.hdf5\n",
      "94/94 [==============================] - 0s 3ms/step - loss: 1.1379 - accuracy: 0.5914 - val_loss: 0.6536 - val_accuracy: 0.8343\n",
      "Epoch 86/1000\n",
      "78/94 [=======================>......] - ETA: 0s - loss: 1.1396 - accuracy: 0.5983\n",
      "Epoch 86: saving model to model/keypoint_classifier\\keypoint_classifier.hdf5\n",
      "94/94 [==============================] - 0s 3ms/step - loss: 1.1285 - accuracy: 0.6008 - val_loss: 0.6554 - val_accuracy: 0.8263\n",
      "Epoch 87/1000\n",
      "79/94 [========================>.....] - ETA: 0s - loss: 1.1378 - accuracy: 0.5981\n",
      "Epoch 87: saving model to model/keypoint_classifier\\keypoint_classifier.hdf5\n",
      "94/94 [==============================] - 0s 3ms/step - loss: 1.1397 - accuracy: 0.5961 - val_loss: 0.6684 - val_accuracy: 0.8359\n",
      "Epoch 88/1000\n",
      "79/94 [========================>.....] - ETA: 0s - loss: 1.1152 - accuracy: 0.6000\n",
      "Epoch 88: saving model to model/keypoint_classifier\\keypoint_classifier.hdf5\n",
      "94/94 [==============================] - 0s 3ms/step - loss: 1.1192 - accuracy: 0.5997 - val_loss: 0.6686 - val_accuracy: 0.8182\n",
      "Epoch 89/1000\n",
      "79/94 [========================>.....] - ETA: 0s - loss: 1.1315 - accuracy: 0.6020\n",
      "Epoch 89: saving model to model/keypoint_classifier\\keypoint_classifier.hdf5\n",
      "94/94 [==============================] - 0s 3ms/step - loss: 1.1316 - accuracy: 0.6029 - val_loss: 0.6519 - val_accuracy: 0.8220\n",
      "Epoch 90/1000\n",
      "92/94 [============================>.] - ETA: 0s - loss: 1.1277 - accuracy: 0.6000\n",
      "Epoch 90: saving model to model/keypoint_classifier\\keypoint_classifier.hdf5\n",
      "94/94 [==============================] - 0s 3ms/step - loss: 1.1276 - accuracy: 0.6002 - val_loss: 0.6596 - val_accuracy: 0.8323\n",
      "Epoch 91/1000\n",
      "72/94 [=====================>........] - ETA: 0s - loss: 1.1170 - accuracy: 0.6097\n",
      "Epoch 91: saving model to model/keypoint_classifier\\keypoint_classifier.hdf5\n",
      "94/94 [==============================] - 0s 4ms/step - loss: 1.1096 - accuracy: 0.6087 - val_loss: 0.6482 - val_accuracy: 0.8283\n",
      "Epoch 92/1000\n",
      "68/94 [====================>.........] - ETA: 0s - loss: 1.1309 - accuracy: 0.6054\n",
      "Epoch 92: saving model to model/keypoint_classifier\\keypoint_classifier.hdf5\n",
      "94/94 [==============================] - 0s 3ms/step - loss: 1.1328 - accuracy: 0.6059 - val_loss: 0.6677 - val_accuracy: 0.8147\n",
      "Epoch 93/1000\n",
      "74/94 [======================>.......] - ETA: 0s - loss: 1.1110 - accuracy: 0.6043\n",
      "Epoch 93: saving model to model/keypoint_classifier\\keypoint_classifier.hdf5\n",
      "94/94 [==============================] - 0s 3ms/step - loss: 1.1115 - accuracy: 0.6028 - val_loss: 0.6581 - val_accuracy: 0.8210\n",
      "Epoch 94/1000\n",
      "77/94 [=======================>......] - ETA: 0s - loss: 1.1265 - accuracy: 0.5991\n",
      "Epoch 94: saving model to model/keypoint_classifier\\keypoint_classifier.hdf5\n",
      "94/94 [==============================] - 0s 3ms/step - loss: 1.1328 - accuracy: 0.5978 - val_loss: 0.6743 - val_accuracy: 0.8308\n",
      "Epoch 95/1000\n",
      "73/94 [======================>.......] - ETA: 0s - loss: 1.1206 - accuracy: 0.6033\n",
      "Epoch 95: saving model to model/keypoint_classifier\\keypoint_classifier.hdf5\n",
      "94/94 [==============================] - 0s 3ms/step - loss: 1.1251 - accuracy: 0.6013 - val_loss: 0.6629 - val_accuracy: 0.8155\n",
      "Epoch 96/1000\n",
      "76/94 [=======================>......] - ETA: 0s - loss: 1.1130 - accuracy: 0.6025\n",
      "Epoch 96: saving model to model/keypoint_classifier\\keypoint_classifier.hdf5\n",
      "94/94 [==============================] - 0s 3ms/step - loss: 1.1151 - accuracy: 0.6009 - val_loss: 0.6500 - val_accuracy: 0.8200\n",
      "Epoch 97/1000\n",
      "79/94 [========================>.....] - ETA: 0s - loss: 1.1299 - accuracy: 0.6008\n",
      "Epoch 97: saving model to model/keypoint_classifier\\keypoint_classifier.hdf5\n",
      "94/94 [==============================] - 0s 3ms/step - loss: 1.1226 - accuracy: 0.6027 - val_loss: 0.6564 - val_accuracy: 0.8298\n",
      "Epoch 98/1000\n",
      "71/94 [=====================>........] - ETA: 0s - loss: 1.1123 - accuracy: 0.6092\n",
      "Epoch 98: saving model to model/keypoint_classifier\\keypoint_classifier.hdf5\n",
      "94/94 [==============================] - 0s 3ms/step - loss: 1.1125 - accuracy: 0.6065 - val_loss: 0.6678 - val_accuracy: 0.8235\n",
      "Epoch 99/1000\n",
      "78/94 [=======================>......] - ETA: 0s - loss: 1.0976 - accuracy: 0.6118\n",
      "Epoch 99: saving model to model/keypoint_classifier\\keypoint_classifier.hdf5\n",
      "94/94 [==============================] - 0s 3ms/step - loss: 1.1050 - accuracy: 0.6100 - val_loss: 0.6641 - val_accuracy: 0.8306\n",
      "Epoch 100/1000\n",
      "73/94 [======================>.......] - ETA: 0s - loss: 1.1141 - accuracy: 0.6046\n",
      "Epoch 100: saving model to model/keypoint_classifier\\keypoint_classifier.hdf5\n",
      "94/94 [==============================] - 0s 3ms/step - loss: 1.1093 - accuracy: 0.6071 - val_loss: 0.6535 - val_accuracy: 0.8296\n",
      "Epoch 101/1000\n",
      "77/94 [=======================>......] - ETA: 0s - loss: 1.1091 - accuracy: 0.6083\n",
      "Epoch 101: saving model to model/keypoint_classifier\\keypoint_classifier.hdf5\n",
      "94/94 [==============================] - 0s 3ms/step - loss: 1.1125 - accuracy: 0.6062 - val_loss: 0.6576 - val_accuracy: 0.8333\n",
      "Epoch 102/1000\n",
      "73/94 [======================>.......] - ETA: 0s - loss: 1.1078 - accuracy: 0.6103\n",
      "Epoch 102: saving model to model/keypoint_classifier\\keypoint_classifier.hdf5\n",
      "94/94 [==============================] - 0s 3ms/step - loss: 1.1047 - accuracy: 0.6111 - val_loss: 0.6559 - val_accuracy: 0.8343\n",
      "Epoch 103/1000\n",
      "87/94 [==========================>...] - ETA: 0s - loss: 1.1088 - accuracy: 0.6073\n",
      "Epoch 103: saving model to model/keypoint_classifier\\keypoint_classifier.hdf5\n",
      "94/94 [==============================] - 0s 4ms/step - loss: 1.1105 - accuracy: 0.6074 - val_loss: 0.6495 - val_accuracy: 0.8238\n",
      "Epoch 104/1000\n",
      "83/94 [=========================>....] - ETA: 0s - loss: 1.1175 - accuracy: 0.6064\n",
      "Epoch 104: saving model to model/keypoint_classifier\\keypoint_classifier.hdf5\n",
      "94/94 [==============================] - 0s 4ms/step - loss: 1.1153 - accuracy: 0.6077 - val_loss: 0.6666 - val_accuracy: 0.8129\n",
      "Epoch 105/1000\n",
      "86/94 [==========================>...] - ETA: 0s - loss: 1.1022 - accuracy: 0.6080\n",
      "Epoch 105: saving model to model/keypoint_classifier\\keypoint_classifier.hdf5\n",
      "94/94 [==============================] - 0s 4ms/step - loss: 1.0996 - accuracy: 0.6081 - val_loss: 0.6538 - val_accuracy: 0.8270\n",
      "Epoch 106/1000\n",
      "76/94 [=======================>......] - ETA: 0s - loss: 1.0897 - accuracy: 0.6090\n",
      "Epoch 106: saving model to model/keypoint_classifier\\keypoint_classifier.hdf5\n",
      "94/94 [==============================] - 0s 3ms/step - loss: 1.0880 - accuracy: 0.6107 - val_loss: 0.6590 - val_accuracy: 0.8210\n",
      "Epoch 107/1000\n",
      "86/94 [==========================>...] - ETA: 0s - loss: 1.1032 - accuracy: 0.6110\n",
      "Epoch 107: saving model to model/keypoint_classifier\\keypoint_classifier.hdf5\n",
      "94/94 [==============================] - 0s 4ms/step - loss: 1.1025 - accuracy: 0.6116 - val_loss: 0.6689 - val_accuracy: 0.8104\n",
      "Epoch 108/1000\n",
      "82/94 [=========================>....] - ETA: 0s - loss: 1.1110 - accuracy: 0.6029\n",
      "Epoch 108: saving model to model/keypoint_classifier\\keypoint_classifier.hdf5\n",
      "94/94 [==============================] - 0s 4ms/step - loss: 1.1130 - accuracy: 0.6027 - val_loss: 0.6478 - val_accuracy: 0.8409\n",
      "Epoch 109/1000\n",
      "69/94 [=====================>........] - ETA: 0s - loss: 1.1031 - accuracy: 0.6073\n",
      "Epoch 109: saving model to model/keypoint_classifier\\keypoint_classifier.hdf5\n",
      "94/94 [==============================] - 0s 3ms/step - loss: 1.0957 - accuracy: 0.6091 - val_loss: 0.6514 - val_accuracy: 0.8212\n",
      "Epoch 110/1000\n",
      "75/94 [======================>.......] - ETA: 0s - loss: 1.1155 - accuracy: 0.6107\n",
      "Epoch 110: saving model to model/keypoint_classifier\\keypoint_classifier.hdf5\n",
      "94/94 [==============================] - 0s 3ms/step - loss: 1.1067 - accuracy: 0.6123 - val_loss: 0.6409 - val_accuracy: 0.8353\n",
      "Epoch 111/1000\n",
      "88/94 [===========================>..] - ETA: 0s - loss: 1.1080 - accuracy: 0.6101\n",
      "Epoch 111: saving model to model/keypoint_classifier\\keypoint_classifier.hdf5\n",
      "94/94 [==============================] - 0s 4ms/step - loss: 1.1057 - accuracy: 0.6101 - val_loss: 0.6535 - val_accuracy: 0.8351\n",
      "Epoch 112/1000\n",
      "94/94 [==============================] - ETA: 0s - loss: 1.1045 - accuracy: 0.6094\n",
      "Epoch 112: saving model to model/keypoint_classifier\\keypoint_classifier.hdf5\n",
      "94/94 [==============================] - 0s 4ms/step - loss: 1.1045 - accuracy: 0.6094 - val_loss: 0.6584 - val_accuracy: 0.8273\n",
      "Epoch 113/1000\n",
      "87/94 [==========================>...] - ETA: 0s - loss: 1.1078 - accuracy: 0.6057\n",
      "Epoch 113: saving model to model/keypoint_classifier\\keypoint_classifier.hdf5\n",
      "94/94 [==============================] - 0s 3ms/step - loss: 1.1071 - accuracy: 0.6052 - val_loss: 0.6539 - val_accuracy: 0.8238\n",
      "Epoch 114/1000\n",
      "72/94 [=====================>........] - ETA: 0s - loss: 1.1002 - accuracy: 0.6092\n",
      "Epoch 114: saving model to model/keypoint_classifier\\keypoint_classifier.hdf5\n",
      "94/94 [==============================] - 0s 3ms/step - loss: 1.0975 - accuracy: 0.6088 - val_loss: 0.6584 - val_accuracy: 0.8139\n",
      "Epoch 115/1000\n",
      "71/94 [=====================>........] - ETA: 0s - loss: 1.1131 - accuracy: 0.6092\n",
      "Epoch 115: saving model to model/keypoint_classifier\\keypoint_classifier.hdf5\n",
      "94/94 [==============================] - 0s 3ms/step - loss: 1.1101 - accuracy: 0.6113 - val_loss: 0.6472 - val_accuracy: 0.8346\n",
      "Epoch 116/1000\n",
      "87/94 [==========================>...] - ETA: 0s - loss: 1.1060 - accuracy: 0.6100\n",
      "Epoch 116: saving model to model/keypoint_classifier\\keypoint_classifier.hdf5\n",
      "94/94 [==============================] - 0s 3ms/step - loss: 1.1049 - accuracy: 0.6098 - val_loss: 0.6626 - val_accuracy: 0.8250\n",
      "Epoch 117/1000\n",
      "75/94 [======================>.......] - ETA: 0s - loss: 1.0961 - accuracy: 0.6115\n",
      "Epoch 117: saving model to model/keypoint_classifier\\keypoint_classifier.hdf5\n",
      "94/94 [==============================] - 0s 3ms/step - loss: 1.0912 - accuracy: 0.6132 - val_loss: 0.6641 - val_accuracy: 0.8180\n",
      "Epoch 118/1000\n",
      "68/94 [====================>.........] - ETA: 0s - loss: 1.0911 - accuracy: 0.6111\n",
      "Epoch 118: saving model to model/keypoint_classifier\\keypoint_classifier.hdf5\n",
      "94/94 [==============================] - 0s 3ms/step - loss: 1.0963 - accuracy: 0.6084 - val_loss: 0.6619 - val_accuracy: 0.8296\n",
      "Epoch 119/1000\n",
      "86/94 [==========================>...] - ETA: 0s - loss: 1.0845 - accuracy: 0.6128\n",
      "Epoch 119: saving model to model/keypoint_classifier\\keypoint_classifier.hdf5\n",
      "94/94 [==============================] - 0s 4ms/step - loss: 1.0817 - accuracy: 0.6127 - val_loss: 0.6480 - val_accuracy: 0.8346\n",
      "Epoch 120/1000\n",
      "92/94 [============================>.] - ETA: 0s - loss: 1.1006 - accuracy: 0.6061\n",
      "Epoch 120: saving model to model/keypoint_classifier\\keypoint_classifier.hdf5\n",
      "94/94 [==============================] - 0s 3ms/step - loss: 1.1032 - accuracy: 0.6060 - val_loss: 0.6720 - val_accuracy: 0.8114\n",
      "Epoch 121/1000\n",
      "82/94 [=========================>....] - ETA: 0s - loss: 1.0960 - accuracy: 0.6119\n",
      "Epoch 121: saving model to model/keypoint_classifier\\keypoint_classifier.hdf5\n",
      "94/94 [==============================] - 0s 4ms/step - loss: 1.0989 - accuracy: 0.6111 - val_loss: 0.6514 - val_accuracy: 0.8291\n",
      "Epoch 122/1000\n",
      "71/94 [=====================>........] - ETA: 0s - loss: 1.1143 - accuracy: 0.6086\n",
      "Epoch 122: saving model to model/keypoint_classifier\\keypoint_classifier.hdf5\n",
      "94/94 [==============================] - 0s 3ms/step - loss: 1.1032 - accuracy: 0.6104 - val_loss: 0.6610 - val_accuracy: 0.8220\n",
      "Epoch 123/1000\n",
      "73/94 [======================>.......] - ETA: 0s - loss: 1.0981 - accuracy: 0.6019\n",
      "Epoch 123: saving model to model/keypoint_classifier\\keypoint_classifier.hdf5\n",
      "94/94 [==============================] - 0s 3ms/step - loss: 1.0958 - accuracy: 0.6034 - val_loss: 0.6620 - val_accuracy: 0.8248\n",
      "Epoch 124/1000\n",
      "90/94 [===========================>..] - ETA: 0s - loss: 1.0901 - accuracy: 0.6158\n",
      "Epoch 124: saving model to model/keypoint_classifier\\keypoint_classifier.hdf5\n",
      "94/94 [==============================] - 0s 3ms/step - loss: 1.0918 - accuracy: 0.6144 - val_loss: 0.6559 - val_accuracy: 0.8223\n",
      "Epoch 125/1000\n",
      "74/94 [======================>.......] - ETA: 0s - loss: 1.0949 - accuracy: 0.6144\n",
      "Epoch 125: saving model to model/keypoint_classifier\\keypoint_classifier.hdf5\n",
      "94/94 [==============================] - 0s 3ms/step - loss: 1.0965 - accuracy: 0.6140 - val_loss: 0.6514 - val_accuracy: 0.8331\n",
      "Epoch 126/1000\n",
      "76/94 [=======================>......] - ETA: 0s - loss: 1.0972 - accuracy: 0.6071\n",
      "Epoch 126: saving model to model/keypoint_classifier\\keypoint_classifier.hdf5\n",
      "94/94 [==============================] - 0s 3ms/step - loss: 1.0964 - accuracy: 0.6044 - val_loss: 0.6699 - val_accuracy: 0.8031\n",
      "Epoch 127/1000\n",
      "79/94 [========================>.....] - ETA: 0s - loss: 1.0934 - accuracy: 0.6144\n",
      "Epoch 127: saving model to model/keypoint_classifier\\keypoint_classifier.hdf5\n",
      "94/94 [==============================] - 0s 3ms/step - loss: 1.0910 - accuracy: 0.6157 - val_loss: 0.6585 - val_accuracy: 0.8308\n",
      "Epoch 128/1000\n",
      "77/94 [=======================>......] - ETA: 0s - loss: 1.0742 - accuracy: 0.6156\n",
      "Epoch 128: saving model to model/keypoint_classifier\\keypoint_classifier.hdf5\n",
      "94/94 [==============================] - 0s 3ms/step - loss: 1.0796 - accuracy: 0.6144 - val_loss: 0.6538 - val_accuracy: 0.8280\n",
      "Epoch 129/1000\n",
      "86/94 [==========================>...] - ETA: 0s - loss: 1.0831 - accuracy: 0.6164\n",
      "Epoch 129: saving model to model/keypoint_classifier\\keypoint_classifier.hdf5\n",
      "94/94 [==============================] - 0s 4ms/step - loss: 1.0835 - accuracy: 0.6166 - val_loss: 0.6717 - val_accuracy: 0.8036\n",
      "Epoch 130/1000\n",
      "76/94 [=======================>......] - ETA: 0s - loss: 1.0893 - accuracy: 0.6181\n",
      "Epoch 130: saving model to model/keypoint_classifier\\keypoint_classifier.hdf5\n",
      "94/94 [==============================] - 0s 3ms/step - loss: 1.0912 - accuracy: 0.6159 - val_loss: 0.6607 - val_accuracy: 0.8293\n",
      "Epoch 130: early stopping\n"
     ]
    },
    {
     "data": {
      "text/plain": [
       "<keras.src.callbacks.History at 0x277873abb90>"
      ]
     },
     "execution_count": 11,
     "metadata": {},
     "output_type": "execute_result"
    }
   ],
   "source": [
    "model.fit(\n",
    "    X_train,\n",
    "    y_train,\n",
    "    epochs=1000,\n",
    "    batch_size=128,\n",
    "    validation_data=(X_test, y_test),\n",
    "    callbacks=[cp_callback, es_callback]\n",
    ")"
   ]
  },
  {
   "cell_type": "code",
   "execution_count": 12,
   "metadata": {},
   "outputs": [
    {
     "name": "stdout",
     "output_type": "stream",
     "text": [
      "32/32 [==============================] - 0s 2ms/step - loss: 0.6607 - accuracy: 0.8293\n"
     ]
    }
   ],
   "source": [
    "# モデル評価\n",
    "val_loss, val_acc = model.evaluate(X_test, y_test, batch_size=128)"
   ]
  },
  {
   "cell_type": "code",
   "execution_count": 13,
   "metadata": {},
   "outputs": [],
   "source": [
    "# 保存したモデルのロード\n",
    "model = tf.keras.models.load_model(model_save_path)"
   ]
  },
  {
   "cell_type": "code",
   "execution_count": 14,
   "metadata": {},
   "outputs": [
    {
     "name": "stdout",
     "output_type": "stream",
     "text": [
      "1/1 [==============================] - 0s 114ms/step\n",
      "[4.69880663e-02 1.68254133e-03 2.23235766e-04 3.58926039e-03\n",
      " 5.81869297e-02 1.24126353e-04 2.01031999e-05 3.56693295e-06\n",
      " 9.14661773e-03 3.34555702e-03 1.48689705e-05 4.32398468e-01\n",
      " 2.85326272e-01 7.08803441e-03 4.89769043e-08 1.26581117e-05\n",
      " 5.15772917e-05 1.51748464e-01 4.95587446e-05]\n",
      "11\n"
     ]
    }
   ],
   "source": [
    "# 推論テスト\n",
    "predict_result = model.predict(np.array([X_test[0]]))\n",
    "print(np.squeeze(predict_result))\n",
    "print(np.argmax(np.squeeze(predict_result)))"
   ]
  },
  {
   "cell_type": "markdown",
   "metadata": {},
   "source": [
    "# 混同行列"
   ]
  },
  {
   "cell_type": "code",
   "execution_count": 15,
   "metadata": {},
   "outputs": [
    {
     "name": "stdout",
     "output_type": "stream",
     "text": [
      "125/125 [==============================] - 0s 1ms/step\n"
     ]
    },
    {
     "data": {
      "image/png": "[encoded data removed]",
      "text/plain": [
       "<Figure size 700x600 with 2 Axes>"
      ]
     },
     "metadata": {},
     "output_type": "display_data"
    },
    {
     "name": "stdout",
     "output_type": "stream",
     "text": [
      "Classification Report\n",
      "              precision    recall  f1-score   support\n",
      "\n",
      "           0       0.94      0.68      0.79        99\n",
      "           1       0.69      1.00      0.82       241\n",
      "           2       1.00      0.10      0.19       107\n",
      "           3       0.95      0.68      0.79        91\n",
      "           4       0.00      0.00      0.00       121\n",
      "           5       1.00      0.03      0.06       102\n",
      "           6       0.91      0.80      0.85       134\n",
      "           7       0.99      0.62      0.76       125\n",
      "           8       0.88      0.93      0.90       210\n",
      "           9       0.99      0.77      0.87       172\n",
      "          10       0.95      0.99      0.97       333\n",
      "          11       0.74      0.93      0.83       292\n",
      "          12       0.77      0.72      0.75       343\n",
      "          13       0.74      1.00      0.85       322\n",
      "          14       0.87      1.00      0.93       347\n",
      "          15       1.00      0.99      0.99       217\n",
      "          16       0.83      0.98      0.90       257\n",
      "          17       0.65      0.83      0.73       255\n",
      "          18       0.99      0.99      0.99       204\n",
      "\n",
      "    accuracy                           0.83      3972\n",
      "   macro avg       0.84      0.74      0.73      3972\n",
      "weighted avg       0.83      0.83      0.80      3972\n",
      "\n"
     ]
    },
    {
     "name": "stderr",
     "output_type": "stream",
     "text": [
      "C:\\ProgramData\\anaconda3\\Lib\\site-packages\\sklearn\\metrics\\_classification.py:1344: UndefinedMetricWarning: Precision and F-score are ill-defined and being set to 0.0 in labels with no predicted samples. Use `zero_division` parameter to control this behavior.\n",
      "  _warn_prf(average, modifier, msg_start, len(result))\n",
      "C:\\ProgramData\\anaconda3\\Lib\\site-packages\\sklearn\\metrics\\_classification.py:1344: UndefinedMetricWarning: Precision and F-score are ill-defined and being set to 0.0 in labels with no predicted samples. Use `zero_division` parameter to control this behavior.\n",
      "  _warn_prf(average, modifier, msg_start, len(result))\n",
      "C:\\ProgramData\\anaconda3\\Lib\\site-packages\\sklearn\\metrics\\_classification.py:1344: UndefinedMetricWarning: Precision and F-score are ill-defined and being set to 0.0 in labels with no predicted samples. Use `zero_division` parameter to control this behavior.\n",
      "  _warn_prf(average, modifier, msg_start, len(result))\n"
     ]
    }
   ],
   "source": [
    "import pandas as pd\n",
    "import seaborn as sns\n",
    "import matplotlib.pyplot as plt\n",
    "from sklearn.metrics import confusion_matrix, classification_report\n",
    "\n",
    "def print_confusion_matrix(y_true, y_pred, report=True):\n",
    "    labels = sorted(list(set(y_true)))\n",
    "    cmx_data = confusion_matrix(y_true, y_pred, labels=labels)\n",
    "    \n",
    "    df_cmx = pd.DataFrame(cmx_data, index=labels, columns=labels)\n",
    " \n",
    "    fig, ax = plt.subplots(figsize=(7, 6))\n",
    "    sns.heatmap(df_cmx, annot=True, fmt='g' ,square=False)\n",
    "    ax.set_ylim(len(set(y_true)), 0)\n",
    "    plt.show()\n",
    "    \n",
    "    if report:\n",
    "        print('Classification Report')\n",
    "        print(classification_report(y_test, y_pred))\n",
    "\n",
    "Y_pred = model.predict(X_test)\n",
    "y_pred = np.argmax(Y_pred, axis=1)\n",
    "\n",
    "print_confusion_matrix(y_test, y_pred)"
   ]
  },
  {
   "cell_type": "markdown",
   "metadata": {},
   "source": [
    "# Tensorflow-Lite用のモデルへ変換"
   ]
  },
  {
   "cell_type": "code",
   "execution_count": 16,
   "metadata": {},
   "outputs": [
    {
     "name": "stderr",
     "output_type": "stream",
     "text": [
      "C:\\ProgramData\\anaconda3\\Lib\\site-packages\\keras\\src\\engine\\training.py:3103: UserWarning: You are saving your model as an HDF5 file via `model.save()`. This file format is considered legacy. We recommend using instead the native Keras format, e.g. `model.save('my_model.keras')`.\n",
      "  saving_api.save_model(\n"
     ]
    }
   ],
   "source": [
    "# 推論専用のモデルとして保存\n",
    "model.save(model_save_path, include_optimizer=False)"
   ]
  },
  {
   "cell_type": "code",
   "execution_count": 17,
   "metadata": {},
   "outputs": [
    {
     "name": "stdout",
     "output_type": "stream",
     "text": [
      "INFO:tensorflow:Assets written to: C:\\Users\\tanta\\AppData\\Local\\Temp\\tmp2_4bw06f\\assets\n"
     ]
    },
    {
     "name": "stderr",
     "output_type": "stream",
     "text": [
      "INFO:tensorflow:Assets written to: C:\\Users\\tanta\\AppData\\Local\\Temp\\tmp2_4bw06f\\assets\n"
     ]
    },
    {
     "data": {
      "text/plain": [
       "7204"
      ]
     },
     "execution_count": 17,
     "metadata": {},
     "output_type": "execute_result"
    }
   ],
   "source": [
    "# モデルを変換(量子化)\n",
    "tflite_save_path = 'model/keypoint_classifier/keypoint_classifier.tflite'\n",
    "\n",
    "converter = tf.lite.TFLiteConverter.from_keras_model(model)\n",
    "converter.optimizations = [tf.lite.Optimize.DEFAULT]\n",
    "tflite_quantized_model = converter.convert()\n",
    "\n",
    "open(tflite_save_path, 'wb').write(tflite_quantized_model)"
   ]
  },
  {
   "cell_type": "markdown",
   "metadata": {},
   "source": [
    "# 推論テスト"
   ]
  },
  {
   "cell_type": "code",
   "execution_count": 18,
   "metadata": {},
   "outputs": [],
   "source": [
    "interpreter = tf.lite.Interpreter(model_path=tflite_save_path)\n",
    "interpreter.allocate_tensors()"
   ]
  },
  {
   "cell_type": "code",
   "execution_count": 19,
   "metadata": {},
   "outputs": [],
   "source": [
    "# 入出力テンソルを取得\n",
    "input_details = interpreter.get_input_details()\n",
    "output_details = interpreter.get_output_details()"
   ]
  },
  {
   "cell_type": "code",
   "execution_count": 20,
   "metadata": {},
   "outputs": [],
   "source": [
    "interpreter.set_tensor(input_details[0]['index'], np.array([X_test[0]]))"
   ]
  },
  {
   "cell_type": "code",
   "execution_count": 21,
   "metadata": {
    "scrolled": true
   },
   "outputs": [
    {
     "name": "stdout",
     "output_type": "stream",
     "text": [
      "CPU times: total: 0 ns\n",
      "Wall time: 3.99 ms\n"
     ]
    }
   ],
   "source": [
    "%%time\n",
    "# 推論実施\n",
    "interpreter.invoke()\n",
    "tflite_results = interpreter.get_tensor(output_details[0]['index'])"
   ]
  },
  {
   "cell_type": "code",
   "execution_count": 22,
   "metadata": {},
   "outputs": [
    {
     "name": "stdout",
     "output_type": "stream",
     "text": [
      "[4.69880588e-02 1.68253935e-03 2.23235606e-04 3.58925783e-03\n",
      " 5.81869185e-02 1.24126149e-04 2.01032053e-05 3.56692703e-06\n",
      " 9.14662238e-03 3.34556121e-03 1.48689305e-05 4.32398587e-01\n",
      " 2.85326213e-01 7.08803209e-03 4.89769150e-08 1.26580780e-05\n",
      " 5.15772554e-05 1.51748464e-01 4.95587592e-05]\n",
      "11\n"
     ]
    }
   ],
   "source": [
    "print(np.squeeze(tflite_results))\n",
    "print(np.argmax(np.squeeze(tflite_results)))"
   ]
  }
 ],
 "metadata": {
  "kernelspec": {
   "display_name": "Python 3 (ipykernel)",
   "language": "python",
   "name": "python3"
  },
  "language_info": {
   "codemirror_mode": {
    "name": "ipython",
    "version": 3
   },
   "file_extension": ".py",
   "mimetype": "text/x-python",
   "name": "python",
   "nbconvert_exporter": "python",
   "pygments_lexer": "ipython3",
   "version": "3.11.5"
  }
 },
 "nbformat": 4,
 "nbformat_minor": 4
}
