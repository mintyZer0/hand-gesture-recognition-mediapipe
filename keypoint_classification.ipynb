{
 "cells": [
  {
   "cell_type": "code",
   "execution_count": 1,
   "metadata": {},
   "outputs": [
    {
     "name": "stdout",
     "output_type": "stream",
     "text": [
      "WARNING:tensorflow:From C:\\ProgramData\\anaconda3\\Lib\\site-packages\\keras\\src\\losses.py:2976: The name tf.losses.sparse_softmax_cross_entropy is deprecated. Please use tf.compat.v1.losses.sparse_softmax_cross_entropy instead.\n",
      "\n"
     ]
    }
   ],
   "source": [
    "import csv\n",
    "\n",
    "import numpy as np\n",
    "import tensorflow as tf\n",
    "from sklearn.model_selection import train_test_split\n",
    "\n",
    "RANDOM_SEED = 42"
   ]
  },
  {
   "cell_type": "markdown",
   "metadata": {},
   "source": [
    "# 各パス指定"
   ]
  },
  {
   "cell_type": "code",
   "execution_count": 2,
   "metadata": {},
   "outputs": [],
   "source": [
    "dataset = 'model/keypoint_classifier/keypoint.csv'\n",
    "model_save_path = 'model/keypoint_classifier/keypoint_classifier.hdf5'"
   ]
  },
  {
   "cell_type": "markdown",
   "metadata": {},
   "source": [
    "# 分類数設定"
   ]
  },
  {
   "cell_type": "code",
   "execution_count": 3,
   "metadata": {},
   "outputs": [],
   "source": [
    "NUM_CLASSES = 26"
   ]
  },
  {
   "cell_type": "markdown",
   "metadata": {},
   "source": [
    "# 学習データ読み込み"
   ]
  },
  {
   "cell_type": "code",
   "execution_count": 4,
   "metadata": {},
   "outputs": [],
   "source": [
    "X_dataset = np.loadtxt(dataset, delimiter=',', dtype='float32', usecols=list(range(1, (21 * 2) + 1)))"
   ]
  },
  {
   "cell_type": "code",
   "execution_count": 5,
   "metadata": {},
   "outputs": [],
   "source": [
    "y_dataset = np.loadtxt(dataset, delimiter=',', dtype='int32', usecols=(0))"
   ]
  },
  {
   "cell_type": "code",
   "execution_count": 6,
   "metadata": {},
   "outputs": [],
   "source": [
    "X_train, X_test, y_train, y_test = train_test_split(X_dataset, y_dataset, train_size=0.75, random_state=RANDOM_SEED)"
   ]
  },
  {
   "cell_type": "markdown",
   "metadata": {},
   "source": [
    "# モデル構築"
   ]
  },
  {
   "cell_type": "code",
   "execution_count": 7,
   "metadata": {},
   "outputs": [
    {
     "name": "stdout",
     "output_type": "stream",
     "text": [
      "WARNING:tensorflow:From C:\\ProgramData\\anaconda3\\Lib\\site-packages\\keras\\src\\backend.py:1398: The name tf.executing_eagerly_outside_functions is deprecated. Please use tf.compat.v1.executing_eagerly_outside_functions instead.\n",
      "\n"
     ]
    }
   ],
   "source": [
    "model = tf.keras.models.Sequential([\n",
    "    tf.keras.layers.Input((21 * 2, )),\n",
    "    tf.keras.layers.Dropout(0.2),\n",
    "    tf.keras.layers.Dense(800, activation='relu'),\n",
    "    tf.keras.layers.Dropout(0.4),\n",
    "    tf.keras.layers.Dense(400, activation='relu'),\n",
    "    tf.keras.layers.Dense(NUM_CLASSES, activation='softmax')\n",
    "])"
   ]
  },
  {
   "cell_type": "code",
   "execution_count": 8,
   "metadata": {},
   "outputs": [
    {
     "name": "stdout",
     "output_type": "stream",
     "text": [
      "Model: \"sequential\"\n",
      "_________________________________________________________________\n",
      " Layer (type)                Output Shape              Param #   \n",
      "=================================================================\n",
      " dropout (Dropout)           (None, 42)                0         \n",
      "                                                                 \n",
      " dense (Dense)               (None, 800)               34400     \n",
      "                                                                 \n",
      " dropout_1 (Dropout)         (None, 800)               0         \n",
      "                                                                 \n",
      " dense_1 (Dense)             (None, 400)               320400    \n",
      "                                                                 \n",
      " dense_2 (Dense)             (None, 26)                10426     \n",
      "                                                                 \n",
      "=================================================================\n",
      "Total params: 365226 (1.39 MB)\n",
      "Trainable params: 365226 (1.39 MB)\n",
      "Non-trainable params: 0 (0.00 Byte)\n",
      "_________________________________________________________________\n"
     ]
    }
   ],
   "source": [
    "model.summary()  # tf.keras.utils.plot_model(model, show_shapes=True)"
   ]
  },
  {
   "cell_type": "code",
   "execution_count": 9,
   "metadata": {},
   "outputs": [],
   "source": [
    "# モデルチェックポイントのコールバック\n",
    "cp_callback = tf.keras.callbacks.ModelCheckpoint(\n",
    "    model_save_path, verbose=1, save_weights_only=False)\n",
    "# 早期打ち切り用コールバック\n",
    "es_callback = tf.keras.callbacks.EarlyStopping(patience=20, verbose=1)"
   ]
  },
  {
   "cell_type": "code",
   "execution_count": 10,
   "metadata": {},
   "outputs": [
    {
     "name": "stdout",
     "output_type": "stream",
     "text": [
      "WARNING:tensorflow:From C:\\ProgramData\\anaconda3\\Lib\\site-packages\\keras\\src\\optimizers\\__init__.py:309: The name tf.train.Optimizer is deprecated. Please use tf.compat.v1.train.Optimizer instead.\n",
      "\n"
     ]
    }
   ],
   "source": [
    "# モデルコンパイル\n",
    "model.compile(\n",
    "    optimizer='adam',\n",
    "    loss='sparse_categorical_crossentropy',\n",
    "    metrics=['accuracy']\n",
    ")"
   ]
  },
  {
   "cell_type": "markdown",
   "metadata": {},
   "source": [
    "# モデル訓練"
   ]
  },
  {
   "cell_type": "code",
   "execution_count": 11,
   "metadata": {
    "scrolled": true
   },
   "outputs": [
    {
     "name": "stdout",
     "output_type": "stream",
     "text": [
      "Epoch 1/1000\n",
      "WARNING:tensorflow:From C:\\ProgramData\\anaconda3\\Lib\\site-packages\\keras\\src\\utils\\tf_utils.py:492: The name tf.ragged.RaggedTensorValue is deprecated. Please use tf.compat.v1.ragged.RaggedTensorValue instead.\n",
      "\n",
      "WARNING:tensorflow:From C:\\ProgramData\\anaconda3\\Lib\\site-packages\\keras\\src\\engine\\base_layer_utils.py:384: The name tf.executing_eagerly_outside_functions is deprecated. Please use tf.compat.v1.executing_eagerly_outside_functions instead.\n",
      "\n",
      "436/440 [============================>.] - ETA: 0s - loss: 0.9468 - accuracy: 0.6798\n",
      "Epoch 1: saving model to model/keypoint_classifier\\keypoint_classifier.hdf5\n",
      "440/440 [==============================] - 5s 8ms/step - loss: 0.9441 - accuracy: 0.6807 - val_loss: 0.2999 - val_accuracy: 0.8897\n",
      "Epoch 2/1000\n",
      " 13/440 [..............................] - ETA: 3s - loss: 0.5782 - accuracy: 0.7837"
     ]
    },
    {
     "name": "stderr",
     "output_type": "stream",
     "text": [
      "C:\\ProgramData\\anaconda3\\Lib\\site-packages\\keras\\src\\engine\\training.py:3103: UserWarning: You are saving your model as an HDF5 file via `model.save()`. This file format is considered legacy. We recommend using instead the native Keras format, e.g. `model.save('my_model.keras')`.\n",
      "  saving_api.save_model(\n"
     ]
    },
    {
     "name": "stdout",
     "output_type": "stream",
     "text": [
      "440/440 [==============================] - ETA: 0s - loss: 0.4518 - accuracy: 0.8416\n",
      "Epoch 2: saving model to model/keypoint_classifier\\keypoint_classifier.hdf5\n",
      "440/440 [==============================] - 3s 8ms/step - loss: 0.4518 - accuracy: 0.8416 - val_loss: 0.1445 - val_accuracy: 0.9782\n",
      "Epoch 3/1000\n",
      "440/440 [==============================] - ETA: 0s - loss: 0.3110 - accuracy: 0.8948\n",
      "Epoch 3: saving model to model/keypoint_classifier\\keypoint_classifier.hdf5\n",
      "440/440 [==============================] - 4s 8ms/step - loss: 0.3110 - accuracy: 0.8948 - val_loss: 0.0996 - val_accuracy: 0.9837\n",
      "Epoch 4/1000\n",
      "434/440 [============================>.] - ETA: 0s - loss: 0.2390 - accuracy: 0.9201\n",
      "Epoch 4: saving model to model/keypoint_classifier\\keypoint_classifier.hdf5\n",
      "440/440 [==============================] - 3s 8ms/step - loss: 0.2383 - accuracy: 0.9202 - val_loss: 0.0850 - val_accuracy: 0.9862\n",
      "Epoch 5/1000\n",
      "435/440 [============================>.] - ETA: 0s - loss: 0.1992 - accuracy: 0.9338\n",
      "Epoch 5: saving model to model/keypoint_classifier\\keypoint_classifier.hdf5\n",
      "440/440 [==============================] - 4s 8ms/step - loss: 0.1991 - accuracy: 0.9338 - val_loss: 0.0742 - val_accuracy: 0.9857\n",
      "Epoch 6/1000\n",
      "440/440 [==============================] - ETA: 0s - loss: 0.1731 - accuracy: 0.9413\n",
      "Epoch 6: saving model to model/keypoint_classifier\\keypoint_classifier.hdf5\n",
      "440/440 [==============================] - 3s 8ms/step - loss: 0.1731 - accuracy: 0.9413 - val_loss: 0.0714 - val_accuracy: 0.9909\n",
      "Epoch 7/1000\n",
      "438/440 [============================>.] - ETA: 0s - loss: 0.1521 - accuracy: 0.9502\n",
      "Epoch 7: saving model to model/keypoint_classifier\\keypoint_classifier.hdf5\n",
      "440/440 [==============================] - 3s 7ms/step - loss: 0.1520 - accuracy: 0.9503 - val_loss: 0.0790 - val_accuracy: 0.9843\n",
      "Epoch 8/1000\n",
      "438/440 [============================>.] - ETA: 0s - loss: 0.1407 - accuracy: 0.9533\n",
      "Epoch 8: saving model to model/keypoint_classifier\\keypoint_classifier.hdf5\n",
      "440/440 [==============================] - 3s 7ms/step - loss: 0.1408 - accuracy: 0.9533 - val_loss: 0.1041 - val_accuracy: 0.9706\n",
      "Epoch 9/1000\n",
      "438/440 [============================>.] - ETA: 0s - loss: 0.1302 - accuracy: 0.9564\n",
      "Epoch 9: saving model to model/keypoint_classifier\\keypoint_classifier.hdf5\n",
      "440/440 [==============================] - 3s 8ms/step - loss: 0.1303 - accuracy: 0.9563 - val_loss: 0.0660 - val_accuracy: 0.9869\n",
      "Epoch 10/1000\n",
      "435/440 [============================>.] - ETA: 0s - loss: 0.1165 - accuracy: 0.9618\n",
      "Epoch 10: saving model to model/keypoint_classifier\\keypoint_classifier.hdf5\n",
      "440/440 [==============================] - 4s 10ms/step - loss: 0.1168 - accuracy: 0.9616 - val_loss: 0.0541 - val_accuracy: 0.9910\n",
      "Epoch 11/1000\n",
      "437/440 [============================>.] - ETA: 0s - loss: 0.1148 - accuracy: 0.9621\n",
      "Epoch 11: saving model to model/keypoint_classifier\\keypoint_classifier.hdf5\n",
      "440/440 [==============================] - 3s 8ms/step - loss: 0.1147 - accuracy: 0.9621 - val_loss: 0.0922 - val_accuracy: 0.9814\n",
      "Epoch 12/1000\n",
      "438/440 [============================>.] - ETA: 0s - loss: 0.1073 - accuracy: 0.9646\n",
      "Epoch 12: saving model to model/keypoint_classifier\\keypoint_classifier.hdf5\n",
      "440/440 [==============================] - 3s 8ms/step - loss: 0.1073 - accuracy: 0.9647 - val_loss: 0.0683 - val_accuracy: 0.9841\n",
      "Epoch 13/1000\n",
      "433/440 [============================>.] - ETA: 0s - loss: 0.1052 - accuracy: 0.9650\n",
      "Epoch 13: saving model to model/keypoint_classifier\\keypoint_classifier.hdf5\n",
      "440/440 [==============================] - 3s 8ms/step - loss: 0.1053 - accuracy: 0.9651 - val_loss: 0.0532 - val_accuracy: 0.9891\n",
      "Epoch 14/1000\n",
      "437/440 [============================>.] - ETA: 0s - loss: 0.0978 - accuracy: 0.9666\n",
      "Epoch 14: saving model to model/keypoint_classifier\\keypoint_classifier.hdf5\n",
      "440/440 [==============================] - 4s 8ms/step - loss: 0.0978 - accuracy: 0.9666 - val_loss: 0.0400 - val_accuracy: 0.9958\n",
      "Epoch 15/1000\n",
      "433/440 [============================>.] - ETA: 0s - loss: 0.0953 - accuracy: 0.9683\n",
      "Epoch 15: saving model to model/keypoint_classifier\\keypoint_classifier.hdf5\n",
      "440/440 [==============================] - 4s 9ms/step - loss: 0.0948 - accuracy: 0.9685 - val_loss: 0.0443 - val_accuracy: 0.9934\n",
      "Epoch 16/1000\n",
      "438/440 [============================>.] - ETA: 0s - loss: 0.0901 - accuracy: 0.9692\n",
      "Epoch 16: saving model to model/keypoint_classifier\\keypoint_classifier.hdf5\n",
      "440/440 [==============================] - 3s 7ms/step - loss: 0.0902 - accuracy: 0.9691 - val_loss: 0.0939 - val_accuracy: 0.9672\n",
      "Epoch 17/1000\n",
      "433/440 [============================>.] - ETA: 0s - loss: 0.0858 - accuracy: 0.9705\n",
      "Epoch 17: saving model to model/keypoint_classifier\\keypoint_classifier.hdf5\n",
      "440/440 [==============================] - 3s 7ms/step - loss: 0.0859 - accuracy: 0.9705 - val_loss: 0.0417 - val_accuracy: 0.9923\n",
      "Epoch 18/1000\n",
      "434/440 [============================>.] - ETA: 0s - loss: 0.0814 - accuracy: 0.9738\n",
      "Epoch 18: saving model to model/keypoint_classifier\\keypoint_classifier.hdf5\n",
      "440/440 [==============================] - 4s 8ms/step - loss: 0.0813 - accuracy: 0.9737 - val_loss: 0.0504 - val_accuracy: 0.9896\n",
      "Epoch 19/1000\n",
      "434/440 [============================>.] - ETA: 0s - loss: 0.0793 - accuracy: 0.9734\n",
      "Epoch 19: saving model to model/keypoint_classifier\\keypoint_classifier.hdf5\n",
      "440/440 [==============================] - 3s 8ms/step - loss: 0.0791 - accuracy: 0.9734 - val_loss: 0.0333 - val_accuracy: 0.9942\n",
      "Epoch 20/1000\n",
      "434/440 [============================>.] - ETA: 0s - loss: 0.0751 - accuracy: 0.9750\n",
      "Epoch 20: saving model to model/keypoint_classifier\\keypoint_classifier.hdf5\n",
      "440/440 [==============================] - 3s 7ms/step - loss: 0.0753 - accuracy: 0.9748 - val_loss: 0.0567 - val_accuracy: 0.9883\n",
      "Epoch 21/1000\n",
      "439/440 [============================>.] - ETA: 0s - loss: 0.0735 - accuracy: 0.9754\n",
      "Epoch 21: saving model to model/keypoint_classifier\\keypoint_classifier.hdf5\n",
      "440/440 [==============================] - 3s 8ms/step - loss: 0.0735 - accuracy: 0.9754 - val_loss: 0.0431 - val_accuracy: 0.9932\n",
      "Epoch 22/1000\n",
      "436/440 [============================>.] - ETA: 0s - loss: 0.0749 - accuracy: 0.9746\n",
      "Epoch 22: saving model to model/keypoint_classifier\\keypoint_classifier.hdf5\n",
      "440/440 [==============================] - 3s 8ms/step - loss: 0.0749 - accuracy: 0.9745 - val_loss: 0.0431 - val_accuracy: 0.9918\n",
      "Epoch 23/1000\n",
      "439/440 [============================>.] - ETA: 0s - loss: 0.0684 - accuracy: 0.9774\n",
      "Epoch 23: saving model to model/keypoint_classifier\\keypoint_classifier.hdf5\n",
      "440/440 [==============================] - 3s 8ms/step - loss: 0.0684 - accuracy: 0.9774 - val_loss: 0.0506 - val_accuracy: 0.9914\n",
      "Epoch 24/1000\n",
      "436/440 [============================>.] - ETA: 0s - loss: 0.0686 - accuracy: 0.9768\n",
      "Epoch 24: saving model to model/keypoint_classifier\\keypoint_classifier.hdf5\n",
      "440/440 [==============================] - 3s 8ms/step - loss: 0.0691 - accuracy: 0.9767 - val_loss: 0.0673 - val_accuracy: 0.9802\n",
      "Epoch 25/1000\n",
      "438/440 [============================>.] - ETA: 0s - loss: 0.0672 - accuracy: 0.9777\n",
      "Epoch 25: saving model to model/keypoint_classifier\\keypoint_classifier.hdf5\n",
      "440/440 [==============================] - 3s 8ms/step - loss: 0.0673 - accuracy: 0.9777 - val_loss: 0.0588 - val_accuracy: 0.9849\n",
      "Epoch 26/1000\n",
      "436/440 [============================>.] - ETA: 0s - loss: 0.0658 - accuracy: 0.9784\n",
      "Epoch 26: saving model to model/keypoint_classifier\\keypoint_classifier.hdf5\n",
      "440/440 [==============================] - 3s 8ms/step - loss: 0.0660 - accuracy: 0.9783 - val_loss: 0.0594 - val_accuracy: 0.9840\n",
      "Epoch 27/1000\n",
      "437/440 [============================>.] - ETA: 0s - loss: 0.0667 - accuracy: 0.9784\n",
      "Epoch 27: saving model to model/keypoint_classifier\\keypoint_classifier.hdf5\n",
      "440/440 [==============================] - 3s 8ms/step - loss: 0.0666 - accuracy: 0.9784 - val_loss: 0.0381 - val_accuracy: 0.9928\n",
      "Epoch 28/1000\n",
      "437/440 [============================>.] - ETA: 0s - loss: 0.0625 - accuracy: 0.9794\n",
      "Epoch 28: saving model to model/keypoint_classifier\\keypoint_classifier.hdf5\n",
      "440/440 [==============================] - 3s 7ms/step - loss: 0.0624 - accuracy: 0.9794 - val_loss: 0.0614 - val_accuracy: 0.9860\n",
      "Epoch 29/1000\n",
      "436/440 [============================>.] - ETA: 0s - loss: 0.0609 - accuracy: 0.9798\n",
      "Epoch 29: saving model to model/keypoint_classifier\\keypoint_classifier.hdf5\n",
      "440/440 [==============================] - 3s 8ms/step - loss: 0.0610 - accuracy: 0.9798 - val_loss: 0.0373 - val_accuracy: 0.9922\n",
      "Epoch 30/1000\n",
      "440/440 [==============================] - ETA: 0s - loss: 0.0627 - accuracy: 0.9793\n",
      "Epoch 30: saving model to model/keypoint_classifier\\keypoint_classifier.hdf5\n",
      "440/440 [==============================] - 3s 8ms/step - loss: 0.0627 - accuracy: 0.9793 - val_loss: 0.0471 - val_accuracy: 0.9866\n",
      "Epoch 31/1000\n",
      "434/440 [============================>.] - ETA: 0s - loss: 0.0616 - accuracy: 0.9792\n",
      "Epoch 31: saving model to model/keypoint_classifier\\keypoint_classifier.hdf5\n",
      "440/440 [==============================] - 3s 7ms/step - loss: 0.0614 - accuracy: 0.9793 - val_loss: 0.0455 - val_accuracy: 0.9888\n",
      "Epoch 32/1000\n",
      "437/440 [============================>.] - ETA: 0s - loss: 0.0551 - accuracy: 0.9818\n",
      "Epoch 32: saving model to model/keypoint_classifier\\keypoint_classifier.hdf5\n",
      "440/440 [==============================] - 3s 7ms/step - loss: 0.0552 - accuracy: 0.9817 - val_loss: 0.0705 - val_accuracy: 0.9759\n",
      "Epoch 33/1000\n",
      "436/440 [============================>.] - ETA: 0s - loss: 0.0568 - accuracy: 0.9815\n",
      "Epoch 33: saving model to model/keypoint_classifier\\keypoint_classifier.hdf5\n",
      "440/440 [==============================] - 3s 7ms/step - loss: 0.0570 - accuracy: 0.9814 - val_loss: 0.0508 - val_accuracy: 0.9864\n",
      "Epoch 34/1000\n",
      "436/440 [============================>.] - ETA: 0s - loss: 0.0588 - accuracy: 0.9808\n",
      "Epoch 34: saving model to model/keypoint_classifier\\keypoint_classifier.hdf5\n",
      "440/440 [==============================] - 3s 7ms/step - loss: 0.0586 - accuracy: 0.9809 - val_loss: 0.0399 - val_accuracy: 0.9916\n",
      "Epoch 35/1000\n",
      "440/440 [==============================] - ETA: 0s - loss: 0.0568 - accuracy: 0.9814\n",
      "Epoch 35: saving model to model/keypoint_classifier\\keypoint_classifier.hdf5\n",
      "440/440 [==============================] - 3s 7ms/step - loss: 0.0568 - accuracy: 0.9814 - val_loss: 0.0556 - val_accuracy: 0.9828\n",
      "Epoch 36/1000\n",
      "435/440 [============================>.] - ETA: 0s - loss: 0.0565 - accuracy: 0.9815\n",
      "Epoch 36: saving model to model/keypoint_classifier\\keypoint_classifier.hdf5\n",
      "440/440 [==============================] - 3s 7ms/step - loss: 0.0566 - accuracy: 0.9814 - val_loss: 0.0591 - val_accuracy: 0.9809\n",
      "Epoch 37/1000\n",
      "440/440 [==============================] - ETA: 0s - loss: 0.0547 - accuracy: 0.9822\n",
      "Epoch 37: saving model to model/keypoint_classifier\\keypoint_classifier.hdf5\n",
      "440/440 [==============================] - 3s 7ms/step - loss: 0.0547 - accuracy: 0.9822 - val_loss: 0.0547 - val_accuracy: 0.9883\n",
      "Epoch 38/1000\n",
      "436/440 [============================>.] - ETA: 0s - loss: 0.0544 - accuracy: 0.9820\n",
      "Epoch 38: saving model to model/keypoint_classifier\\keypoint_classifier.hdf5\n",
      "440/440 [==============================] - 3s 7ms/step - loss: 0.0545 - accuracy: 0.9820 - val_loss: 0.0509 - val_accuracy: 0.9853\n",
      "Epoch 39/1000\n",
      "440/440 [==============================] - ETA: 0s - loss: 0.0536 - accuracy: 0.9832\n",
      "Epoch 39: saving model to model/keypoint_classifier\\keypoint_classifier.hdf5\n",
      "440/440 [==============================] - 3s 7ms/step - loss: 0.0536 - accuracy: 0.9832 - val_loss: 0.0401 - val_accuracy: 0.9895\n",
      "Epoch 39: early stopping\n"
     ]
    },
    {
     "data": {
      "text/plain": [
       "<keras.src.callbacks.History at 0x26858188090>"
      ]
     },
     "execution_count": 11,
     "metadata": {},
     "output_type": "execute_result"
    }
   ],
   "source": [
    "model.fit(\n",
    "    X_train,\n",
    "    y_train,\n",
    "    epochs=1000,\n",
    "    batch_size=128,\n",
    "    validation_data=(X_test, y_test),\n",
    "    callbacks=[cp_callback, es_callback]\n",
    ")"
   ]
  },
  {
   "cell_type": "code",
   "execution_count": 12,
   "metadata": {},
   "outputs": [
    {
     "name": "stdout",
     "output_type": "stream",
     "text": [
      "147/147 [==============================] - 0s 3ms/step - loss: 0.0401 - accuracy: 0.9895\n"
     ]
    }
   ],
   "source": [
    "# モデル評価\n",
    "val_loss, val_acc = model.evaluate(X_test, y_test, batch_size=128)"
   ]
  },
  {
   "cell_type": "code",
   "execution_count": 13,
   "metadata": {},
   "outputs": [],
   "source": [
    "# 保存したモデルのロード\n",
    "model = tf.keras.models.load_model(model_save_path)"
   ]
  },
  {
   "cell_type": "code",
   "execution_count": 14,
   "metadata": {},
   "outputs": [
    {
     "name": "stdout",
     "output_type": "stream",
     "text": [
      "1/1 [==============================] - 0s 104ms/step\n",
      "[7.9387108e-10 6.9379304e-08 5.0868385e-09 9.8309064e-01 6.0126246e-07\n",
      " 7.1845351e-12 2.8179501e-09 2.7609122e-09 6.3841964e-07 4.1517680e-07\n",
      " 4.4917399e-03 8.4957069e-10 1.3229306e-06 6.5063133e-09 1.3284505e-06\n",
      " 7.1447898e-10 1.6766992e-04 9.4275438e-06 6.3279748e-07 1.0430610e-02\n",
      " 1.7592843e-03 3.6421003e-05 5.5828823e-06 1.2362335e-13 1.0141994e-06\n",
      " 2.6790356e-06]\n",
      "3\n"
     ]
    }
   ],
   "source": [
    "# 推論テスト\n",
    "predict_result = model.predict(np.array([X_test[0]]))\n",
    "print(np.squeeze(predict_result))\n",
    "print(np.argmax(np.squeeze(predict_result)))"
   ]
  },
  {
   "cell_type": "markdown",
   "metadata": {},
   "source": [
    "# 混同行列"
   ]
  },
  {
   "cell_type": "code",
   "execution_count": 15,
   "metadata": {},
   "outputs": [
    {
     "name": "stdout",
     "output_type": "stream",
     "text": [
      "586/586 [==============================] - 1s 2ms/step\n"
     ]
    },
    {
     "data": {
      "image/png": "[encoded data removed]",
      "text/plain": [
       "<Figure size 700x600 with 2 Axes>"
      ]
     },
     "metadata": {},
     "output_type": "display_data"
    },
    {
     "name": "stdout",
     "output_type": "stream",
     "text": [
      "Classification Report\n",
      "              precision    recall  f1-score   support\n",
      "\n",
      "           0       1.00      0.97      0.99       324\n",
      "           1       0.99      1.00      1.00       247\n",
      "           2       0.99      1.00      1.00       919\n",
      "           3       0.99      1.00      0.99       286\n",
      "           4       1.00      1.00      1.00       465\n",
      "           5       1.00      1.00      1.00       361\n",
      "           6       1.00      1.00      1.00       523\n",
      "           7       0.99      1.00      1.00       879\n",
      "           8       1.00      0.96      0.98       215\n",
      "           9       1.00      1.00      1.00      1048\n",
      "          10       0.96      1.00      0.98       324\n",
      "          11       1.00      0.92      0.96      1365\n",
      "          12       0.91      1.00      0.95      1063\n",
      "          13       1.00      0.99      1.00      1052\n",
      "          14       1.00      0.99      1.00       353\n",
      "          15       1.00      0.98      0.99       214\n",
      "          16       1.00      0.99      0.99      1142\n",
      "          17       0.99      1.00      0.99      1309\n",
      "          18       1.00      0.96      0.98       590\n",
      "          19       0.99      0.99      0.99       781\n",
      "          20       0.99      1.00      0.99       645\n",
      "          21       1.00      1.00      1.00      1020\n",
      "          22       0.99      1.00      0.99      1864\n",
      "          23       1.00      1.00      1.00       738\n",
      "          24       1.00      1.00      1.00       538\n",
      "          25       1.00      1.00      1.00       471\n",
      "\n",
      "    accuracy                           0.99     18736\n",
      "   macro avg       0.99      0.99      0.99     18736\n",
      "weighted avg       0.99      0.99      0.99     18736\n",
      "\n"
     ]
    }
   ],
   "source": [
    "import pandas as pd\n",
    "import seaborn as sns\n",
    "import matplotlib.pyplot as plt\n",
    "from sklearn.metrics import confusion_matrix, classification_report\n",
    "\n",
    "def print_confusion_matrix(y_true, y_pred, report=True):\n",
    "    labels = sorted(list(set(y_true)))\n",
    "    cmx_data = confusion_matrix(y_true, y_pred, labels=labels)\n",
    "    \n",
    "    df_cmx = pd.DataFrame(cmx_data, index=labels, columns=labels)\n",
    " \n",
    "    fig, ax = plt.subplots(figsize=(7, 6))\n",
    "    sns.heatmap(df_cmx, annot=True, fmt='g' ,square=False)\n",
    "    ax.set_ylim(len(set(y_true)), 0)\n",
    "    plt.show()\n",
    "    \n",
    "    if report:\n",
    "        print('Classification Report')\n",
    "        print(classification_report(y_test, y_pred))\n",
    "\n",
    "Y_pred = model.predict(X_test)\n",
    "y_pred = np.argmax(Y_pred, axis=1)\n",
    "\n",
    "print_confusion_matrix(y_test, y_pred)"
   ]
  },
  {
   "cell_type": "markdown",
   "metadata": {},
   "source": [
    "# Tensorflow-Lite用のモデルへ変換"
   ]
  },
  {
   "cell_type": "code",
   "execution_count": 16,
   "metadata": {},
   "outputs": [
    {
     "name": "stderr",
     "output_type": "stream",
     "text": [
      "C:\\ProgramData\\anaconda3\\Lib\\site-packages\\keras\\src\\engine\\training.py:3103: UserWarning: You are saving your model as an HDF5 file via `model.save()`. This file format is considered legacy. We recommend using instead the native Keras format, e.g. `model.save('my_model.keras')`.\n",
      "  saving_api.save_model(\n"
     ]
    }
   ],
   "source": [
    "# 推論専用のモデルとして保存\n",
    "model.save(model_save_path, include_optimizer=False)"
   ]
  },
  {
   "cell_type": "code",
   "execution_count": 17,
   "metadata": {},
   "outputs": [
    {
     "name": "stdout",
     "output_type": "stream",
     "text": [
      "INFO:tensorflow:Assets written to: C:\\Users\\tanta\\AppData\\Local\\Temp\\tmpoxv21_fs\\assets\n"
     ]
    },
    {
     "name": "stderr",
     "output_type": "stream",
     "text": [
      "INFO:tensorflow:Assets written to: C:\\Users\\tanta\\AppData\\Local\\Temp\\tmpoxv21_fs\\assets\n"
     ]
    },
    {
     "data": {
      "text/plain": [
       "371168"
      ]
     },
     "execution_count": 17,
     "metadata": {},
     "output_type": "execute_result"
    }
   ],
   "source": [
    "# モデルを変換(量子化)\n",
    "tflite_save_path = 'model/keypoint_classifier/keypoint_classifier.tflite'\n",
    "\n",
    "converter = tf.lite.TFLiteConverter.from_keras_model(model)\n",
    "converter.optimizations = [tf.lite.Optimize.DEFAULT]\n",
    "tflite_quantized_model = converter.convert()\n",
    "\n",
    "open(tflite_save_path, 'wb').write(tflite_quantized_model)"
   ]
  },
  {
   "cell_type": "markdown",
   "metadata": {},
   "source": [
    "# 推論テスト"
   ]
  },
  {
   "cell_type": "code",
   "execution_count": 18,
   "metadata": {},
   "outputs": [],
   "source": [
    "interpreter = tf.lite.Interpreter(model_path=tflite_save_path)\n",
    "interpreter.allocate_tensors()"
   ]
  },
  {
   "cell_type": "code",
   "execution_count": 19,
   "metadata": {},
   "outputs": [],
   "source": [
    "# 入出力テンソルを取得\n",
    "input_details = interpreter.get_input_details()\n",
    "output_details = interpreter.get_output_details()"
   ]
  },
  {
   "cell_type": "code",
   "execution_count": 20,
   "metadata": {},
   "outputs": [],
   "source": [
    "interpreter.set_tensor(input_details[0]['index'], np.array([X_test[0]]))"
   ]
  },
  {
   "cell_type": "code",
   "execution_count": 21,
   "metadata": {
    "scrolled": true
   },
   "outputs": [
    {
     "name": "stdout",
     "output_type": "stream",
     "text": [
      "CPU times: total: 0 ns\n",
      "Wall time: 5.99 ms\n"
     ]
    }
   ],
   "source": [
    "%%time\n",
    "# 推論実施\n",
    "interpreter.invoke()\n",
    "tflite_results = interpreter.get_tensor(output_details[0]['index'])"
   ]
  },
  {
   "cell_type": "code",
   "execution_count": 22,
   "metadata": {},
   "outputs": [
    {
     "name": "stdout",
     "output_type": "stream",
     "text": [
      "[5.3885324e-10 6.0902188e-08 4.3175135e-09 9.8466706e-01 4.9320778e-07\n",
      " 4.0666125e-12 2.1544941e-09 1.8876540e-09 5.4035053e-07 3.6657227e-07\n",
      " 3.8213544e-03 6.0610800e-10 1.0315491e-06 5.3856799e-09 1.1257641e-06\n",
      " 4.7292770e-10 1.5268968e-04 7.7090808e-06 7.1919436e-07 9.4686188e-03\n",
      " 1.8343130e-03 3.5581452e-05 5.5297610e-06 7.5100875e-14 7.1776299e-07\n",
      " 2.1475762e-06]\n",
      "3\n"
     ]
    }
   ],
   "source": [
    "print(np.squeeze(tflite_results))\n",
    "print(np.argmax(np.squeeze(tflite_results)))"
   ]
  }
 ],
 "metadata": {
  "kernelspec": {
   "display_name": "Python 3 (ipykernel)",
   "language": "python",
   "name": "python3"
  },
  "language_info": {
   "codemirror_mode": {
    "name": "ipython",
    "version": 3
   },
   "file_extension": ".py",
   "mimetype": "text/x-python",
   "name": "python",
   "nbconvert_exporter": "python",
   "pygments_lexer": "ipython3",
   "version": "3.11.5"
  }
 },
 "nbformat": 4,
 "nbformat_minor": 4
}
