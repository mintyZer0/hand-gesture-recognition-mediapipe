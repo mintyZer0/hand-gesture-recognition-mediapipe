{
 "cells": [
  {
   "cell_type": "code",
   "execution_count": 1,
   "metadata": {},
   "outputs": [
    {
     "name": "stdout",
     "output_type": "stream",
     "text": [
      "WARNING:tensorflow:From C:\\ProgramData\\anaconda3\\Lib\\site-packages\\keras\\src\\losses.py:2976: The name tf.losses.sparse_softmax_cross_entropy is deprecated. Please use tf.compat.v1.losses.sparse_softmax_cross_entropy instead.\n",
      "\n"
     ]
    }
   ],
   "source": [
    "import csv\n",
    "\n",
    "import numpy as np\n",
    "import tensorflow as tf\n",
    "from sklearn.model_selection import train_test_split\n",
    "\n",
    "RANDOM_SEED = 42"
   ]
  },
  {
   "cell_type": "markdown",
   "metadata": {},
   "source": [
    "# 各パス指定"
   ]
  },
  {
   "cell_type": "code",
   "execution_count": 2,
   "metadata": {},
   "outputs": [],
   "source": [
    "dataset = 'model/keypoint_classifier/keypoint.csv'\n",
    "model_save_path = 'model/keypoint_classifier/keypoint_classifier.hdf5'"
   ]
  },
  {
   "cell_type": "markdown",
   "metadata": {},
   "source": [
    "# 分類数設定"
   ]
  },
  {
   "cell_type": "code",
   "execution_count": 3,
   "metadata": {},
   "outputs": [],
   "source": [
    "NUM_CLASSES = 24"
   ]
  },
  {
   "cell_type": "markdown",
   "metadata": {},
   "source": [
    "# 学習データ読み込み"
   ]
  },
  {
   "cell_type": "code",
   "execution_count": 4,
   "metadata": {},
   "outputs": [],
   "source": [
    "X_dataset = np.loadtxt(dataset, delimiter=',', dtype='float32', usecols=list(range(1, (21 * 2) + 1)))"
   ]
  },
  {
   "cell_type": "code",
   "execution_count": 5,
   "metadata": {},
   "outputs": [],
   "source": [
    "y_dataset = np.loadtxt(dataset, delimiter=',', dtype='int32', usecols=(0))"
   ]
  },
  {
   "cell_type": "code",
   "execution_count": 6,
   "metadata": {},
   "outputs": [],
   "source": [
    "X_train, X_test, y_train, y_test = train_test_split(X_dataset, y_dataset, train_size=0.75, random_state=RANDOM_SEED)"
   ]
  },
  {
   "cell_type": "markdown",
   "metadata": {},
   "source": [
    "# モデル構築"
   ]
  },
  {
   "cell_type": "code",
   "execution_count": 7,
   "metadata": {},
   "outputs": [
    {
     "name": "stdout",
     "output_type": "stream",
     "text": [
      "WARNING:tensorflow:From C:\\ProgramData\\anaconda3\\Lib\\site-packages\\keras\\src\\backend.py:1398: The name tf.executing_eagerly_outside_functions is deprecated. Please use tf.compat.v1.executing_eagerly_outside_functions instead.\n",
      "\n"
     ]
    }
   ],
   "source": [
    "model = tf.keras.models.Sequential([\n",
    "    tf.keras.layers.Input((21 * 2, )),\n",
    "    tf.keras.layers.Dropout(0.2),\n",
    "    tf.keras.layers.Dense(200, activation='relu'),\n",
    "    tf.keras.layers.Dropout(0.4),\n",
    "    tf.keras.layers.Dense(80, activation='relu'),\n",
    "    tf.keras.layers.Dense(NUM_CLASSES, activation='softmax')\n",
    "])"
   ]
  },
  {
   "cell_type": "code",
   "execution_count": 8,
   "metadata": {},
   "outputs": [
    {
     "name": "stdout",
     "output_type": "stream",
     "text": [
      "Model: \"sequential\"\n",
      "_________________________________________________________________\n",
      " Layer (type)                Output Shape              Param #   \n",
      "=================================================================\n",
      " dropout (Dropout)           (None, 42)                0         \n",
      "                                                                 \n",
      " dense (Dense)               (None, 200)               8600      \n",
      "                                                                 \n",
      " dropout_1 (Dropout)         (None, 200)               0         \n",
      "                                                                 \n",
      " dense_1 (Dense)             (None, 80)                16080     \n",
      "                                                                 \n",
      " dense_2 (Dense)             (None, 24)                1944      \n",
      "                                                                 \n",
      "=================================================================\n",
      "Total params: 26624 (104.00 KB)\n",
      "Trainable params: 26624 (104.00 KB)\n",
      "Non-trainable params: 0 (0.00 Byte)\n",
      "_________________________________________________________________\n"
     ]
    }
   ],
   "source": [
    "model.summary()  # tf.keras.utils.plot_model(model, show_shapes=True)"
   ]
  },
  {
   "cell_type": "code",
   "execution_count": 9,
   "metadata": {},
   "outputs": [],
   "source": [
    "# モデルチェックポイントのコールバック\n",
    "cp_callback = tf.keras.callbacks.ModelCheckpoint(\n",
    "    model_save_path, verbose=1, save_weights_only=False)\n",
    "# 早期打ち切り用コールバック\n",
    "es_callback = tf.keras.callbacks.EarlyStopping(patience=20, verbose=1)"
   ]
  },
  {
   "cell_type": "code",
   "execution_count": 10,
   "metadata": {},
   "outputs": [
    {
     "name": "stdout",
     "output_type": "stream",
     "text": [
      "WARNING:tensorflow:From C:\\ProgramData\\anaconda3\\Lib\\site-packages\\keras\\src\\optimizers\\__init__.py:309: The name tf.train.Optimizer is deprecated. Please use tf.compat.v1.train.Optimizer instead.\n",
      "\n"
     ]
    }
   ],
   "source": [
    "# モデルコンパイル\n",
    "model.compile(\n",
    "    optimizer='adam',\n",
    "    loss='sparse_categorical_crossentropy',\n",
    "    metrics=['accuracy']\n",
    ")"
   ]
  },
  {
   "cell_type": "markdown",
   "metadata": {},
   "source": [
    "# モデル訓練"
   ]
  },
  {
   "cell_type": "code",
   "execution_count": 11,
   "metadata": {
    "scrolled": true
   },
   "outputs": [
    {
     "name": "stdout",
     "output_type": "stream",
     "text": [
      "Epoch 1/1000\n",
      "WARNING:tensorflow:From C:\\ProgramData\\anaconda3\\Lib\\site-packages\\keras\\src\\utils\\tf_utils.py:492: The name tf.ragged.RaggedTensorValue is deprecated. Please use tf.compat.v1.ragged.RaggedTensorValue instead.\n",
      "\n",
      "WARNING:tensorflow:From C:\\ProgramData\\anaconda3\\Lib\\site-packages\\keras\\src\\engine\\base_layer_utils.py:384: The name tf.executing_eagerly_outside_functions is deprecated. Please use tf.compat.v1.executing_eagerly_outside_functions instead.\n",
      "\n",
      "355/369 [===========================>..] - ETA: 0s - loss: 1.5282 - accuracy: 0.5002\n",
      "Epoch 1: saving model to model/keypoint_classifier\\keypoint_classifier.hdf5\n",
      "369/369 [==============================] - 3s 4ms/step - loss: 1.5087 - accuracy: 0.5047 - val_loss: 0.5958 - val_accuracy: 0.8182\n",
      "Epoch 2/1000\n",
      " 52/369 [===>..........................] - ETA: 0s - loss: 0.9430 - accuracy: 0.6647"
     ]
    },
    {
     "name": "stderr",
     "output_type": "stream",
     "text": [
      "C:\\ProgramData\\anaconda3\\Lib\\site-packages\\keras\\src\\engine\\training.py:3103: UserWarning: You are saving your model as an HDF5 file via `model.save()`. This file format is considered legacy. We recommend using instead the native Keras format, e.g. `model.save('my_model.keras')`.\n",
      "  saving_api.save_model(\n"
     ]
    },
    {
     "name": "stdout",
     "output_type": "stream",
     "text": [
      "359/369 [============================>.] - ETA: 0s - loss: 0.8383 - accuracy: 0.6954\n",
      "Epoch 2: saving model to model/keypoint_classifier\\keypoint_classifier.hdf5\n",
      "369/369 [==============================] - 1s 4ms/step - loss: 0.8352 - accuracy: 0.6965 - val_loss: 0.3760 - val_accuracy: 0.9093\n",
      "Epoch 3/1000\n",
      "362/369 [============================>.] - ETA: 0s - loss: 0.6583 - accuracy: 0.7601\n",
      "Epoch 3: saving model to model/keypoint_classifier\\keypoint_classifier.hdf5\n",
      "369/369 [==============================] - 1s 4ms/step - loss: 0.6562 - accuracy: 0.7611 - val_loss: 0.2872 - val_accuracy: 0.9527\n",
      "Epoch 4/1000\n",
      "368/369 [============================>.] - ETA: 0s - loss: 0.5542 - accuracy: 0.8021\n",
      "Epoch 4: saving model to model/keypoint_classifier\\keypoint_classifier.hdf5\n",
      "369/369 [==============================] - 1s 4ms/step - loss: 0.5544 - accuracy: 0.8020 - val_loss: 0.2114 - val_accuracy: 0.9701\n",
      "Epoch 5/1000\n",
      "363/369 [============================>.] - ETA: 0s - loss: 0.4703 - accuracy: 0.8331\n",
      "Epoch 5: saving model to model/keypoint_classifier\\keypoint_classifier.hdf5\n",
      "369/369 [==============================] - 1s 4ms/step - loss: 0.4700 - accuracy: 0.8334 - val_loss: 0.1844 - val_accuracy: 0.9746\n",
      "Epoch 6/1000\n",
      "353/369 [===========================>..] - ETA: 0s - loss: 0.4176 - accuracy: 0.8549\n",
      "Epoch 6: saving model to model/keypoint_classifier\\keypoint_classifier.hdf5\n",
      "369/369 [==============================] - 1s 4ms/step - loss: 0.4169 - accuracy: 0.8552 - val_loss: 0.1674 - val_accuracy: 0.9763\n",
      "Epoch 7/1000\n",
      "366/369 [============================>.] - ETA: 0s - loss: 0.3707 - accuracy: 0.8713\n",
      "Epoch 7: saving model to model/keypoint_classifier\\keypoint_classifier.hdf5\n",
      "369/369 [==============================] - 1s 4ms/step - loss: 0.3707 - accuracy: 0.8715 - val_loss: 0.1505 - val_accuracy: 0.9777\n",
      "Epoch 8/1000\n",
      "358/369 [============================>.] - ETA: 0s - loss: 0.3331 - accuracy: 0.8852\n",
      "Epoch 8: saving model to model/keypoint_classifier\\keypoint_classifier.hdf5\n",
      "369/369 [==============================] - 1s 4ms/step - loss: 0.3329 - accuracy: 0.8850 - val_loss: 0.1464 - val_accuracy: 0.9765\n",
      "Epoch 9/1000\n",
      "357/369 [============================>.] - ETA: 0s - loss: 0.3022 - accuracy: 0.8984\n",
      "Epoch 9: saving model to model/keypoint_classifier\\keypoint_classifier.hdf5\n",
      "369/369 [==============================] - 2s 4ms/step - loss: 0.3024 - accuracy: 0.8984 - val_loss: 0.1347 - val_accuracy: 0.9769\n",
      "Epoch 10/1000\n",
      "363/369 [============================>.] - ETA: 0s - loss: 0.2788 - accuracy: 0.9052\n",
      "Epoch 10: saving model to model/keypoint_classifier\\keypoint_classifier.hdf5\n",
      "369/369 [==============================] - 2s 6ms/step - loss: 0.2796 - accuracy: 0.9051 - val_loss: 0.1278 - val_accuracy: 0.9767\n",
      "Epoch 11/1000\n",
      "364/369 [============================>.] - ETA: 0s - loss: 0.2604 - accuracy: 0.9128\n",
      "Epoch 11: saving model to model/keypoint_classifier\\keypoint_classifier.hdf5\n",
      "369/369 [==============================] - 2s 6ms/step - loss: 0.2597 - accuracy: 0.9130 - val_loss: 0.1288 - val_accuracy: 0.9727\n",
      "Epoch 12/1000\n",
      "368/369 [============================>.] - ETA: 0s - loss: 0.2490 - accuracy: 0.9166\n",
      "Epoch 12: saving model to model/keypoint_classifier\\keypoint_classifier.hdf5\n",
      "369/369 [==============================] - 2s 6ms/step - loss: 0.2490 - accuracy: 0.9166 - val_loss: 0.1536 - val_accuracy: 0.9552\n",
      "Epoch 13/1000\n",
      "362/369 [============================>.] - ETA: 0s - loss: 0.2363 - accuracy: 0.9217\n",
      "Epoch 13: saving model to model/keypoint_classifier\\keypoint_classifier.hdf5\n",
      "369/369 [==============================] - 2s 5ms/step - loss: 0.2360 - accuracy: 0.9218 - val_loss: 0.1486 - val_accuracy: 0.9607\n",
      "Epoch 14/1000\n",
      "359/369 [============================>.] - ETA: 0s - loss: 0.2225 - accuracy: 0.9259\n",
      "Epoch 14: saving model to model/keypoint_classifier\\keypoint_classifier.hdf5\n",
      "369/369 [==============================] - 1s 3ms/step - loss: 0.2225 - accuracy: 0.9260 - val_loss: 0.1180 - val_accuracy: 0.9752\n",
      "Epoch 15/1000\n",
      "365/369 [============================>.] - ETA: 0s - loss: 0.2089 - accuracy: 0.9307\n",
      "Epoch 15: saving model to model/keypoint_classifier\\keypoint_classifier.hdf5\n",
      "369/369 [==============================] - 1s 4ms/step - loss: 0.2091 - accuracy: 0.9305 - val_loss: 0.1467 - val_accuracy: 0.9564\n",
      "Epoch 16/1000\n",
      "365/369 [============================>.] - ETA: 0s - loss: 0.2061 - accuracy: 0.9321\n",
      "Epoch 16: saving model to model/keypoint_classifier\\keypoint_classifier.hdf5\n",
      "369/369 [==============================] - 1s 4ms/step - loss: 0.2056 - accuracy: 0.9322 - val_loss: 0.1188 - val_accuracy: 0.9737\n",
      "Epoch 17/1000\n",
      "367/369 [============================>.] - ETA: 0s - loss: 0.1941 - accuracy: 0.9359\n",
      "Epoch 17: saving model to model/keypoint_classifier\\keypoint_classifier.hdf5\n",
      "369/369 [==============================] - 3s 8ms/step - loss: 0.1942 - accuracy: 0.9359 - val_loss: 0.1519 - val_accuracy: 0.9543\n",
      "Epoch 18/1000\n",
      "354/369 [===========================>..] - ETA: 0s - loss: 0.1895 - accuracy: 0.9374\n",
      "Epoch 18: saving model to model/keypoint_classifier\\keypoint_classifier.hdf5\n",
      "369/369 [==============================] - 2s 4ms/step - loss: 0.1891 - accuracy: 0.9374 - val_loss: 0.1704 - val_accuracy: 0.9400\n",
      "Epoch 19/1000\n",
      "365/369 [============================>.] - ETA: 0s - loss: 0.1835 - accuracy: 0.9387\n",
      "Epoch 19: saving model to model/keypoint_classifier\\keypoint_classifier.hdf5\n",
      "369/369 [==============================] - 1s 4ms/step - loss: 0.1839 - accuracy: 0.9386 - val_loss: 0.1421 - val_accuracy: 0.9551\n",
      "Epoch 20/1000\n",
      "362/369 [============================>.] - ETA: 0s - loss: 0.1750 - accuracy: 0.9436\n",
      "Epoch 20: saving model to model/keypoint_classifier\\keypoint_classifier.hdf5\n",
      "369/369 [==============================] - 1s 3ms/step - loss: 0.1748 - accuracy: 0.9436 - val_loss: 0.1233 - val_accuracy: 0.9699\n",
      "Epoch 21/1000\n",
      "362/369 [============================>.] - ETA: 0s - loss: 0.1693 - accuracy: 0.9458\n",
      "Epoch 21: saving model to model/keypoint_classifier\\keypoint_classifier.hdf5\n",
      "369/369 [==============================] - 2s 4ms/step - loss: 0.1693 - accuracy: 0.9455 - val_loss: 0.1300 - val_accuracy: 0.9644\n",
      "Epoch 22/1000\n",
      "357/369 [============================>.] - ETA: 0s - loss: 0.1657 - accuracy: 0.9457\n",
      "Epoch 22: saving model to model/keypoint_classifier\\keypoint_classifier.hdf5\n",
      "369/369 [==============================] - 1s 4ms/step - loss: 0.1672 - accuracy: 0.9453 - val_loss: 0.1262 - val_accuracy: 0.9684\n",
      "Epoch 23/1000\n",
      "363/369 [============================>.] - ETA: 0s - loss: 0.1605 - accuracy: 0.9470\n",
      "Epoch 23: saving model to model/keypoint_classifier\\keypoint_classifier.hdf5\n",
      "369/369 [==============================] - 1s 3ms/step - loss: 0.1605 - accuracy: 0.9470 - val_loss: 0.1144 - val_accuracy: 0.9725\n",
      "Epoch 24/1000\n",
      "356/369 [===========================>..] - ETA: 0s - loss: 0.1548 - accuracy: 0.9486\n",
      "Epoch 24: saving model to model/keypoint_classifier\\keypoint_classifier.hdf5\n",
      "369/369 [==============================] - 1s 3ms/step - loss: 0.1547 - accuracy: 0.9485 - val_loss: 0.1399 - val_accuracy: 0.9543\n",
      "Epoch 25/1000\n",
      "361/369 [============================>.] - ETA: 0s - loss: 0.1498 - accuracy: 0.9516\n",
      "Epoch 25: saving model to model/keypoint_classifier\\keypoint_classifier.hdf5\n",
      "369/369 [==============================] - 1s 4ms/step - loss: 0.1503 - accuracy: 0.9514 - val_loss: 0.1170 - val_accuracy: 0.9657\n",
      "Epoch 26/1000\n",
      "362/369 [============================>.] - ETA: 0s - loss: 0.1500 - accuracy: 0.9515\n",
      "Epoch 26: saving model to model/keypoint_classifier\\keypoint_classifier.hdf5\n",
      "369/369 [==============================] - 2s 4ms/step - loss: 0.1504 - accuracy: 0.9515 - val_loss: 0.1472 - val_accuracy: 0.9531\n",
      "Epoch 27/1000\n",
      "363/369 [============================>.] - ETA: 0s - loss: 0.1452 - accuracy: 0.9527\n",
      "Epoch 27: saving model to model/keypoint_classifier\\keypoint_classifier.hdf5\n",
      "369/369 [==============================] - 2s 4ms/step - loss: 0.1452 - accuracy: 0.9526 - val_loss: 0.1508 - val_accuracy: 0.9551\n",
      "Epoch 28/1000\n",
      "355/369 [===========================>..] - ETA: 0s - loss: 0.1428 - accuracy: 0.9532\n",
      "Epoch 28: saving model to model/keypoint_classifier\\keypoint_classifier.hdf5\n",
      "369/369 [==============================] - 2s 4ms/step - loss: 0.1431 - accuracy: 0.9531 - val_loss: 0.1734 - val_accuracy: 0.9475\n",
      "Epoch 29/1000\n",
      "366/369 [============================>.] - ETA: 0s - loss: 0.1391 - accuracy: 0.9553\n",
      "Epoch 29: saving model to model/keypoint_classifier\\keypoint_classifier.hdf5\n",
      "369/369 [==============================] - 1s 4ms/step - loss: 0.1392 - accuracy: 0.9553 - val_loss: 0.1566 - val_accuracy: 0.9497\n",
      "Epoch 30/1000\n",
      "366/369 [============================>.] - ETA: 0s - loss: 0.1368 - accuracy: 0.9554\n",
      "Epoch 30: saving model to model/keypoint_classifier\\keypoint_classifier.hdf5\n",
      "369/369 [==============================] - 1s 4ms/step - loss: 0.1366 - accuracy: 0.9554 - val_loss: 0.1445 - val_accuracy: 0.9517\n",
      "Epoch 31/1000\n",
      "353/369 [===========================>..] - ETA: 0s - loss: 0.1391 - accuracy: 0.9549\n",
      "Epoch 31: saving model to model/keypoint_classifier\\keypoint_classifier.hdf5\n",
      "369/369 [==============================] - 1s 4ms/step - loss: 0.1395 - accuracy: 0.9549 - val_loss: 0.1320 - val_accuracy: 0.9630\n",
      "Epoch 32/1000\n",
      "365/369 [============================>.] - ETA: 0s - loss: 0.1314 - accuracy: 0.9573\n",
      "Epoch 32: saving model to model/keypoint_classifier\\keypoint_classifier.hdf5\n",
      "369/369 [==============================] - 1s 4ms/step - loss: 0.1312 - accuracy: 0.9573 - val_loss: 0.1576 - val_accuracy: 0.9461\n",
      "Epoch 33/1000\n",
      "357/369 [============================>.] - ETA: 0s - loss: 0.1254 - accuracy: 0.9589\n",
      "Epoch 33: saving model to model/keypoint_classifier\\keypoint_classifier.hdf5\n",
      "369/369 [==============================] - 1s 4ms/step - loss: 0.1254 - accuracy: 0.9589 - val_loss: 0.1309 - val_accuracy: 0.9631\n",
      "Epoch 34/1000\n",
      "361/369 [============================>.] - ETA: 0s - loss: 0.1302 - accuracy: 0.9583\n",
      "Epoch 34: saving model to model/keypoint_classifier\\keypoint_classifier.hdf5\n",
      "369/369 [==============================] - 1s 4ms/step - loss: 0.1295 - accuracy: 0.9583 - val_loss: 0.1755 - val_accuracy: 0.9456\n",
      "Epoch 35/1000\n",
      "355/369 [===========================>..] - ETA: 0s - loss: 0.1221 - accuracy: 0.9609\n",
      "Epoch 35: saving model to model/keypoint_classifier\\keypoint_classifier.hdf5\n",
      "369/369 [==============================] - 2s 5ms/step - loss: 0.1227 - accuracy: 0.9605 - val_loss: 0.1562 - val_accuracy: 0.9455\n",
      "Epoch 36/1000\n",
      "354/369 [===========================>..] - ETA: 0s - loss: 0.1193 - accuracy: 0.9616\n",
      "Epoch 36: saving model to model/keypoint_classifier\\keypoint_classifier.hdf5\n",
      "369/369 [==============================] - 1s 4ms/step - loss: 0.1190 - accuracy: 0.9615 - val_loss: 0.1290 - val_accuracy: 0.9594\n",
      "Epoch 37/1000\n",
      "363/369 [============================>.] - ETA: 0s - loss: 0.1199 - accuracy: 0.9612\n",
      "Epoch 37: saving model to model/keypoint_classifier\\keypoint_classifier.hdf5\n",
      "369/369 [==============================] - 2s 4ms/step - loss: 0.1199 - accuracy: 0.9612 - val_loss: 0.1415 - val_accuracy: 0.9589\n",
      "Epoch 38/1000\n",
      "362/369 [============================>.] - ETA: 0s - loss: 0.1207 - accuracy: 0.9617\n",
      "Epoch 38: saving model to model/keypoint_classifier\\keypoint_classifier.hdf5\n",
      "369/369 [==============================] - 2s 5ms/step - loss: 0.1208 - accuracy: 0.9616 - val_loss: 0.1941 - val_accuracy: 0.9315\n",
      "Epoch 39/1000\n",
      "363/369 [============================>.] - ETA: 0s - loss: 0.1155 - accuracy: 0.9622\n",
      "Epoch 39: saving model to model/keypoint_classifier\\keypoint_classifier.hdf5\n",
      "369/369 [==============================] - 2s 5ms/step - loss: 0.1153 - accuracy: 0.9622 - val_loss: 0.1420 - val_accuracy: 0.9544\n",
      "Epoch 40/1000\n",
      "356/369 [===========================>..] - ETA: 0s - loss: 0.1168 - accuracy: 0.9612\n",
      "Epoch 40: saving model to model/keypoint_classifier\\keypoint_classifier.hdf5\n",
      "369/369 [==============================] - 2s 4ms/step - loss: 0.1171 - accuracy: 0.9613 - val_loss: 0.1075 - val_accuracy: 0.9733\n",
      "Epoch 41/1000\n",
      "365/369 [============================>.] - ETA: 0s - loss: 0.1123 - accuracy: 0.9632\n",
      "Epoch 41: saving model to model/keypoint_classifier\\keypoint_classifier.hdf5\n",
      "369/369 [==============================] - 2s 4ms/step - loss: 0.1124 - accuracy: 0.9633 - val_loss: 0.1432 - val_accuracy: 0.9563\n",
      "Epoch 42/1000\n",
      "362/369 [============================>.] - ETA: 0s - loss: 0.1108 - accuracy: 0.9640\n",
      "Epoch 42: saving model to model/keypoint_classifier\\keypoint_classifier.hdf5\n",
      "369/369 [==============================] - 2s 4ms/step - loss: 0.1111 - accuracy: 0.9640 - val_loss: 0.1789 - val_accuracy: 0.9384\n",
      "Epoch 43/1000\n",
      "369/369 [==============================] - ETA: 0s - loss: 0.1095 - accuracy: 0.9644\n",
      "Epoch 43: saving model to model/keypoint_classifier\\keypoint_classifier.hdf5\n",
      "369/369 [==============================] - 2s 4ms/step - loss: 0.1095 - accuracy: 0.9644 - val_loss: 0.1753 - val_accuracy: 0.9478\n",
      "Epoch 44/1000\n",
      "360/369 [============================>.] - ETA: 0s - loss: 0.1091 - accuracy: 0.9643\n",
      "Epoch 44: saving model to model/keypoint_classifier\\keypoint_classifier.hdf5\n",
      "369/369 [==============================] - 1s 4ms/step - loss: 0.1096 - accuracy: 0.9643 - val_loss: 0.1478 - val_accuracy: 0.9461\n",
      "Epoch 45/1000\n",
      "367/369 [============================>.] - ETA: 0s - loss: 0.1046 - accuracy: 0.9667\n",
      "Epoch 45: saving model to model/keypoint_classifier\\keypoint_classifier.hdf5\n",
      "369/369 [==============================] - 1s 4ms/step - loss: 0.1046 - accuracy: 0.9667 - val_loss: 0.1300 - val_accuracy: 0.9611\n",
      "Epoch 46/1000\n",
      "361/369 [============================>.] - ETA: 0s - loss: 0.1043 - accuracy: 0.9657\n",
      "Epoch 46: saving model to model/keypoint_classifier\\keypoint_classifier.hdf5\n",
      "369/369 [==============================] - 1s 4ms/step - loss: 0.1037 - accuracy: 0.9659 - val_loss: 0.1360 - val_accuracy: 0.9617\n",
      "Epoch 47/1000\n",
      "359/369 [============================>.] - ETA: 0s - loss: 0.1023 - accuracy: 0.9664\n",
      "Epoch 47: saving model to model/keypoint_classifier\\keypoint_classifier.hdf5\n",
      "369/369 [==============================] - 2s 4ms/step - loss: 0.1030 - accuracy: 0.9664 - val_loss: 0.1904 - val_accuracy: 0.9333\n",
      "Epoch 48/1000\n",
      "360/369 [============================>.] - ETA: 0s - loss: 0.1005 - accuracy: 0.9675\n",
      "Epoch 48: saving model to model/keypoint_classifier\\keypoint_classifier.hdf5\n",
      "369/369 [==============================] - 1s 4ms/step - loss: 0.1004 - accuracy: 0.9676 - val_loss: 0.1517 - val_accuracy: 0.9466\n",
      "Epoch 49/1000\n",
      "362/369 [============================>.] - ETA: 0s - loss: 0.1020 - accuracy: 0.9665\n",
      "Epoch 49: saving model to model/keypoint_classifier\\keypoint_classifier.hdf5\n",
      "369/369 [==============================] - 1s 4ms/step - loss: 0.1018 - accuracy: 0.9665 - val_loss: 0.1261 - val_accuracy: 0.9679\n",
      "Epoch 50/1000\n",
      "363/369 [============================>.] - ETA: 0s - loss: 0.0994 - accuracy: 0.9683\n",
      "Epoch 50: saving model to model/keypoint_classifier\\keypoint_classifier.hdf5\n",
      "369/369 [==============================] - 1s 4ms/step - loss: 0.0992 - accuracy: 0.9684 - val_loss: 0.1604 - val_accuracy: 0.9436\n",
      "Epoch 51/1000\n",
      "361/369 [============================>.] - ETA: 0s - loss: 0.0978 - accuracy: 0.9681\n",
      "Epoch 51: saving model to model/keypoint_classifier\\keypoint_classifier.hdf5\n",
      "369/369 [==============================] - 2s 4ms/step - loss: 0.0982 - accuracy: 0.9681 - val_loss: 0.2012 - val_accuracy: 0.9284\n",
      "Epoch 52/1000\n",
      "362/369 [============================>.] - ETA: 0s - loss: 0.0990 - accuracy: 0.9683\n",
      "Epoch 52: saving model to model/keypoint_classifier\\keypoint_classifier.hdf5\n",
      "369/369 [==============================] - 1s 4ms/step - loss: 0.0990 - accuracy: 0.9683 - val_loss: 0.2034 - val_accuracy: 0.9324\n",
      "Epoch 53/1000\n",
      "362/369 [============================>.] - ETA: 0s - loss: 0.0973 - accuracy: 0.9678\n",
      "Epoch 53: saving model to model/keypoint_classifier\\keypoint_classifier.hdf5\n",
      "369/369 [==============================] - 1s 4ms/step - loss: 0.0975 - accuracy: 0.9678 - val_loss: 0.1758 - val_accuracy: 0.9328\n",
      "Epoch 54/1000\n",
      "364/369 [============================>.] - ETA: 0s - loss: 0.0968 - accuracy: 0.9700\n",
      "Epoch 54: saving model to model/keypoint_classifier\\keypoint_classifier.hdf5\n",
      "369/369 [==============================] - 1s 4ms/step - loss: 0.0966 - accuracy: 0.9700 - val_loss: 0.1892 - val_accuracy: 0.9335\n",
      "Epoch 55/1000\n",
      "355/369 [===========================>..] - ETA: 0s - loss: 0.0944 - accuracy: 0.9703\n",
      "Epoch 55: saving model to model/keypoint_classifier\\keypoint_classifier.hdf5\n",
      "369/369 [==============================] - 1s 4ms/step - loss: 0.0946 - accuracy: 0.9702 - val_loss: 0.1772 - val_accuracy: 0.9357\n",
      "Epoch 56/1000\n",
      "351/369 [===========================>..] - ETA: 0s - loss: 0.0959 - accuracy: 0.9684\n",
      "Epoch 56: saving model to model/keypoint_classifier\\keypoint_classifier.hdf5\n",
      "369/369 [==============================] - 1s 4ms/step - loss: 0.0960 - accuracy: 0.9681 - val_loss: 0.1630 - val_accuracy: 0.9431\n",
      "Epoch 57/1000\n",
      "364/369 [============================>.] - ETA: 0s - loss: 0.0935 - accuracy: 0.9703\n",
      "Epoch 57: saving model to model/keypoint_classifier\\keypoint_classifier.hdf5\n",
      "369/369 [==============================] - 1s 4ms/step - loss: 0.0935 - accuracy: 0.9702 - val_loss: 0.1949 - val_accuracy: 0.9306\n",
      "Epoch 58/1000\n",
      "360/369 [============================>.] - ETA: 0s - loss: 0.0944 - accuracy: 0.9700\n",
      "Epoch 58: saving model to model/keypoint_classifier\\keypoint_classifier.hdf5\n",
      "369/369 [==============================] - 1s 4ms/step - loss: 0.0942 - accuracy: 0.9701 - val_loss: 0.2160 - val_accuracy: 0.9265\n",
      "Epoch 59/1000\n",
      "368/369 [============================>.] - ETA: 0s - loss: 0.0918 - accuracy: 0.9704\n",
      "Epoch 59: saving model to model/keypoint_classifier\\keypoint_classifier.hdf5\n",
      "369/369 [==============================] - 1s 4ms/step - loss: 0.0919 - accuracy: 0.9705 - val_loss: 0.1325 - val_accuracy: 0.9577\n",
      "Epoch 60/1000\n",
      "365/369 [============================>.] - ETA: 0s - loss: 0.0887 - accuracy: 0.9713\n",
      "Epoch 60: saving model to model/keypoint_classifier\\keypoint_classifier.hdf5\n",
      "369/369 [==============================] - 1s 4ms/step - loss: 0.0891 - accuracy: 0.9712 - val_loss: 0.1502 - val_accuracy: 0.9538\n",
      "Epoch 60: early stopping\n"
     ]
    },
    {
     "data": {
      "text/plain": [
       "<keras.src.callbacks.History at 0x1eee61e4710>"
      ]
     },
     "execution_count": 11,
     "metadata": {},
     "output_type": "execute_result"
    }
   ],
   "source": [
    "model.fit(\n",
    "    X_train,\n",
    "    y_train,\n",
    "    epochs=1000,\n",
    "    batch_size=128,\n",
    "    validation_data=(X_test, y_test),\n",
    "    callbacks=[cp_callback, es_callback]\n",
    ")"
   ]
  },
  {
   "cell_type": "code",
   "execution_count": 12,
   "metadata": {},
   "outputs": [
    {
     "name": "stdout",
     "output_type": "stream",
     "text": [
      "123/123 [==============================] - 0s 2ms/step - loss: 0.1502 - accuracy: 0.9538\n"
     ]
    }
   ],
   "source": [
    "# モデル評価\n",
    "val_loss, val_acc = model.evaluate(X_test, y_test, batch_size=128)"
   ]
  },
  {
   "cell_type": "code",
   "execution_count": 13,
   "metadata": {},
   "outputs": [],
   "source": [
    "# 保存したモデルのロード\n",
    "model = tf.keras.models.load_model(model_save_path)"
   ]
  },
  {
   "cell_type": "code",
   "execution_count": 14,
   "metadata": {},
   "outputs": [
    {
     "name": "stdout",
     "output_type": "stream",
     "text": [
      "1/1 [==============================] - 0s 122ms/step\n",
      "[7.4488689e-08 2.4377380e-07 9.1009188e-01 5.2681368e-22 4.2893575e-07\n",
      " 2.9658177e-05 4.0499423e-15 6.0298094e-10 2.8363092e-05 3.1000074e-08\n",
      " 8.3650686e-13 7.4740534e-13 5.2860228e-18 8.9724556e-02 5.0204589e-12\n",
      " 3.7112780e-08 1.8498893e-11 1.2477594e-04 1.4719003e-12 2.7001426e-20\n",
      " 2.2592918e-20 3.4967904e-09 3.7515258e-11 8.1047255e-15]\n",
      "2\n"
     ]
    }
   ],
   "source": [
    "# 推論テスト\n",
    "predict_result = model.predict(np.array([X_test[0]]))\n",
    "print(np.squeeze(predict_result))\n",
    "print(np.argmax(np.squeeze(predict_result)))"
   ]
  },
  {
   "cell_type": "markdown",
   "metadata": {},
   "source": [
    "# 混同行列"
   ]
  },
  {
   "cell_type": "code",
   "execution_count": 15,
   "metadata": {},
   "outputs": [
    {
     "name": "stdout",
     "output_type": "stream",
     "text": [
      "492/492 [==============================] - 1s 2ms/step\n"
     ]
    },
    {
     "data": {
      "image/png": "[encoded data removed]",
      "text/plain": [
       "<Figure size 700x600 with 2 Axes>"
      ]
     },
     "metadata": {},
     "output_type": "display_data"
    },
    {
     "name": "stdout",
     "output_type": "stream",
     "text": [
      "Classification Report\n",
      "              precision    recall  f1-score   support\n",
      "\n",
      "           0       1.00      0.97      0.99       343\n",
      "           1       0.97      0.99      0.98       251\n",
      "           2       1.00      0.93      0.97       928\n",
      "           3       0.96      1.00      0.98       279\n",
      "           4       1.00      0.98      0.99       433\n",
      "           5       0.97      0.92      0.94       109\n",
      "           6       1.00      0.99      0.99       513\n",
      "           7       0.92      0.94      0.93       131\n",
      "           8       0.97      0.94      0.95       217\n",
      "           9       1.00      0.73      0.85       146\n",
      "          10       0.99      0.99      0.99       329\n",
      "          11       1.00      0.99      0.99      1353\n",
      "          12       0.99      1.00      1.00      1074\n",
      "          13       0.94      1.00      0.97      1056\n",
      "          14       0.97      0.99      0.98       340\n",
      "          15       1.00      1.00      1.00       235\n",
      "          16       0.98      0.98      0.98      1187\n",
      "          17       0.98      1.00      0.99      1328\n",
      "          18       1.00      0.61      0.76      1308\n",
      "          19       0.97      0.99      0.98       757\n",
      "          20       0.97      0.98      0.98       656\n",
      "          21       1.00      1.00      1.00       988\n",
      "          22       0.67      1.00      0.80      1035\n",
      "          23       0.99      1.00      1.00       723\n",
      "\n",
      "    accuracy                           0.95     15719\n",
      "   macro avg       0.97      0.96      0.96     15719\n",
      "weighted avg       0.96      0.95      0.95     15719\n",
      "\n"
     ]
    }
   ],
   "source": [
    "import pandas as pd\n",
    "import seaborn as sns\n",
    "import matplotlib.pyplot as plt\n",
    "from sklearn.metrics import confusion_matrix, classification_report\n",
    "\n",
    "def print_confusion_matrix(y_true, y_pred, report=True):\n",
    "    labels = sorted(list(set(y_true)))\n",
    "    cmx_data = confusion_matrix(y_true, y_pred, labels=labels)\n",
    "    \n",
    "    df_cmx = pd.DataFrame(cmx_data, index=labels, columns=labels)\n",
    " \n",
    "    fig, ax = plt.subplots(figsize=(7, 6))\n",
    "    sns.heatmap(df_cmx, annot=True, fmt='g' ,square=False)\n",
    "    ax.set_ylim(len(set(y_true)), 0)\n",
    "    plt.show()\n",
    "    \n",
    "    if report:\n",
    "        print('Classification Report')\n",
    "        print(classification_report(y_test, y_pred))\n",
    "\n",
    "Y_pred = model.predict(X_test)\n",
    "y_pred = np.argmax(Y_pred, axis=1)\n",
    "\n",
    "print_confusion_matrix(y_test, y_pred)"
   ]
  },
  {
   "cell_type": "markdown",
   "metadata": {},
   "source": [
    "# Tensorflow-Lite用のモデルへ変換"
   ]
  },
  {
   "cell_type": "code",
   "execution_count": 16,
   "metadata": {},
   "outputs": [
    {
     "name": "stderr",
     "output_type": "stream",
     "text": [
      "C:\\ProgramData\\anaconda3\\Lib\\site-packages\\keras\\src\\engine\\training.py:3103: UserWarning: You are saving your model as an HDF5 file via `model.save()`. This file format is considered legacy. We recommend using instead the native Keras format, e.g. `model.save('my_model.keras')`.\n",
      "  saving_api.save_model(\n"
     ]
    }
   ],
   "source": [
    "# 推論専用のモデルとして保存\n",
    "model.save(model_save_path, include_optimizer=False)"
   ]
  },
  {
   "cell_type": "code",
   "execution_count": 17,
   "metadata": {},
   "outputs": [
    {
     "name": "stdout",
     "output_type": "stream",
     "text": [
      "INFO:tensorflow:Assets written to: C:\\Users\\tanta\\AppData\\Local\\Temp\\tmp57sf406g\\assets\n"
     ]
    },
    {
     "name": "stderr",
     "output_type": "stream",
     "text": [
      "INFO:tensorflow:Assets written to: C:\\Users\\tanta\\AppData\\Local\\Temp\\tmp57sf406g\\assets\n"
     ]
    },
    {
     "data": {
      "text/plain": [
       "29800"
      ]
     },
     "execution_count": 17,
     "metadata": {},
     "output_type": "execute_result"
    }
   ],
   "source": [
    "# モデルを変換(量子化)\n",
    "tflite_save_path = 'model/keypoint_classifier/keypoint_classifier.tflite'\n",
    "\n",
    "converter = tf.lite.TFLiteConverter.from_keras_model(model)\n",
    "converter.optimizations = [tf.lite.Optimize.DEFAULT]\n",
    "tflite_quantized_model = converter.convert()\n",
    "\n",
    "open(tflite_save_path, 'wb').write(tflite_quantized_model)"
   ]
  },
  {
   "cell_type": "markdown",
   "metadata": {},
   "source": [
    "# 推論テスト"
   ]
  },
  {
   "cell_type": "code",
   "execution_count": 18,
   "metadata": {},
   "outputs": [],
   "source": [
    "interpreter = tf.lite.Interpreter(model_path=tflite_save_path)\n",
    "interpreter.allocate_tensors()"
   ]
  },
  {
   "cell_type": "code",
   "execution_count": 19,
   "metadata": {},
   "outputs": [],
   "source": [
    "# 入出力テンソルを取得\n",
    "input_details = interpreter.get_input_details()\n",
    "output_details = interpreter.get_output_details()"
   ]
  },
  {
   "cell_type": "code",
   "execution_count": 20,
   "metadata": {},
   "outputs": [],
   "source": [
    "interpreter.set_tensor(input_details[0]['index'], np.array([X_test[0]]))"
   ]
  },
  {
   "cell_type": "code",
   "execution_count": 21,
   "metadata": {
    "scrolled": true
   },
   "outputs": [
    {
     "name": "stdout",
     "output_type": "stream",
     "text": [
      "CPU times: total: 0 ns\n",
      "Wall time: 0 ns\n"
     ]
    }
   ],
   "source": [
    "%%time\n",
    "# 推論実施\n",
    "interpreter.invoke()\n",
    "tflite_results = interpreter.get_tensor(output_details[0]['index'])"
   ]
  },
  {
   "cell_type": "code",
   "execution_count": 22,
   "metadata": {},
   "outputs": [
    {
     "name": "stdout",
     "output_type": "stream",
     "text": [
      "[7.26842231e-08 2.41284368e-07 8.90905619e-01 4.52144274e-22\n",
      " 4.00141602e-07 3.21323278e-05 5.40042373e-15 7.38876349e-10\n",
      " 3.08138078e-05 2.69903104e-08 6.79817043e-13 1.45817722e-12\n",
      " 1.22615464e-17 1.08890854e-01 4.97411574e-12 4.30449205e-08\n",
      " 3.01987359e-11 1.39745898e-04 1.66372222e-12 2.89469206e-20\n",
      " 2.39728638e-20 3.17312687e-09 4.56955029e-11 9.96736534e-15]\n",
      "2\n"
     ]
    }
   ],
   "source": [
    "print(np.squeeze(tflite_results))\n",
    "print(np.argmax(np.squeeze(tflite_results)))"
   ]
  }
 ],
 "metadata": {
  "kernelspec": {
   "display_name": "Python 3 (ipykernel)",
   "language": "python",
   "name": "python3"
  },
  "language_info": {
   "codemirror_mode": {
    "name": "ipython",
    "version": 3
   },
   "file_extension": ".py",
   "mimetype": "text/x-python",
   "name": "python",
   "nbconvert_exporter": "python",
   "pygments_lexer": "ipython3",
   "version": "3.11.5"
  }
 },
 "nbformat": 4,
 "nbformat_minor": 4
}
