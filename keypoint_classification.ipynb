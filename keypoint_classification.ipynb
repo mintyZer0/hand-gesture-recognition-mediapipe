{
 "cells": [
  {
   "cell_type": "code",
   "execution_count": 1,
   "metadata": {},
   "outputs": [
    {
     "name": "stdout",
     "output_type": "stream",
     "text": [
      "WARNING:tensorflow:From C:\\Users\\tanta\\AppData\\Local\\Programs\\Python\\Python310\\lib\\site-packages\\keras\\src\\losses.py:2976: The name tf.losses.sparse_softmax_cross_entropy is deprecated. Please use tf.compat.v1.losses.sparse_softmax_cross_entropy instead.\n",
      "\n"
     ]
    }
   ],
   "source": [
    "import csv\n",
    "\n",
    "import numpy as np\n",
    "import tensorflow as tf\n",
    "from sklearn.model_selection import train_test_split\n",
    "\n",
    "RANDOM_SEED = 42"
   ]
  },
  {
   "cell_type": "markdown",
   "metadata": {},
   "source": [
    "# 各パス指定"
   ]
  },
  {
   "cell_type": "code",
   "execution_count": 2,
   "metadata": {},
   "outputs": [],
   "source": [
    "dataset = 'model/keypoint_classifier/keypoint.csv'\n",
    "model_save_path = 'model/keypoint_classifier/keypoint_classifier.hdf5'"
   ]
  },
  {
   "cell_type": "markdown",
   "metadata": {},
   "source": [
    "# 分類数設定"
   ]
  },
  {
   "cell_type": "code",
   "execution_count": 3,
   "metadata": {},
   "outputs": [],
   "source": [
    "NUM_CLASSES = 28"
   ]
  },
  {
   "cell_type": "markdown",
   "metadata": {},
   "source": [
    "# 学習データ読み込み"
   ]
  },
  {
   "cell_type": "code",
   "execution_count": 4,
   "metadata": {},
   "outputs": [],
   "source": [
    "X_dataset = np.loadtxt(dataset, delimiter=',', dtype='float32', usecols=list(range(1, (21 * 2) + 1)))"
   ]
  },
  {
   "cell_type": "code",
   "execution_count": 5,
   "metadata": {},
   "outputs": [],
   "source": [
    "y_dataset = np.loadtxt(dataset, delimiter=',', dtype='int32', usecols=(0))"
   ]
  },
  {
   "cell_type": "code",
   "execution_count": 6,
   "metadata": {},
   "outputs": [],
   "source": [
    "X_train, X_test, y_train, y_test = train_test_split(X_dataset, y_dataset, train_size=0.75, random_state=RANDOM_SEED)"
   ]
  },
  {
   "cell_type": "markdown",
   "metadata": {},
   "source": [
    "# モデル構築"
   ]
  },
  {
   "cell_type": "code",
   "execution_count": 7,
   "metadata": {},
   "outputs": [
    {
     "name": "stdout",
     "output_type": "stream",
     "text": [
      "WARNING:tensorflow:From C:\\Users\\tanta\\AppData\\Local\\Programs\\Python\\Python310\\lib\\site-packages\\keras\\src\\backend.py:1398: The name tf.executing_eagerly_outside_functions is deprecated. Please use tf.compat.v1.executing_eagerly_outside_functions instead.\n",
      "\n"
     ]
    }
   ],
   "source": [
    "model = tf.keras.models.Sequential([\n",
    "    tf.keras.layers.Input((21 * 2, )),\n",
    "    tf.keras.layers.Dropout(0.2),\n",
    "    tf.keras.layers.Dense(2800, activation='relu'),\n",
    "    tf.keras.layers.Dropout(0.4),\n",
    "    tf.keras.layers.Dense(1000, activation='relu'),\n",
    "    tf.keras.layers.Dense(NUM_CLASSES, activation='softmax')\n",
    "])"
   ]
  },
  {
   "cell_type": "code",
   "execution_count": 8,
   "metadata": {},
   "outputs": [
    {
     "name": "stdout",
     "output_type": "stream",
     "text": [
      "Model: \"sequential\"\n",
      "_________________________________________________________________\n",
      " Layer (type)                Output Shape              Param #   \n",
      "=================================================================\n",
      " dropout (Dropout)           (None, 42)                0         \n",
      "                                                                 \n",
      " dense (Dense)               (None, 2800)              120400    \n",
      "                                                                 \n",
      " dropout_1 (Dropout)         (None, 2800)              0         \n",
      "                                                                 \n",
      " dense_1 (Dense)             (None, 1000)              2801000   \n",
      "                                                                 \n",
      " dense_2 (Dense)             (None, 28)                28028     \n",
      "                                                                 \n",
      "=================================================================\n",
      "Total params: 2949428 (11.25 MB)\n",
      "Trainable params: 2949428 (11.25 MB)\n",
      "Non-trainable params: 0 (0.00 Byte)\n",
      "_________________________________________________________________\n"
     ]
    }
   ],
   "source": [
    "model.summary()  # tf.keras.utils.plot_model(model, show_shapes=True)"
   ]
  },
  {
   "cell_type": "code",
   "execution_count": 9,
   "metadata": {},
   "outputs": [],
   "source": [
    "# モデルチェックポイントのコールバック\n",
    "cp_callback = tf.keras.callbacks.ModelCheckpoint(\n",
    "    model_save_path, verbose=1, save_weights_only=False)\n",
    "# 早期打ち切り用コールバック\n",
    "es_callback = tf.keras.callbacks.EarlyStopping(patience=20, verbose=1)"
   ]
  },
  {
   "cell_type": "code",
   "execution_count": 10,
   "metadata": {},
   "outputs": [
    {
     "name": "stdout",
     "output_type": "stream",
     "text": [
      "WARNING:tensorflow:From C:\\Users\\tanta\\AppData\\Local\\Programs\\Python\\Python310\\lib\\site-packages\\keras\\src\\optimizers\\__init__.py:309: The name tf.train.Optimizer is deprecated. Please use tf.compat.v1.train.Optimizer instead.\n",
      "\n"
     ]
    }
   ],
   "source": [
    "# モデルコンパイル\n",
    "model.compile(\n",
    "    optimizer='adam',\n",
    "    loss='sparse_categorical_crossentropy',\n",
    "    metrics=['accuracy']\n",
    ")"
   ]
  },
  {
   "cell_type": "markdown",
   "metadata": {},
   "source": [
    "# モデル訓練"
   ]
  },
  {
   "cell_type": "code",
   "execution_count": 11,
   "metadata": {
    "scrolled": true
   },
   "outputs": [
    {
     "name": "stdout",
     "output_type": "stream",
     "text": [
      "Epoch 1/1000\n",
      "WARNING:tensorflow:From C:\\Users\\tanta\\AppData\\Local\\Programs\\Python\\Python310\\lib\\site-packages\\keras\\src\\utils\\tf_utils.py:492: The name tf.ragged.RaggedTensorValue is deprecated. Please use tf.compat.v1.ragged.RaggedTensorValue instead.\n",
      "\n",
      "WARNING:tensorflow:From C:\\Users\\tanta\\AppData\\Local\\Programs\\Python\\Python310\\lib\\site-packages\\keras\\src\\engine\\base_layer_utils.py:384: The name tf.executing_eagerly_outside_functions is deprecated. Please use tf.compat.v1.executing_eagerly_outside_functions instead.\n",
      "\n",
      "711/711 [==============================] - ETA: 0s - loss: 0.5800 - accuracy: 0.8012\n",
      "Epoch 1: saving model to model/keypoint_classifier\\keypoint_classifier.hdf5\n",
      "711/711 [==============================] - 31s 42ms/step - loss: 0.5800 - accuracy: 0.8012 - val_loss: 0.1381 - val_accuracy: 0.9787\n",
      "Epoch 2/1000\n",
      "  3/711 [..............................] - ETA: 29s - loss: 0.2853 - accuracy: 0.8984"
     ]
    },
    {
     "name": "stderr",
     "output_type": "stream",
     "text": [
      "C:\\Users\\tanta\\AppData\\Local\\Programs\\Python\\Python310\\lib\\site-packages\\keras\\src\\engine\\training.py:3103: UserWarning: You are saving your model as an HDF5 file via `model.save()`. This file format is considered legacy. We recommend using instead the native Keras format, e.g. `model.save('my_model.keras')`.\n",
      "  saving_api.save_model(\n"
     ]
    },
    {
     "name": "stdout",
     "output_type": "stream",
     "text": [
      "711/711 [==============================] - ETA: 0s - loss: 0.2205 - accuracy: 0.9243\n",
      "Epoch 2: saving model to model/keypoint_classifier\\keypoint_classifier.hdf5\n",
      "711/711 [==============================] - 30s 42ms/step - loss: 0.2205 - accuracy: 0.9243 - val_loss: 0.0942 - val_accuracy: 0.9802\n",
      "Epoch 3/1000\n",
      "711/711 [==============================] - ETA: 0s - loss: 0.1591 - accuracy: 0.9458\n",
      "Epoch 3: saving model to model/keypoint_classifier\\keypoint_classifier.hdf5\n",
      "711/711 [==============================] - 28s 39ms/step - loss: 0.1591 - accuracy: 0.9458 - val_loss: 0.0964 - val_accuracy: 0.9701\n",
      "Epoch 4/1000\n",
      "711/711 [==============================] - ETA: 0s - loss: 0.1314 - accuracy: 0.9561\n",
      "Epoch 4: saving model to model/keypoint_classifier\\keypoint_classifier.hdf5\n",
      "711/711 [==============================] - 28s 39ms/step - loss: 0.1314 - accuracy: 0.9561 - val_loss: 0.0590 - val_accuracy: 0.9898\n",
      "Epoch 5/1000\n",
      "711/711 [==============================] - ETA: 0s - loss: 0.1161 - accuracy: 0.9613\n",
      "Epoch 5: saving model to model/keypoint_classifier\\keypoint_classifier.hdf5\n",
      "711/711 [==============================] - 29s 40ms/step - loss: 0.1161 - accuracy: 0.9613 - val_loss: 0.0557 - val_accuracy: 0.9868\n",
      "Epoch 6/1000\n",
      "710/711 [============================>.] - ETA: 0s - loss: 0.1039 - accuracy: 0.9655\n",
      "Epoch 6: saving model to model/keypoint_classifier\\keypoint_classifier.hdf5\n",
      "711/711 [==============================] - 29s 41ms/step - loss: 0.1039 - accuracy: 0.9655 - val_loss: 0.0498 - val_accuracy: 0.9894\n",
      "Epoch 7/1000\n",
      "711/711 [==============================] - ETA: 0s - loss: 0.0926 - accuracy: 0.9694\n",
      "Epoch 7: saving model to model/keypoint_classifier\\keypoint_classifier.hdf5\n",
      "711/711 [==============================] - 28s 40ms/step - loss: 0.0926 - accuracy: 0.9694 - val_loss: 0.0382 - val_accuracy: 0.9920\n",
      "Epoch 8/1000\n",
      "711/711 [==============================] - ETA: 0s - loss: 0.0880 - accuracy: 0.9712\n",
      "Epoch 8: saving model to model/keypoint_classifier\\keypoint_classifier.hdf5\n",
      "711/711 [==============================] - 30s 42ms/step - loss: 0.0880 - accuracy: 0.9712 - val_loss: 0.0814 - val_accuracy: 0.9718\n",
      "Epoch 9/1000\n",
      "710/711 [============================>.] - ETA: 0s - loss: 0.0820 - accuracy: 0.9738\n",
      "Epoch 9: saving model to model/keypoint_classifier\\keypoint_classifier.hdf5\n",
      "711/711 [==============================] - 29s 40ms/step - loss: 0.0821 - accuracy: 0.9738 - val_loss: 0.0692 - val_accuracy: 0.9742\n",
      "Epoch 10/1000\n",
      "711/711 [==============================] - ETA: 0s - loss: 0.0772 - accuracy: 0.9749\n",
      "Epoch 10: saving model to model/keypoint_classifier\\keypoint_classifier.hdf5\n",
      "711/711 [==============================] - 28s 39ms/step - loss: 0.0772 - accuracy: 0.9749 - val_loss: 0.0600 - val_accuracy: 0.9837\n",
      "Epoch 11/1000\n",
      "711/711 [==============================] - ETA: 0s - loss: 0.0755 - accuracy: 0.9755\n",
      "Epoch 11: saving model to model/keypoint_classifier\\keypoint_classifier.hdf5\n",
      "711/711 [==============================] - 30s 42ms/step - loss: 0.0755 - accuracy: 0.9755 - val_loss: 0.0439 - val_accuracy: 0.9884\n",
      "Epoch 12/1000\n",
      "710/711 [============================>.] - ETA: 0s - loss: 0.0718 - accuracy: 0.9765\n",
      "Epoch 12: saving model to model/keypoint_classifier\\keypoint_classifier.hdf5\n",
      "711/711 [==============================] - 30s 42ms/step - loss: 0.0718 - accuracy: 0.9765 - val_loss: 0.0899 - val_accuracy: 0.9715\n",
      "Epoch 13/1000\n",
      "711/711 [==============================] - ETA: 0s - loss: 0.0668 - accuracy: 0.9779\n",
      "Epoch 13: saving model to model/keypoint_classifier\\keypoint_classifier.hdf5\n",
      "711/711 [==============================] - 29s 41ms/step - loss: 0.0668 - accuracy: 0.9779 - val_loss: 0.0616 - val_accuracy: 0.9815\n",
      "Epoch 14/1000\n",
      "710/711 [============================>.] - ETA: 0s - loss: 0.0655 - accuracy: 0.9781\n",
      "Epoch 14: saving model to model/keypoint_classifier\\keypoint_classifier.hdf5\n",
      "711/711 [==============================] - 29s 41ms/step - loss: 0.0655 - accuracy: 0.9781 - val_loss: 0.1169 - val_accuracy: 0.9696\n",
      "Epoch 15/1000\n",
      "710/711 [============================>.] - ETA: 0s - loss: 0.0636 - accuracy: 0.9788\n",
      "Epoch 15: saving model to model/keypoint_classifier\\keypoint_classifier.hdf5\n",
      "711/711 [==============================] - 31s 43ms/step - loss: 0.0636 - accuracy: 0.9788 - val_loss: 0.0400 - val_accuracy: 0.9880\n",
      "Epoch 16/1000\n",
      "711/711 [==============================] - ETA: 0s - loss: 0.0620 - accuracy: 0.9793\n",
      "Epoch 16: saving model to model/keypoint_classifier\\keypoint_classifier.hdf5\n",
      "711/711 [==============================] - 30s 42ms/step - loss: 0.0620 - accuracy: 0.9793 - val_loss: 0.0489 - val_accuracy: 0.9816\n",
      "Epoch 17/1000\n",
      "710/711 [============================>.] - ETA: 0s - loss: 0.0597 - accuracy: 0.9800\n",
      "Epoch 17: saving model to model/keypoint_classifier\\keypoint_classifier.hdf5\n",
      "711/711 [==============================] - 30s 43ms/step - loss: 0.0597 - accuracy: 0.9800 - val_loss: 0.0248 - val_accuracy: 0.9948\n",
      "Epoch 18/1000\n",
      "711/711 [==============================] - ETA: 0s - loss: 0.0592 - accuracy: 0.9804\n",
      "Epoch 18: saving model to model/keypoint_classifier\\keypoint_classifier.hdf5\n",
      "711/711 [==============================] - 30s 42ms/step - loss: 0.0592 - accuracy: 0.9804 - val_loss: 0.0750 - val_accuracy: 0.9733\n",
      "Epoch 19/1000\n",
      "710/711 [============================>.] - ETA: 0s - loss: 0.0563 - accuracy: 0.9813\n",
      "Epoch 19: saving model to model/keypoint_classifier\\keypoint_classifier.hdf5\n",
      "711/711 [==============================] - 30s 43ms/step - loss: 0.0563 - accuracy: 0.9813 - val_loss: 0.0441 - val_accuracy: 0.9886\n",
      "Epoch 20/1000\n",
      "711/711 [==============================] - ETA: 0s - loss: 0.0561 - accuracy: 0.9815\n",
      "Epoch 20: saving model to model/keypoint_classifier\\keypoint_classifier.hdf5\n",
      "711/711 [==============================] - 31s 44ms/step - loss: 0.0561 - accuracy: 0.9815 - val_loss: 0.0727 - val_accuracy: 0.9757\n",
      "Epoch 21/1000\n",
      "711/711 [==============================] - ETA: 0s - loss: 0.0544 - accuracy: 0.9822\n",
      "Epoch 21: saving model to model/keypoint_classifier\\keypoint_classifier.hdf5\n",
      "711/711 [==============================] - 31s 43ms/step - loss: 0.0544 - accuracy: 0.9822 - val_loss: 0.0476 - val_accuracy: 0.9845\n",
      "Epoch 22/1000\n",
      "711/711 [==============================] - ETA: 0s - loss: 0.0528 - accuracy: 0.9829\n",
      "Epoch 22: saving model to model/keypoint_classifier\\keypoint_classifier.hdf5\n",
      "711/711 [==============================] - 31s 43ms/step - loss: 0.0528 - accuracy: 0.9829 - val_loss: 0.0580 - val_accuracy: 0.9754\n",
      "Epoch 23/1000\n",
      "710/711 [============================>.] - ETA: 0s - loss: 0.0525 - accuracy: 0.9832\n",
      "Epoch 23: saving model to model/keypoint_classifier\\keypoint_classifier.hdf5\n",
      "711/711 [==============================] - 34s 49ms/step - loss: 0.0524 - accuracy: 0.9832 - val_loss: 0.0265 - val_accuracy: 0.9936\n",
      "Epoch 24/1000\n",
      "711/711 [==============================] - ETA: 0s - loss: 0.0533 - accuracy: 0.9826\n",
      "Epoch 24: saving model to model/keypoint_classifier\\keypoint_classifier.hdf5\n",
      "711/711 [==============================] - 31s 44ms/step - loss: 0.0533 - accuracy: 0.9826 - val_loss: 0.0370 - val_accuracy: 0.9887\n",
      "Epoch 25/1000\n",
      "710/711 [============================>.] - ETA: 0s - loss: 0.0508 - accuracy: 0.9837\n",
      "Epoch 25: saving model to model/keypoint_classifier\\keypoint_classifier.hdf5\n",
      "711/711 [==============================] - 31s 43ms/step - loss: 0.0508 - accuracy: 0.9837 - val_loss: 0.0313 - val_accuracy: 0.9910\n",
      "Epoch 26/1000\n",
      "711/711 [==============================] - ETA: 0s - loss: 0.0501 - accuracy: 0.9836\n",
      "Epoch 26: saving model to model/keypoint_classifier\\keypoint_classifier.hdf5\n",
      "711/711 [==============================] - 31s 44ms/step - loss: 0.0501 - accuracy: 0.9836 - val_loss: 0.0341 - val_accuracy: 0.9908\n",
      "Epoch 27/1000\n",
      "711/711 [==============================] - ETA: 0s - loss: 0.0482 - accuracy: 0.9841\n",
      "Epoch 27: saving model to model/keypoint_classifier\\keypoint_classifier.hdf5\n",
      "711/711 [==============================] - 30s 42ms/step - loss: 0.0482 - accuracy: 0.9841 - val_loss: 0.0497 - val_accuracy: 0.9818\n",
      "Epoch 28/1000\n",
      "710/711 [============================>.] - ETA: 0s - loss: 0.0494 - accuracy: 0.9844\n",
      "Epoch 28: saving model to model/keypoint_classifier\\keypoint_classifier.hdf5\n",
      "711/711 [==============================] - 31s 44ms/step - loss: 0.0493 - accuracy: 0.9844 - val_loss: 0.0472 - val_accuracy: 0.9830\n",
      "Epoch 29/1000\n",
      "711/711 [==============================] - ETA: 0s - loss: 0.0482 - accuracy: 0.9841\n",
      "Epoch 29: saving model to model/keypoint_classifier\\keypoint_classifier.hdf5\n",
      "711/711 [==============================] - 30s 42ms/step - loss: 0.0482 - accuracy: 0.9841 - val_loss: 0.0271 - val_accuracy: 0.9945\n",
      "Epoch 30/1000\n",
      "711/711 [==============================] - ETA: 0s - loss: 0.0481 - accuracy: 0.9838\n",
      "Epoch 30: saving model to model/keypoint_classifier\\keypoint_classifier.hdf5\n",
      "711/711 [==============================] - 30s 42ms/step - loss: 0.0481 - accuracy: 0.9838 - val_loss: 0.0711 - val_accuracy: 0.9749\n",
      "Epoch 31/1000\n",
      "711/711 [==============================] - ETA: 0s - loss: 0.0462 - accuracy: 0.9847\n",
      "Epoch 31: saving model to model/keypoint_classifier\\keypoint_classifier.hdf5\n",
      "711/711 [==============================] - 30s 42ms/step - loss: 0.0462 - accuracy: 0.9847 - val_loss: 0.0415 - val_accuracy: 0.9880\n",
      "Epoch 32/1000\n",
      "710/711 [============================>.] - ETA: 0s - loss: 0.0467 - accuracy: 0.9845\n",
      "Epoch 32: saving model to model/keypoint_classifier\\keypoint_classifier.hdf5\n",
      "711/711 [==============================] - 31s 44ms/step - loss: 0.0467 - accuracy: 0.9844 - val_loss: 0.0559 - val_accuracy: 0.9786\n",
      "Epoch 33/1000\n",
      "711/711 [==============================] - ETA: 0s - loss: 0.0448 - accuracy: 0.9851\n",
      "Epoch 33: saving model to model/keypoint_classifier\\keypoint_classifier.hdf5\n",
      "711/711 [==============================] - 31s 43ms/step - loss: 0.0448 - accuracy: 0.9851 - val_loss: 0.0218 - val_accuracy: 0.9944\n",
      "Epoch 34/1000\n",
      "711/711 [==============================] - ETA: 0s - loss: 0.0455 - accuracy: 0.9852\n",
      "Epoch 34: saving model to model/keypoint_classifier\\keypoint_classifier.hdf5\n",
      "711/711 [==============================] - 31s 44ms/step - loss: 0.0455 - accuracy: 0.9852 - val_loss: 0.0656 - val_accuracy: 0.9776\n",
      "Epoch 35/1000\n",
      "711/711 [==============================] - ETA: 0s - loss: 0.0456 - accuracy: 0.9854\n",
      "Epoch 35: saving model to model/keypoint_classifier\\keypoint_classifier.hdf5\n",
      "711/711 [==============================] - 31s 43ms/step - loss: 0.0456 - accuracy: 0.9854 - val_loss: 0.0250 - val_accuracy: 0.9937\n",
      "Epoch 36/1000\n",
      "711/711 [==============================] - ETA: 0s - loss: 0.0454 - accuracy: 0.9853\n",
      "Epoch 36: saving model to model/keypoint_classifier\\keypoint_classifier.hdf5\n",
      "711/711 [==============================] - 32s 45ms/step - loss: 0.0454 - accuracy: 0.9853 - val_loss: 0.0423 - val_accuracy: 0.9867\n",
      "Epoch 37/1000\n",
      "710/711 [============================>.] - ETA: 0s - loss: 0.0447 - accuracy: 0.9858\n",
      "Epoch 37: saving model to model/keypoint_classifier\\keypoint_classifier.hdf5\n",
      "711/711 [==============================] - 31s 44ms/step - loss: 0.0447 - accuracy: 0.9858 - val_loss: 0.0198 - val_accuracy: 0.9943\n",
      "Epoch 38/1000\n",
      "710/711 [============================>.] - ETA: 0s - loss: 0.0441 - accuracy: 0.9859\n",
      "Epoch 38: saving model to model/keypoint_classifier\\keypoint_classifier.hdf5\n",
      "711/711 [==============================] - 30s 43ms/step - loss: 0.0441 - accuracy: 0.9859 - val_loss: 0.0301 - val_accuracy: 0.9919\n",
      "Epoch 39/1000\n",
      "711/711 [==============================] - ETA: 0s - loss: 0.0427 - accuracy: 0.9860\n",
      "Epoch 39: saving model to model/keypoint_classifier\\keypoint_classifier.hdf5\n",
      "711/711 [==============================] - 29s 41ms/step - loss: 0.0427 - accuracy: 0.9860 - val_loss: 0.0529 - val_accuracy: 0.9844\n",
      "Epoch 40/1000\n",
      "711/711 [==============================] - ETA: 0s - loss: 0.0450 - accuracy: 0.9856\n",
      "Epoch 40: saving model to model/keypoint_classifier\\keypoint_classifier.hdf5\n",
      "711/711 [==============================] - 30s 43ms/step - loss: 0.0450 - accuracy: 0.9856 - val_loss: 0.0294 - val_accuracy: 0.9926\n",
      "Epoch 41/1000\n",
      "711/711 [==============================] - ETA: 0s - loss: 0.0427 - accuracy: 0.9862\n",
      "Epoch 41: saving model to model/keypoint_classifier\\keypoint_classifier.hdf5\n",
      "711/711 [==============================] - 30s 42ms/step - loss: 0.0427 - accuracy: 0.9862 - val_loss: 0.0480 - val_accuracy: 0.9827\n",
      "Epoch 42/1000\n",
      "711/711 [==============================] - ETA: 0s - loss: 0.0411 - accuracy: 0.9868\n",
      "Epoch 42: saving model to model/keypoint_classifier\\keypoint_classifier.hdf5\n",
      "711/711 [==============================] - 31s 43ms/step - loss: 0.0411 - accuracy: 0.9868 - val_loss: 0.0588 - val_accuracy: 0.9782\n",
      "Epoch 43/1000\n",
      "710/711 [============================>.] - ETA: 0s - loss: 0.0421 - accuracy: 0.9861\n",
      "Epoch 43: saving model to model/keypoint_classifier\\keypoint_classifier.hdf5\n",
      "711/711 [==============================] - 31s 44ms/step - loss: 0.0422 - accuracy: 0.9861 - val_loss: 0.0538 - val_accuracy: 0.9823\n",
      "Epoch 44/1000\n",
      "711/711 [==============================] - ETA: 0s - loss: 0.0424 - accuracy: 0.9862\n",
      "Epoch 44: saving model to model/keypoint_classifier\\keypoint_classifier.hdf5\n",
      "711/711 [==============================] - 31s 43ms/step - loss: 0.0424 - accuracy: 0.9862 - val_loss: 0.0457 - val_accuracy: 0.9848\n",
      "Epoch 45/1000\n",
      "711/711 [==============================] - ETA: 0s - loss: 0.0419 - accuracy: 0.9865\n",
      "Epoch 45: saving model to model/keypoint_classifier\\keypoint_classifier.hdf5\n",
      "711/711 [==============================] - 34s 48ms/step - loss: 0.0419 - accuracy: 0.9865 - val_loss: 0.0512 - val_accuracy: 0.9836\n",
      "Epoch 46/1000\n",
      "710/711 [============================>.] - ETA: 0s - loss: 0.0395 - accuracy: 0.9873\n",
      "Epoch 46: saving model to model/keypoint_classifier\\keypoint_classifier.hdf5\n",
      "711/711 [==============================] - 33s 47ms/step - loss: 0.0395 - accuracy: 0.9873 - val_loss: 0.0285 - val_accuracy: 0.9921\n",
      "Epoch 47/1000\n",
      "711/711 [==============================] - ETA: 0s - loss: 0.0387 - accuracy: 0.9877\n",
      "Epoch 47: saving model to model/keypoint_classifier\\keypoint_classifier.hdf5\n",
      "711/711 [==============================] - 32s 45ms/step - loss: 0.0387 - accuracy: 0.9877 - val_loss: 0.0313 - val_accuracy: 0.9920\n",
      "Epoch 48/1000\n",
      "711/711 [==============================] - ETA: 0s - loss: 0.0405 - accuracy: 0.9868\n",
      "Epoch 48: saving model to model/keypoint_classifier\\keypoint_classifier.hdf5\n",
      "711/711 [==============================] - 34s 47ms/step - loss: 0.0405 - accuracy: 0.9868 - val_loss: 0.0376 - val_accuracy: 0.9886\n",
      "Epoch 49/1000\n",
      "711/711 [==============================] - ETA: 0s - loss: 0.0409 - accuracy: 0.9871\n",
      "Epoch 49: saving model to model/keypoint_classifier\\keypoint_classifier.hdf5\n",
      "711/711 [==============================] - 45s 63ms/step - loss: 0.0409 - accuracy: 0.9871 - val_loss: 0.0339 - val_accuracy: 0.9897\n",
      "Epoch 50/1000\n",
      "710/711 [============================>.] - ETA: 0s - loss: 0.0394 - accuracy: 0.9871\n",
      "Epoch 50: saving model to model/keypoint_classifier\\keypoint_classifier.hdf5\n",
      "711/711 [==============================] - 37s 52ms/step - loss: 0.0394 - accuracy: 0.9872 - val_loss: 0.0382 - val_accuracy: 0.9879\n",
      "Epoch 51/1000\n",
      "711/711 [==============================] - ETA: 0s - loss: 0.0406 - accuracy: 0.9869\n",
      "Epoch 51: saving model to model/keypoint_classifier\\keypoint_classifier.hdf5\n",
      "711/711 [==============================] - 32s 45ms/step - loss: 0.0406 - accuracy: 0.9869 - val_loss: 0.0207 - val_accuracy: 0.9945\n",
      "Epoch 52/1000\n",
      "711/711 [==============================] - ETA: 0s - loss: 0.0407 - accuracy: 0.9871\n",
      "Epoch 52: saving model to model/keypoint_classifier\\keypoint_classifier.hdf5\n",
      "711/711 [==============================] - 34s 48ms/step - loss: 0.0407 - accuracy: 0.9871 - val_loss: 0.0612 - val_accuracy: 0.9784\n",
      "Epoch 53/1000\n",
      "711/711 [==============================] - ETA: 0s - loss: 0.0391 - accuracy: 0.9869\n",
      "Epoch 53: saving model to model/keypoint_classifier\\keypoint_classifier.hdf5\n",
      "711/711 [==============================] - 32s 46ms/step - loss: 0.0391 - accuracy: 0.9869 - val_loss: 0.0232 - val_accuracy: 0.9940\n",
      "Epoch 54/1000\n",
      "711/711 [==============================] - ETA: 0s - loss: 0.0385 - accuracy: 0.9875\n",
      "Epoch 54: saving model to model/keypoint_classifier\\keypoint_classifier.hdf5\n",
      "711/711 [==============================] - 35s 49ms/step - loss: 0.0385 - accuracy: 0.9875 - val_loss: 0.0441 - val_accuracy: 0.9858\n",
      "Epoch 55/1000\n",
      "711/711 [==============================] - ETA: 0s - loss: 0.0395 - accuracy: 0.9877\n",
      "Epoch 55: saving model to model/keypoint_classifier\\keypoint_classifier.hdf5\n",
      "711/711 [==============================] - 33s 46ms/step - loss: 0.0395 - accuracy: 0.9877 - val_loss: 0.0293 - val_accuracy: 0.9913\n",
      "Epoch 56/1000\n",
      "711/711 [==============================] - ETA: 0s - loss: 0.0365 - accuracy: 0.9881\n",
      "Epoch 56: saving model to model/keypoint_classifier\\keypoint_classifier.hdf5\n",
      "711/711 [==============================] - 32s 45ms/step - loss: 0.0365 - accuracy: 0.9881 - val_loss: 0.0354 - val_accuracy: 0.9867\n",
      "Epoch 57/1000\n",
      "710/711 [============================>.] - ETA: 0s - loss: 0.0370 - accuracy: 0.9879\n",
      "Epoch 57: saving model to model/keypoint_classifier\\keypoint_classifier.hdf5\n",
      "711/711 [==============================] - 34s 49ms/step - loss: 0.0370 - accuracy: 0.9879 - val_loss: 0.0452 - val_accuracy: 0.9844\n",
      "Epoch 57: early stopping\n"
     ]
    },
    {
     "data": {
      "text/plain": [
       "<keras.src.callbacks.History at 0x226a58e7490>"
      ]
     },
     "execution_count": 11,
     "metadata": {},
     "output_type": "execute_result"
    }
   ],
   "source": [
    "model.fit(\n",
    "    X_train,\n",
    "    y_train,\n",
    "    epochs=1000,\n",
    "    batch_size=128,\n",
    "    validation_data=(X_test, y_test),\n",
    "    callbacks=[cp_callback, es_callback]\n",
    ")"
   ]
  },
  {
   "cell_type": "code",
   "execution_count": 12,
   "metadata": {},
   "outputs": [
    {
     "name": "stdout",
     "output_type": "stream",
     "text": [
      "237/237 [==============================] - 2s 7ms/step - loss: 0.0452 - accuracy: 0.9844\n"
     ]
    }
   ],
   "source": [
    "# モデル評価\n",
    "val_loss, val_acc = model.evaluate(X_test, y_test, batch_size=128)"
   ]
  },
  {
   "cell_type": "code",
   "execution_count": 13,
   "metadata": {},
   "outputs": [],
   "source": [
    "# 保存したモデルのロード\n",
    "model = tf.keras.models.load_model(model_save_path)"
   ]
  },
  {
   "cell_type": "code",
   "execution_count": 14,
   "metadata": {},
   "outputs": [
    {
     "name": "stdout",
     "output_type": "stream",
     "text": [
      "1/1 [==============================] - 0s 129ms/step\n",
      "[0.0000000e+00 0.0000000e+00 0.0000000e+00 0.0000000e+00 0.0000000e+00\n",
      " 0.0000000e+00 0.0000000e+00 5.5194390e-35 0.0000000e+00 0.0000000e+00\n",
      " 0.0000000e+00 0.0000000e+00 0.0000000e+00 0.0000000e+00 0.0000000e+00\n",
      " 0.0000000e+00 0.0000000e+00 0.0000000e+00 0.0000000e+00 0.0000000e+00\n",
      " 0.0000000e+00 0.0000000e+00 0.0000000e+00 0.0000000e+00 0.0000000e+00\n",
      " 0.0000000e+00 5.6699533e-36 1.0000000e+00]\n",
      "27\n"
     ]
    }
   ],
   "source": [
    "# 推論テスト\n",
    "predict_result = model.predict(np.array([X_test[0]]))\n",
    "print(np.squeeze(predict_result))\n",
    "print(np.argmax(np.squeeze(predict_result)))"
   ]
  },
  {
   "cell_type": "markdown",
   "metadata": {},
   "source": [
    "# 混同行列"
   ]
  },
  {
   "cell_type": "code",
   "execution_count": 15,
   "metadata": {},
   "outputs": [
    {
     "name": "stdout",
     "output_type": "stream",
     "text": [
      "948/948 [==============================] - 4s 4ms/step\n"
     ]
    },
    {
     "data": {
      "image/png": "[encoded data removed]",
      "text/plain": [
       "<Figure size 700x600 with 2 Axes>"
      ]
     },
     "metadata": {},
     "output_type": "display_data"
    },
    {
     "name": "stdout",
     "output_type": "stream",
     "text": [
      "Classification Report\n",
      "              precision    recall  f1-score   support\n",
      "\n",
      "           0       1.00      0.99      0.99      2389\n",
      "           1       1.00      0.99      0.99       218\n",
      "           2       0.97      1.00      0.99       930\n",
      "           3       0.99      1.00      0.99      1831\n",
      "           4       1.00      0.99      1.00       448\n",
      "           5       1.00      1.00      1.00       369\n",
      "           6       0.95      1.00      0.97       713\n",
      "           7       0.99      1.00      1.00      1215\n",
      "           8       0.96      0.99      0.97       216\n",
      "           9       1.00      1.00      1.00       981\n",
      "          10       1.00      0.99      1.00       361\n",
      "          11       1.00      0.91      0.95      2435\n",
      "          12       0.89      1.00      0.94      2062\n",
      "          13       1.00      0.97      0.98      1055\n",
      "          14       1.00      0.99      0.99      1537\n",
      "          15       0.98      1.00      0.99       215\n",
      "          16       1.00      0.98      0.99      1176\n",
      "          17       0.99      1.00      0.99      1305\n",
      "          18       1.00      0.94      0.97      1415\n",
      "          19       0.98      1.00      0.99       769\n",
      "          20       1.00      1.00      1.00       653\n",
      "          21       1.00      1.00      1.00       967\n",
      "          22       0.97      1.00      0.98      2385\n",
      "          23       1.00      1.00      1.00       730\n",
      "          24       1.00      1.00      1.00       495\n",
      "          25       1.00      1.00      1.00       500\n",
      "          26       1.00      0.98      0.99      1962\n",
      "          27       1.00      1.00      1.00       975\n",
      "\n",
      "    accuracy                           0.98     30307\n",
      "   macro avg       0.99      0.99      0.99     30307\n",
      "weighted avg       0.99      0.98      0.98     30307\n",
      "\n"
     ]
    }
   ],
   "source": [
    "import pandas as pd\n",
    "import seaborn as sns\n",
    "import matplotlib.pyplot as plt\n",
    "from sklearn.metrics import confusion_matrix, classification_report\n",
    "\n",
    "def print_confusion_matrix(y_true, y_pred, report=True):\n",
    "    labels = sorted(list(set(y_true)))\n",
    "    cmx_data = confusion_matrix(y_true, y_pred, labels=labels)\n",
    "    \n",
    "    df_cmx = pd.DataFrame(cmx_data, index=labels, columns=labels)\n",
    " \n",
    "    fig, ax = plt.subplots(figsize=(7, 6))\n",
    "    sns.heatmap(df_cmx, annot=True, fmt='g' ,square=False)\n",
    "    ax.set_ylim(len(set(y_true)), 0)\n",
    "    plt.show()\n",
    "    \n",
    "    if report:\n",
    "        print('Classification Report')\n",
    "        print(classification_report(y_test, y_pred))\n",
    "\n",
    "Y_pred = model.predict(X_test)\n",
    "y_pred = np.argmax(Y_pred, axis=1)\n",
    "\n",
    "print_confusion_matrix(y_test, y_pred)"
   ]
  },
  {
   "cell_type": "markdown",
   "metadata": {},
   "source": [
    "# Tensorflow-Lite用のモデルへ変換"
   ]
  },
  {
   "cell_type": "code",
   "execution_count": 16,
   "metadata": {},
   "outputs": [
    {
     "name": "stderr",
     "output_type": "stream",
     "text": [
      "C:\\Users\\tanta\\AppData\\Local\\Programs\\Python\\Python310\\lib\\site-packages\\keras\\src\\engine\\training.py:3103: UserWarning: You are saving your model as an HDF5 file via `model.save()`. This file format is considered legacy. We recommend using instead the native Keras format, e.g. `model.save('my_model.keras')`.\n",
      "  saving_api.save_model(\n"
     ]
    }
   ],
   "source": [
    "# 推論専用のモデルとして保存\n",
    "model.save(model_save_path, include_optimizer=False)"
   ]
  },
  {
   "cell_type": "code",
   "execution_count": 17,
   "metadata": {},
   "outputs": [
    {
     "name": "stdout",
     "output_type": "stream",
     "text": [
      "INFO:tensorflow:Assets written to: C:\\Users\\tanta\\AppData\\Local\\Temp\\tmpmj1nihmg\\assets\n"
     ]
    },
    {
     "name": "stderr",
     "output_type": "stream",
     "text": [
      "INFO:tensorflow:Assets written to: C:\\Users\\tanta\\AppData\\Local\\Temp\\tmpmj1nihmg\\assets\n"
     ]
    },
    {
     "data": {
      "text/plain": [
       "2963176"
      ]
     },
     "execution_count": 17,
     "metadata": {},
     "output_type": "execute_result"
    }
   ],
   "source": [
    "# モデルを変換(量子化)\n",
    "tflite_save_path = 'model/keypoint_classifier/keypoint_classifier.tflite'\n",
    "\n",
    "converter = tf.lite.TFLiteConverter.from_keras_model(model)\n",
    "converter.optimizations = [tf.lite.Optimize.DEFAULT]\n",
    "tflite_quantized_model = converter.convert()\n",
    "\n",
    "open(tflite_save_path, 'wb').write(tflite_quantized_model)"
   ]
  },
  {
   "cell_type": "markdown",
   "metadata": {},
   "source": [
    "# 推論テスト"
   ]
  },
  {
   "cell_type": "code",
   "execution_count": 18,
   "metadata": {},
   "outputs": [],
   "source": [
    "interpreter = tf.lite.Interpreter(model_path=tflite_save_path)\n",
    "interpreter.allocate_tensors()"
   ]
  },
  {
   "cell_type": "code",
   "execution_count": 19,
   "metadata": {},
   "outputs": [],
   "source": [
    "# 入出力テンソルを取得\n",
    "input_details = interpreter.get_input_details()\n",
    "output_details = interpreter.get_output_details()"
   ]
  },
  {
   "cell_type": "code",
   "execution_count": 20,
   "metadata": {},
   "outputs": [],
   "source": [
    "interpreter.set_tensor(input_details[0]['index'], np.array([X_test[0]]))"
   ]
  },
  {
   "cell_type": "code",
   "execution_count": 21,
   "metadata": {
    "scrolled": true
   },
   "outputs": [
    {
     "name": "stdout",
     "output_type": "stream",
     "text": [
      "CPU times: total: 0 ns\n",
      "Wall time: 1 ms\n"
     ]
    }
   ],
   "source": [
    "%%time\n",
    "# 推論実施\n",
    "interpreter.invoke()\n",
    "tflite_results = interpreter.get_tensor(output_details[0]['index'])"
   ]
  },
  {
   "cell_type": "code",
   "execution_count": 22,
   "metadata": {},
   "outputs": [
    {
     "name": "stdout",
     "output_type": "stream",
     "text": [
      "[0.0000000e+00 0.0000000e+00 0.0000000e+00 0.0000000e+00 0.0000000e+00\n",
      " 0.0000000e+00 0.0000000e+00 6.3895344e-35 0.0000000e+00 0.0000000e+00\n",
      " 0.0000000e+00 0.0000000e+00 0.0000000e+00 0.0000000e+00 0.0000000e+00\n",
      " 0.0000000e+00 0.0000000e+00 0.0000000e+00 0.0000000e+00 0.0000000e+00\n",
      " 0.0000000e+00 0.0000000e+00 0.0000000e+00 0.0000000e+00 0.0000000e+00\n",
      " 0.0000000e+00 5.8912758e-36 1.0000000e+00]\n",
      "27\n"
     ]
    }
   ],
   "source": [
    "print(np.squeeze(tflite_results))\n",
    "print(np.argmax(np.squeeze(tflite_results)))"
   ]
  }
 ],
 "metadata": {
  "kernelspec": {
   "display_name": "Python 3 (ipykernel)",
   "language": "python",
   "name": "python3"
  },
  "language_info": {
   "codemirror_mode": {
    "name": "ipython",
    "version": 3
   },
   "file_extension": ".py",
   "mimetype": "text/x-python",
   "name": "python",
   "nbconvert_exporter": "python",
   "pygments_lexer": "ipython3",
   "version": "3.10.10"
  }
 },
 "nbformat": 4,
 "nbformat_minor": 4
}
