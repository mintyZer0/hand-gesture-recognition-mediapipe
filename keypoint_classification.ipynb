{
 "cells": [
  {
   "cell_type": "code",
   "execution_count": 1,
   "metadata": {},
   "outputs": [
    {
     "name": "stdout",
     "output_type": "stream",
     "text": [
      "WARNING:tensorflow:From C:\\Users\\tanta\\AppData\\Local\\Programs\\Python\\Python310\\lib\\site-packages\\keras\\src\\losses.py:2976: The name tf.losses.sparse_softmax_cross_entropy is deprecated. Please use tf.compat.v1.losses.sparse_softmax_cross_entropy instead.\n",
      "\n"
     ]
    }
   ],
   "source": [
    "import csv\n",
    "\n",
    "import numpy as np\n",
    "import tensorflow as tf\n",
    "from sklearn.model_selection import train_test_split\n",
    "\n",
    "RANDOM_SEED = 42"
   ]
  },
  {
   "cell_type": "markdown",
   "metadata": {},
   "source": [
    "# 各パス指定"
   ]
  },
  {
   "cell_type": "code",
   "execution_count": 2,
   "metadata": {},
   "outputs": [],
   "source": [
    "dataset = 'model/keypoint_classifier/keypoint.csv'\n",
    "model_save_path = 'model/keypoint_classifier/keypoint_classifier.hdf5'"
   ]
  },
  {
   "cell_type": "markdown",
   "metadata": {},
   "source": [
    "# 分類数設定"
   ]
  },
  {
   "cell_type": "code",
   "execution_count": 3,
   "metadata": {},
   "outputs": [],
   "source": [
    "NUM_CLASSES = 28"
   ]
  },
  {
   "cell_type": "markdown",
   "metadata": {},
   "source": [
    "# 学習データ読み込み"
   ]
  },
  {
   "cell_type": "code",
   "execution_count": 4,
   "metadata": {},
   "outputs": [],
   "source": [
    "X_dataset = np.loadtxt(dataset, delimiter=',', dtype='float32', usecols=list(range(1, (21 * 2) + 1)))"
   ]
  },
  {
   "cell_type": "code",
   "execution_count": 5,
   "metadata": {},
   "outputs": [],
   "source": [
    "y_dataset = np.loadtxt(dataset, delimiter=',', dtype='int32', usecols=(0))"
   ]
  },
  {
   "cell_type": "code",
   "execution_count": 6,
   "metadata": {},
   "outputs": [],
   "source": [
    "X_train, X_test, y_train, y_test = train_test_split(X_dataset, y_dataset, train_size=0.75, random_state=RANDOM_SEED)"
   ]
  },
  {
   "cell_type": "markdown",
   "metadata": {},
   "source": [
    "# モデル構築"
   ]
  },
  {
   "cell_type": "code",
   "execution_count": 7,
   "metadata": {},
   "outputs": [
    {
     "name": "stdout",
     "output_type": "stream",
     "text": [
      "WARNING:tensorflow:From C:\\Users\\tanta\\AppData\\Local\\Programs\\Python\\Python310\\lib\\site-packages\\keras\\src\\backend.py:1398: The name tf.executing_eagerly_outside_functions is deprecated. Please use tf.compat.v1.executing_eagerly_outside_functions instead.\n",
      "\n"
     ]
    }
   ],
   "source": [
    "model = tf.keras.models.Sequential([\n",
    "    tf.keras.layers.Input((21 * 2, )),\n",
    "    tf.keras.layers.Dropout(0.2),\n",
    "    tf.keras.layers.Dense(800, activation='relu'),\n",
    "    tf.keras.layers.Dropout(0.4),\n",
    "    tf.keras.layers.Dense(400, activation='relu'),\n",
    "    tf.keras.layers.Dense(NUM_CLASSES, activation='softmax')\n",
    "])"
   ]
  },
  {
   "cell_type": "code",
   "execution_count": 8,
   "metadata": {},
   "outputs": [
    {
     "name": "stdout",
     "output_type": "stream",
     "text": [
      "Model: \"sequential\"\n",
      "_________________________________________________________________\n",
      " Layer (type)                Output Shape              Param #   \n",
      "=================================================================\n",
      " dropout (Dropout)           (None, 42)                0         \n",
      "                                                                 \n",
      " dense (Dense)               (None, 800)               34400     \n",
      "                                                                 \n",
      " dropout_1 (Dropout)         (None, 800)               0         \n",
      "                                                                 \n",
      " dense_1 (Dense)             (None, 400)               320400    \n",
      "                                                                 \n",
      " dense_2 (Dense)             (None, 28)                11228     \n",
      "                                                                 \n",
      "=================================================================\n",
      "Total params: 366028 (1.40 MB)\n",
      "Trainable params: 366028 (1.40 MB)\n",
      "Non-trainable params: 0 (0.00 Byte)\n",
      "_________________________________________________________________\n"
     ]
    }
   ],
   "source": [
    "model.summary()  # tf.keras.utils.plot_model(model, show_shapes=True)"
   ]
  },
  {
   "cell_type": "code",
   "execution_count": 9,
   "metadata": {},
   "outputs": [],
   "source": [
    "# モデルチェックポイントのコールバック\n",
    "cp_callback = tf.keras.callbacks.ModelCheckpoint(\n",
    "    model_save_path, verbose=1, save_weights_only=False)\n",
    "# 早期打ち切り用コールバック\n",
    "es_callback = tf.keras.callbacks.EarlyStopping(patience=20, verbose=1)"
   ]
  },
  {
   "cell_type": "code",
   "execution_count": 10,
   "metadata": {},
   "outputs": [
    {
     "name": "stdout",
     "output_type": "stream",
     "text": [
      "WARNING:tensorflow:From C:\\Users\\tanta\\AppData\\Local\\Programs\\Python\\Python310\\lib\\site-packages\\keras\\src\\optimizers\\__init__.py:309: The name tf.train.Optimizer is deprecated. Please use tf.compat.v1.train.Optimizer instead.\n",
      "\n"
     ]
    }
   ],
   "source": [
    "# モデルコンパイル\n",
    "model.compile(\n",
    "    optimizer='adam',\n",
    "    loss='sparse_categorical_crossentropy',\n",
    "    metrics=['accuracy']\n",
    ")"
   ]
  },
  {
   "cell_type": "markdown",
   "metadata": {},
   "source": [
    "# モデル訓練"
   ]
  },
  {
   "cell_type": "code",
   "execution_count": 11,
   "metadata": {
    "scrolled": true
   },
   "outputs": [
    {
     "name": "stdout",
     "output_type": "stream",
     "text": [
      "Epoch 1/1000\n",
      "WARNING:tensorflow:From C:\\Users\\tanta\\AppData\\Local\\Programs\\Python\\Python310\\lib\\site-packages\\keras\\src\\utils\\tf_utils.py:492: The name tf.ragged.RaggedTensorValue is deprecated. Please use tf.compat.v1.ragged.RaggedTensorValue instead.\n",
      "\n",
      "WARNING:tensorflow:From C:\\Users\\tanta\\AppData\\Local\\Programs\\Python\\Python310\\lib\\site-packages\\keras\\src\\engine\\base_layer_utils.py:384: The name tf.executing_eagerly_outside_functions is deprecated. Please use tf.compat.v1.executing_eagerly_outside_functions instead.\n",
      "\n",
      "562/562 [==============================] - ETA: 0s - loss: 0.8648 - accuracy: 0.7023\n",
      "Epoch 1: saving model to model/keypoint_classifier\\keypoint_classifier.hdf5\n",
      "562/562 [==============================] - 5s 8ms/step - loss: 0.8648 - accuracy: 0.7023 - val_loss: 0.2419 - val_accuracy: 0.9436\n",
      "Epoch 2/1000\n",
      " 26/562 [>.............................] - ETA: 3s - loss: 0.5067 - accuracy: 0.8173"
     ]
    },
    {
     "name": "stderr",
     "output_type": "stream",
     "text": [
      "C:\\Users\\tanta\\AppData\\Local\\Programs\\Python\\Python310\\lib\\site-packages\\keras\\src\\engine\\training.py:3103: UserWarning: You are saving your model as an HDF5 file via `model.save()`. This file format is considered legacy. We recommend using instead the native Keras format, e.g. `model.save('my_model.keras')`.\n",
      "  saving_api.save_model(\n"
     ]
    },
    {
     "name": "stdout",
     "output_type": "stream",
     "text": [
      "556/562 [============================>.] - ETA: 0s - loss: 0.4180 - accuracy: 0.8519\n",
      "Epoch 2: saving model to model/keypoint_classifier\\keypoint_classifier.hdf5\n",
      "562/562 [==============================] - 4s 7ms/step - loss: 0.4173 - accuracy: 0.8522 - val_loss: 0.1379 - val_accuracy: 0.9712\n",
      "Epoch 3/1000\n",
      "559/562 [============================>.] - ETA: 0s - loss: 0.2778 - accuracy: 0.9051\n",
      "Epoch 3: saving model to model/keypoint_classifier\\keypoint_classifier.hdf5\n",
      "562/562 [==============================] - 4s 8ms/step - loss: 0.2776 - accuracy: 0.9052 - val_loss: 0.0946 - val_accuracy: 0.9881\n",
      "Epoch 4/1000\n",
      "557/562 [============================>.] - ETA: 0s - loss: 0.2164 - accuracy: 0.9275\n",
      "Epoch 4: saving model to model/keypoint_classifier\\keypoint_classifier.hdf5\n",
      "562/562 [==============================] - 4s 8ms/step - loss: 0.2161 - accuracy: 0.9276 - val_loss: 0.0839 - val_accuracy: 0.9772\n",
      "Epoch 5/1000\n",
      "558/562 [============================>.] - ETA: 0s - loss: 0.1740 - accuracy: 0.9423\n",
      "Epoch 5: saving model to model/keypoint_classifier\\keypoint_classifier.hdf5\n",
      "562/562 [==============================] - 4s 7ms/step - loss: 0.1741 - accuracy: 0.9423 - val_loss: 0.0758 - val_accuracy: 0.9893\n",
      "Epoch 6/1000\n",
      "556/562 [============================>.] - ETA: 0s - loss: 0.1503 - accuracy: 0.9505\n",
      "Epoch 6: saving model to model/keypoint_classifier\\keypoint_classifier.hdf5\n",
      "562/562 [==============================] - 4s 7ms/step - loss: 0.1501 - accuracy: 0.9506 - val_loss: 0.0778 - val_accuracy: 0.9846\n",
      "Epoch 7/1000\n",
      "561/562 [============================>.] - ETA: 0s - loss: 0.1364 - accuracy: 0.9539\n",
      "Epoch 7: saving model to model/keypoint_classifier\\keypoint_classifier.hdf5\n",
      "562/562 [==============================] - 4s 8ms/step - loss: 0.1364 - accuracy: 0.9539 - val_loss: 0.0745 - val_accuracy: 0.9852\n",
      "Epoch 8/1000\n",
      "558/562 [============================>.] - ETA: 0s - loss: 0.1192 - accuracy: 0.9609\n",
      "Epoch 8: saving model to model/keypoint_classifier\\keypoint_classifier.hdf5\n",
      "562/562 [==============================] - 4s 7ms/step - loss: 0.1193 - accuracy: 0.9608 - val_loss: 0.0798 - val_accuracy: 0.9821\n",
      "Epoch 9/1000\n",
      "558/562 [============================>.] - ETA: 0s - loss: 0.1125 - accuracy: 0.9629\n",
      "Epoch 9: saving model to model/keypoint_classifier\\keypoint_classifier.hdf5\n",
      "562/562 [==============================] - 4s 8ms/step - loss: 0.1125 - accuracy: 0.9628 - val_loss: 0.0888 - val_accuracy: 0.9773\n",
      "Epoch 10/1000\n",
      "562/562 [==============================] - ETA: 0s - loss: 0.1035 - accuracy: 0.9665\n",
      "Epoch 10: saving model to model/keypoint_classifier\\keypoint_classifier.hdf5\n",
      "562/562 [==============================] - 4s 8ms/step - loss: 0.1035 - accuracy: 0.9665 - val_loss: 0.1021 - val_accuracy: 0.9675\n",
      "Epoch 11/1000\n",
      "560/562 [============================>.] - ETA: 0s - loss: 0.0971 - accuracy: 0.9679\n",
      "Epoch 11: saving model to model/keypoint_classifier\\keypoint_classifier.hdf5\n",
      "562/562 [==============================] - 4s 7ms/step - loss: 0.0971 - accuracy: 0.9679 - val_loss: 0.1284 - val_accuracy: 0.9527\n",
      "Epoch 12/1000\n",
      "560/562 [============================>.] - ETA: 0s - loss: 0.0939 - accuracy: 0.9695\n",
      "Epoch 12: saving model to model/keypoint_classifier\\keypoint_classifier.hdf5\n",
      "562/562 [==============================] - 4s 8ms/step - loss: 0.0938 - accuracy: 0.9696 - val_loss: 0.0675 - val_accuracy: 0.9857\n",
      "Epoch 13/1000\n",
      "562/562 [==============================] - ETA: 0s - loss: 0.0908 - accuracy: 0.9697\n",
      "Epoch 13: saving model to model/keypoint_classifier\\keypoint_classifier.hdf5\n",
      "562/562 [==============================] - 5s 9ms/step - loss: 0.0908 - accuracy: 0.9697 - val_loss: 0.0830 - val_accuracy: 0.9744\n",
      "Epoch 14/1000\n",
      "561/562 [============================>.] - ETA: 0s - loss: 0.0844 - accuracy: 0.9726\n",
      "Epoch 14: saving model to model/keypoint_classifier\\keypoint_classifier.hdf5\n",
      "562/562 [==============================] - 5s 8ms/step - loss: 0.0844 - accuracy: 0.9726 - val_loss: 0.1066 - val_accuracy: 0.9672\n",
      "Epoch 15/1000\n",
      "558/562 [============================>.] - ETA: 0s - loss: 0.0818 - accuracy: 0.9731\n",
      "Epoch 15: saving model to model/keypoint_classifier\\keypoint_classifier.hdf5\n",
      "562/562 [==============================] - 5s 9ms/step - loss: 0.0816 - accuracy: 0.9732 - val_loss: 0.1026 - val_accuracy: 0.9691\n",
      "Epoch 16/1000\n",
      "560/562 [============================>.] - ETA: 0s - loss: 0.0805 - accuracy: 0.9731\n",
      "Epoch 16: saving model to model/keypoint_classifier\\keypoint_classifier.hdf5\n",
      "562/562 [==============================] - 4s 7ms/step - loss: 0.0806 - accuracy: 0.9731 - val_loss: 0.1229 - val_accuracy: 0.9611\n",
      "Epoch 17/1000\n",
      "561/562 [============================>.] - ETA: 0s - loss: 0.0775 - accuracy: 0.9741\n",
      "Epoch 17: saving model to model/keypoint_classifier\\keypoint_classifier.hdf5\n",
      "562/562 [==============================] - 4s 7ms/step - loss: 0.0775 - accuracy: 0.9741 - val_loss: 0.0830 - val_accuracy: 0.9707\n",
      "Epoch 18/1000\n",
      "557/562 [============================>.] - ETA: 0s - loss: 0.0742 - accuracy: 0.9754\n",
      "Epoch 18: saving model to model/keypoint_classifier\\keypoint_classifier.hdf5\n",
      "562/562 [==============================] - 4s 7ms/step - loss: 0.0740 - accuracy: 0.9754 - val_loss: 0.0676 - val_accuracy: 0.9830\n",
      "Epoch 19/1000\n",
      "554/562 [============================>.] - ETA: 0s - loss: 0.0751 - accuracy: 0.9753\n",
      "Epoch 19: saving model to model/keypoint_classifier\\keypoint_classifier.hdf5\n",
      "562/562 [==============================] - 4s 7ms/step - loss: 0.0747 - accuracy: 0.9755 - val_loss: 0.0916 - val_accuracy: 0.9734\n",
      "Epoch 20/1000\n",
      "560/562 [============================>.] - ETA: 0s - loss: 0.0735 - accuracy: 0.9759\n",
      "Epoch 20: saving model to model/keypoint_classifier\\keypoint_classifier.hdf5\n",
      "562/562 [==============================] - 4s 8ms/step - loss: 0.0735 - accuracy: 0.9758 - val_loss: 0.1019 - val_accuracy: 0.9626\n",
      "Epoch 21/1000\n",
      "557/562 [============================>.] - ETA: 0s - loss: 0.0679 - accuracy: 0.9773\n",
      "Epoch 21: saving model to model/keypoint_classifier\\keypoint_classifier.hdf5\n",
      "562/562 [==============================] - 4s 7ms/step - loss: 0.0680 - accuracy: 0.9773 - val_loss: 0.0705 - val_accuracy: 0.9813\n",
      "Epoch 22/1000\n",
      "561/562 [============================>.] - ETA: 0s - loss: 0.0659 - accuracy: 0.9789\n",
      "Epoch 22: saving model to model/keypoint_classifier\\keypoint_classifier.hdf5\n",
      "562/562 [==============================] - 4s 7ms/step - loss: 0.0659 - accuracy: 0.9789 - val_loss: 0.1045 - val_accuracy: 0.9653\n",
      "Epoch 23/1000\n",
      "556/562 [============================>.] - ETA: 0s - loss: 0.0642 - accuracy: 0.9787\n",
      "Epoch 23: saving model to model/keypoint_classifier\\keypoint_classifier.hdf5\n",
      "562/562 [==============================] - 4s 7ms/step - loss: 0.0644 - accuracy: 0.9787 - val_loss: 0.1052 - val_accuracy: 0.9628\n",
      "Epoch 24/1000\n",
      "561/562 [============================>.] - ETA: 0s - loss: 0.0614 - accuracy: 0.9795\n",
      "Epoch 24: saving model to model/keypoint_classifier\\keypoint_classifier.hdf5\n",
      "562/562 [==============================] - 4s 7ms/step - loss: 0.0614 - accuracy: 0.9795 - val_loss: 0.0988 - val_accuracy: 0.9669\n",
      "Epoch 25/1000\n",
      "561/562 [============================>.] - ETA: 0s - loss: 0.0610 - accuracy: 0.9797\n",
      "Epoch 25: saving model to model/keypoint_classifier\\keypoint_classifier.hdf5\n",
      "562/562 [==============================] - 4s 7ms/step - loss: 0.0610 - accuracy: 0.9797 - val_loss: 0.0442 - val_accuracy: 0.9912\n",
      "Epoch 26/1000\n",
      "557/562 [============================>.] - ETA: 0s - loss: 0.0611 - accuracy: 0.9793\n",
      "Epoch 26: saving model to model/keypoint_classifier\\keypoint_classifier.hdf5\n",
      "562/562 [==============================] - 4s 8ms/step - loss: 0.0611 - accuracy: 0.9793 - val_loss: 0.1054 - val_accuracy: 0.9552\n",
      "Epoch 27/1000\n",
      "558/562 [============================>.] - ETA: 0s - loss: 0.0597 - accuracy: 0.9804\n",
      "Epoch 27: saving model to model/keypoint_classifier\\keypoint_classifier.hdf5\n",
      "562/562 [==============================] - 4s 8ms/step - loss: 0.0599 - accuracy: 0.9803 - val_loss: 0.0891 - val_accuracy: 0.9699\n",
      "Epoch 28/1000\n",
      "559/562 [============================>.] - ETA: 0s - loss: 0.0588 - accuracy: 0.9802\n",
      "Epoch 28: saving model to model/keypoint_classifier\\keypoint_classifier.hdf5\n",
      "562/562 [==============================] - 4s 8ms/step - loss: 0.0588 - accuracy: 0.9803 - val_loss: 0.0628 - val_accuracy: 0.9819\n",
      "Epoch 29/1000\n",
      "555/562 [============================>.] - ETA: 0s - loss: 0.0592 - accuracy: 0.9801\n",
      "Epoch 29: saving model to model/keypoint_classifier\\keypoint_classifier.hdf5\n",
      "562/562 [==============================] - 5s 9ms/step - loss: 0.0592 - accuracy: 0.9801 - val_loss: 0.0950 - val_accuracy: 0.9643\n",
      "Epoch 30/1000\n",
      "559/562 [============================>.] - ETA: 0s - loss: 0.0578 - accuracy: 0.9809\n",
      "Epoch 30: saving model to model/keypoint_classifier\\keypoint_classifier.hdf5\n",
      "562/562 [==============================] - 5s 8ms/step - loss: 0.0577 - accuracy: 0.9809 - val_loss: 0.0701 - val_accuracy: 0.9807\n",
      "Epoch 31/1000\n",
      "557/562 [============================>.] - ETA: 0s - loss: 0.0551 - accuracy: 0.9819\n",
      "Epoch 31: saving model to model/keypoint_classifier\\keypoint_classifier.hdf5\n",
      "562/562 [==============================] - 5s 8ms/step - loss: 0.0551 - accuracy: 0.9818 - val_loss: 0.0561 - val_accuracy: 0.9860\n",
      "Epoch 32/1000\n",
      "559/562 [============================>.] - ETA: 0s - loss: 0.0537 - accuracy: 0.9824\n",
      "Epoch 32: saving model to model/keypoint_classifier\\keypoint_classifier.hdf5\n",
      "562/562 [==============================] - 5s 9ms/step - loss: 0.0536 - accuracy: 0.9824 - val_loss: 0.0976 - val_accuracy: 0.9626\n",
      "Epoch 33/1000\n",
      "558/562 [============================>.] - ETA: 0s - loss: 0.0537 - accuracy: 0.9821\n",
      "Epoch 33: saving model to model/keypoint_classifier\\keypoint_classifier.hdf5\n",
      "562/562 [==============================] - 5s 8ms/step - loss: 0.0536 - accuracy: 0.9821 - val_loss: 0.0851 - val_accuracy: 0.9694\n",
      "Epoch 34/1000\n",
      "562/562 [==============================] - ETA: 0s - loss: 0.0537 - accuracy: 0.9827\n",
      "Epoch 34: saving model to model/keypoint_classifier\\keypoint_classifier.hdf5\n",
      "562/562 [==============================] - 4s 8ms/step - loss: 0.0537 - accuracy: 0.9827 - val_loss: 0.0770 - val_accuracy: 0.9776\n",
      "Epoch 35/1000\n",
      "560/562 [============================>.] - ETA: 0s - loss: 0.0539 - accuracy: 0.9822\n",
      "Epoch 35: saving model to model/keypoint_classifier\\keypoint_classifier.hdf5\n",
      "562/562 [==============================] - 4s 7ms/step - loss: 0.0540 - accuracy: 0.9822 - val_loss: 0.1010 - val_accuracy: 0.9626\n",
      "Epoch 36/1000\n",
      "558/562 [============================>.] - ETA: 0s - loss: 0.0507 - accuracy: 0.9834\n",
      "Epoch 36: saving model to model/keypoint_classifier\\keypoint_classifier.hdf5\n",
      "562/562 [==============================] - 4s 6ms/step - loss: 0.0508 - accuracy: 0.9833 - val_loss: 0.1095 - val_accuracy: 0.9529\n",
      "Epoch 37/1000\n",
      "558/562 [============================>.] - ETA: 0s - loss: 0.0519 - accuracy: 0.9824\n",
      "Epoch 37: saving model to model/keypoint_classifier\\keypoint_classifier.hdf5\n",
      "562/562 [==============================] - 4s 7ms/step - loss: 0.0518 - accuracy: 0.9824 - val_loss: 0.0953 - val_accuracy: 0.9610\n",
      "Epoch 38/1000\n",
      "559/562 [============================>.] - ETA: 0s - loss: 0.0500 - accuracy: 0.9837\n",
      "Epoch 38: saving model to model/keypoint_classifier\\keypoint_classifier.hdf5\n",
      "562/562 [==============================] - 4s 7ms/step - loss: 0.0500 - accuracy: 0.9837 - val_loss: 0.1005 - val_accuracy: 0.9696\n",
      "Epoch 39/1000\n",
      "559/562 [============================>.] - ETA: 0s - loss: 0.0517 - accuracy: 0.9827\n",
      "Epoch 39: saving model to model/keypoint_classifier\\keypoint_classifier.hdf5\n",
      "562/562 [==============================] - 4s 7ms/step - loss: 0.0518 - accuracy: 0.9827 - val_loss: 0.0695 - val_accuracy: 0.9770\n",
      "Epoch 40/1000\n",
      "560/562 [============================>.] - ETA: 0s - loss: 0.0494 - accuracy: 0.9839\n",
      "Epoch 40: saving model to model/keypoint_classifier\\keypoint_classifier.hdf5\n",
      "562/562 [==============================] - 4s 6ms/step - loss: 0.0494 - accuracy: 0.9838 - val_loss: 0.0733 - val_accuracy: 0.9795\n",
      "Epoch 41/1000\n",
      "561/562 [============================>.] - ETA: 0s - loss: 0.0468 - accuracy: 0.9842\n",
      "Epoch 41: saving model to model/keypoint_classifier\\keypoint_classifier.hdf5\n",
      "562/562 [==============================] - 4s 6ms/step - loss: 0.0468 - accuracy: 0.9842 - val_loss: 0.0716 - val_accuracy: 0.9811\n",
      "Epoch 42/1000\n",
      "556/562 [============================>.] - ETA: 0s - loss: 0.0489 - accuracy: 0.9842\n",
      "Epoch 42: saving model to model/keypoint_classifier\\keypoint_classifier.hdf5\n",
      "562/562 [==============================] - 4s 7ms/step - loss: 0.0489 - accuracy: 0.9841 - val_loss: 0.0655 - val_accuracy: 0.9850\n",
      "Epoch 43/1000\n",
      "562/562 [==============================] - ETA: 0s - loss: 0.0483 - accuracy: 0.9841\n",
      "Epoch 43: saving model to model/keypoint_classifier\\keypoint_classifier.hdf5\n",
      "562/562 [==============================] - 4s 7ms/step - loss: 0.0483 - accuracy: 0.9841 - val_loss: 0.0718 - val_accuracy: 0.9756\n",
      "Epoch 44/1000\n",
      "554/562 [============================>.] - ETA: 0s - loss: 0.0488 - accuracy: 0.9832\n",
      "Epoch 44: saving model to model/keypoint_classifier\\keypoint_classifier.hdf5\n",
      "562/562 [==============================] - 4s 7ms/step - loss: 0.0489 - accuracy: 0.9833 - val_loss: 0.0676 - val_accuracy: 0.9777\n",
      "Epoch 45/1000\n",
      "559/562 [============================>.] - ETA: 0s - loss: 0.0471 - accuracy: 0.9847\n",
      "Epoch 45: saving model to model/keypoint_classifier\\keypoint_classifier.hdf5\n",
      "562/562 [==============================] - 4s 7ms/step - loss: 0.0472 - accuracy: 0.9846 - val_loss: 0.0742 - val_accuracy: 0.9719\n",
      "Epoch 45: early stopping\n"
     ]
    },
    {
     "data": {
      "text/plain": [
       "<keras.src.callbacks.History at 0x26af3a0bd00>"
      ]
     },
     "execution_count": 11,
     "metadata": {},
     "output_type": "execute_result"
    }
   ],
   "source": [
    "model.fit(\n",
    "    X_train,\n",
    "    y_train,\n",
    "    epochs=1000,\n",
    "    batch_size=128,\n",
    "    validation_data=(X_test, y_test),\n",
    "    callbacks=[cp_callback, es_callback]\n",
    ")"
   ]
  },
  {
   "cell_type": "code",
   "execution_count": 12,
   "metadata": {},
   "outputs": [
    {
     "name": "stdout",
     "output_type": "stream",
     "text": [
      "188/188 [==============================] - 0s 2ms/step - loss: 0.0742 - accuracy: 0.9719\n"
     ]
    }
   ],
   "source": [
    "# モデル評価\n",
    "val_loss, val_acc = model.evaluate(X_test, y_test, batch_size=128)"
   ]
  },
  {
   "cell_type": "code",
   "execution_count": 13,
   "metadata": {},
   "outputs": [],
   "source": [
    "# 保存したモデルのロード\n",
    "model = tf.keras.models.load_model(model_save_path)"
   ]
  },
  {
   "cell_type": "code",
   "execution_count": 14,
   "metadata": {},
   "outputs": [
    {
     "name": "stdout",
     "output_type": "stream",
     "text": [
      "1/1 [==============================] - 0s 87ms/step\n",
      "[2.28590105e-16 7.59918864e-11 5.64342084e-09 2.11135959e-13\n",
      " 1.18135458e-11 5.44848092e-07 5.77990079e-07 9.99482632e-01\n",
      " 4.33514098e-04 6.27702757e-05 1.78642240e-11 1.67366077e-09\n",
      " 9.15524817e-13 4.16801456e-08 7.54168354e-07 1.47037382e-11\n",
      " 1.72521666e-07 1.15643886e-07 1.32586721e-17 3.97968364e-07\n",
      " 2.51657480e-11 7.60655566e-11 7.74265721e-11 1.35277423e-12\n",
      " 2.39150541e-15 7.17166915e-18 1.83646607e-05 3.23662483e-08]\n",
      "7\n"
     ]
    }
   ],
   "source": [
    "# 推論テスト\n",
    "predict_result = model.predict(np.array([X_test[0]]))\n",
    "print(np.squeeze(predict_result))\n",
    "print(np.argmax(np.squeeze(predict_result)))"
   ]
  },
  {
   "cell_type": "markdown",
   "metadata": {},
   "source": [
    "# 混同行列"
   ]
  },
  {
   "cell_type": "code",
   "execution_count": 15,
   "metadata": {},
   "outputs": [
    {
     "name": "stdout",
     "output_type": "stream",
     "text": [
      "749/749 [==============================] - 1s 1ms/step\n"
     ]
    },
    {
     "data": {
      "image/png": "[encoded data removed]",
      "text/plain": [
       "<Figure size 700x600 with 2 Axes>"
      ]
     },
     "metadata": {},
     "output_type": "display_data"
    },
    {
     "name": "stdout",
     "output_type": "stream",
     "text": [
      "Classification Report\n",
      "              precision    recall  f1-score   support\n",
      "\n",
      "           0       1.00      0.71      0.83       333\n",
      "           1       1.00      1.00      1.00       210\n",
      "           2       1.00      0.99      1.00       877\n",
      "           3       0.98      1.00      0.99       299\n",
      "           4       1.00      1.00      1.00       459\n",
      "           5       1.00      1.00      1.00       369\n",
      "           6       0.90      1.00      0.94       531\n",
      "           7       0.95      1.00      0.97      1189\n",
      "           8       1.00      0.98      0.99       203\n",
      "           9       1.00      1.00      1.00       994\n",
      "          10       0.93      0.99      0.96       338\n",
      "          11       1.00      0.99      1.00      2358\n",
      "          12       0.96      1.00      0.98      2124\n",
      "          13       0.99      1.00      1.00      1072\n",
      "          14       1.00      0.82      0.90       359\n",
      "          15       1.00      0.99      1.00       210\n",
      "          16       0.99      0.98      0.99      1156\n",
      "          17       1.00      1.00      1.00      1315\n",
      "          18       0.99      0.35      0.51       574\n",
      "          19       0.97      0.99      0.98       760\n",
      "          20       1.00      0.99      1.00       644\n",
      "          21       1.00      1.00      1.00      1013\n",
      "          22       0.83      1.00      0.91      1863\n",
      "          23       1.00      1.00      1.00       758\n",
      "          24       1.00      1.00      1.00       533\n",
      "          25       1.00      1.00      1.00       483\n",
      "          26       1.00      0.97      0.98      1967\n",
      "          27       1.00      1.00      1.00       961\n",
      "\n",
      "    accuracy                           0.97     23952\n",
      "   macro avg       0.98      0.96      0.96     23952\n",
      "weighted avg       0.98      0.97      0.97     23952\n",
      "\n"
     ]
    }
   ],
   "source": [
    "import pandas as pd\n",
    "import seaborn as sns\n",
    "import matplotlib.pyplot as plt\n",
    "from sklearn.metrics import confusion_matrix, classification_report\n",
    "\n",
    "def print_confusion_matrix(y_true, y_pred, report=True):\n",
    "    labels = sorted(list(set(y_true)))\n",
    "    cmx_data = confusion_matrix(y_true, y_pred, labels=labels)\n",
    "    \n",
    "    df_cmx = pd.DataFrame(cmx_data, index=labels, columns=labels)\n",
    " \n",
    "    fig, ax = plt.subplots(figsize=(7, 6))\n",
    "    sns.heatmap(df_cmx, annot=True, fmt='g' ,square=False)\n",
    "    ax.set_ylim(len(set(y_true)), 0)\n",
    "    plt.show()\n",
    "    \n",
    "    if report:\n",
    "        print('Classification Report')\n",
    "        print(classification_report(y_test, y_pred))\n",
    "\n",
    "Y_pred = model.predict(X_test)\n",
    "y_pred = np.argmax(Y_pred, axis=1)\n",
    "\n",
    "print_confusion_matrix(y_test, y_pred)"
   ]
  },
  {
   "cell_type": "markdown",
   "metadata": {},
   "source": [
    "# Tensorflow-Lite用のモデルへ変換"
   ]
  },
  {
   "cell_type": "code",
   "execution_count": 16,
   "metadata": {},
   "outputs": [
    {
     "name": "stderr",
     "output_type": "stream",
     "text": [
      "C:\\Users\\tanta\\AppData\\Local\\Programs\\Python\\Python310\\lib\\site-packages\\keras\\src\\engine\\training.py:3103: UserWarning: You are saving your model as an HDF5 file via `model.save()`. This file format is considered legacy. We recommend using instead the native Keras format, e.g. `model.save('my_model.keras')`.\n",
      "  saving_api.save_model(\n"
     ]
    }
   ],
   "source": [
    "# 推論専用のモデルとして保存\n",
    "model.save(model_save_path, include_optimizer=False)"
   ]
  },
  {
   "cell_type": "code",
   "execution_count": 17,
   "metadata": {},
   "outputs": [
    {
     "name": "stdout",
     "output_type": "stream",
     "text": [
      "INFO:tensorflow:Assets written to: C:\\Users\\tanta\\AppData\\Local\\Temp\\tmptj8jn14k\\assets\n"
     ]
    },
    {
     "name": "stderr",
     "output_type": "stream",
     "text": [
      "INFO:tensorflow:Assets written to: C:\\Users\\tanta\\AppData\\Local\\Temp\\tmptj8jn14k\\assets\n"
     ]
    },
    {
     "data": {
      "text/plain": [
       "371976"
      ]
     },
     "execution_count": 17,
     "metadata": {},
     "output_type": "execute_result"
    }
   ],
   "source": [
    "# モデルを変換(量子化)\n",
    "tflite_save_path = 'model/keypoint_classifier/keypoint_classifier.tflite'\n",
    "\n",
    "converter = tf.lite.TFLiteConverter.from_keras_model(model)\n",
    "converter.optimizations = [tf.lite.Optimize.DEFAULT]\n",
    "tflite_quantized_model = converter.convert()\n",
    "\n",
    "open(tflite_save_path, 'wb').write(tflite_quantized_model)"
   ]
  },
  {
   "cell_type": "markdown",
   "metadata": {},
   "source": [
    "# 推論テスト"
   ]
  },
  {
   "cell_type": "code",
   "execution_count": 18,
   "metadata": {},
   "outputs": [],
   "source": [
    "interpreter = tf.lite.Interpreter(model_path=tflite_save_path)\n",
    "interpreter.allocate_tensors()"
   ]
  },
  {
   "cell_type": "code",
   "execution_count": 19,
   "metadata": {},
   "outputs": [],
   "source": [
    "# 入出力テンソルを取得\n",
    "input_details = interpreter.get_input_details()\n",
    "output_details = interpreter.get_output_details()"
   ]
  },
  {
   "cell_type": "code",
   "execution_count": 20,
   "metadata": {},
   "outputs": [],
   "source": [
    "interpreter.set_tensor(input_details[0]['index'], np.array([X_test[0]]))"
   ]
  },
  {
   "cell_type": "code",
   "execution_count": 21,
   "metadata": {
    "scrolled": true
   },
   "outputs": [
    {
     "name": "stdout",
     "output_type": "stream",
     "text": [
      "CPU times: total: 0 ns\n",
      "Wall time: 0 ns\n"
     ]
    }
   ],
   "source": [
    "%%time\n",
    "# 推論実施\n",
    "interpreter.invoke()\n",
    "tflite_results = interpreter.get_tensor(output_details[0]['index'])"
   ]
  },
  {
   "cell_type": "code",
   "execution_count": 22,
   "metadata": {},
   "outputs": [
    {
     "name": "stdout",
     "output_type": "stream",
     "text": [
      "[3.50418324e-16 8.92508775e-11 6.56511823e-09 3.43847048e-13\n",
      " 1.50088639e-11 5.18106901e-07 7.72276735e-07 9.99460638e-01\n",
      " 4.45571262e-04 7.14667112e-05 2.28543330e-11 2.22805663e-09\n",
      " 1.05824702e-12 5.06480831e-08 8.83212635e-07 1.94708381e-11\n",
      " 1.62957164e-07 1.23928118e-07 1.81848660e-17 5.78866548e-07\n",
      " 3.09391367e-11 1.07145376e-10 9.40130820e-11 1.76938976e-12\n",
      " 3.57654495e-15 9.39331828e-18 1.92095067e-05 3.90266663e-08]\n",
      "7\n"
     ]
    }
   ],
   "source": [
    "print(np.squeeze(tflite_results))\n",
    "print(np.argmax(np.squeeze(tflite_results)))"
   ]
  }
 ],
 "metadata": {
  "kernelspec": {
   "display_name": "Python 3 (ipykernel)",
   "language": "python",
   "name": "python3"
  },
  "language_info": {
   "codemirror_mode": {
    "name": "ipython",
    "version": 3
   },
   "file_extension": ".py",
   "mimetype": "text/x-python",
   "name": "python",
   "nbconvert_exporter": "python",
   "pygments_lexer": "ipython3",
   "version": "3.10.10"
  }
 },
 "nbformat": 4,
 "nbformat_minor": 4
}
