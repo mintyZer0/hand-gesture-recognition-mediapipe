{
 "cells": [
  {
   "cell_type": "code",
   "execution_count": 1,
   "metadata": {},
   "outputs": [
    {
     "name": "stdout",
     "output_type": "stream",
     "text": [
      "WARNING:tensorflow:From C:\\ProgramData\\anaconda3\\Lib\\site-packages\\keras\\src\\losses.py:2976: The name tf.losses.sparse_softmax_cross_entropy is deprecated. Please use tf.compat.v1.losses.sparse_softmax_cross_entropy instead.\n",
      "\n"
     ]
    }
   ],
   "source": [
    "import csv\n",
    "\n",
    "import numpy as np\n",
    "import tensorflow as tf\n",
    "from sklearn.model_selection import train_test_split\n",
    "\n",
    "RANDOM_SEED = 42"
   ]
  },
  {
   "cell_type": "markdown",
   "metadata": {},
   "source": [
    "# 各パス指定"
   ]
  },
  {
   "cell_type": "code",
   "execution_count": 2,
   "metadata": {},
   "outputs": [],
   "source": [
    "dataset = 'model/keypoint_classifier/keypoint.csv'\n",
    "model_save_path = 'model/keypoint_classifier/keypoint_classifier.hdf5'"
   ]
  },
  {
   "cell_type": "markdown",
   "metadata": {},
   "source": [
    "# 分類数設定"
   ]
  },
  {
   "cell_type": "code",
   "execution_count": 3,
   "metadata": {},
   "outputs": [],
   "source": [
    "NUM_CLASSES = 24"
   ]
  },
  {
   "cell_type": "markdown",
   "metadata": {},
   "source": [
    "# 学習データ読み込み"
   ]
  },
  {
   "cell_type": "code",
   "execution_count": 4,
   "metadata": {},
   "outputs": [],
   "source": [
    "X_dataset = np.loadtxt(dataset, delimiter=',', dtype='float32', usecols=list(range(1, (21 * 2) + 1)))"
   ]
  },
  {
   "cell_type": "code",
   "execution_count": 5,
   "metadata": {},
   "outputs": [],
   "source": [
    "y_dataset = np.loadtxt(dataset, delimiter=',', dtype='int32', usecols=(0))"
   ]
  },
  {
   "cell_type": "code",
   "execution_count": 6,
   "metadata": {},
   "outputs": [],
   "source": [
    "X_train, X_test, y_train, y_test = train_test_split(X_dataset, y_dataset, train_size=0.75, random_state=RANDOM_SEED)"
   ]
  },
  {
   "cell_type": "markdown",
   "metadata": {},
   "source": [
    "# モデル構築"
   ]
  },
  {
   "cell_type": "code",
   "execution_count": 7,
   "metadata": {},
   "outputs": [
    {
     "name": "stdout",
     "output_type": "stream",
     "text": [
      "WARNING:tensorflow:From C:\\ProgramData\\anaconda3\\Lib\\site-packages\\keras\\src\\backend.py:1398: The name tf.executing_eagerly_outside_functions is deprecated. Please use tf.compat.v1.executing_eagerly_outside_functions instead.\n",
      "\n"
     ]
    }
   ],
   "source": [
    "model = tf.keras.models.Sequential([\n",
    "    tf.keras.layers.Input((21 * 2, )),\n",
    "    tf.keras.layers.Dropout(0.2),\n",
    "    tf.keras.layers.Dense(800, activation='relu'),\n",
    "    tf.keras.layers.Dropout(0.4),\n",
    "    tf.keras.layers.Dense(400, activation='relu'),\n",
    "    tf.keras.layers.Dense(NUM_CLASSES, activation='softmax')\n",
    "])"
   ]
  },
  {
   "cell_type": "code",
   "execution_count": 8,
   "metadata": {},
   "outputs": [
    {
     "name": "stdout",
     "output_type": "stream",
     "text": [
      "Model: \"sequential\"\n",
      "_________________________________________________________________\n",
      " Layer (type)                Output Shape              Param #   \n",
      "=================================================================\n",
      " dropout (Dropout)           (None, 42)                0         \n",
      "                                                                 \n",
      " dense (Dense)               (None, 800)               34400     \n",
      "                                                                 \n",
      " dropout_1 (Dropout)         (None, 800)               0         \n",
      "                                                                 \n",
      " dense_1 (Dense)             (None, 400)               320400    \n",
      "                                                                 \n",
      " dense_2 (Dense)             (None, 24)                9624      \n",
      "                                                                 \n",
      "=================================================================\n",
      "Total params: 364424 (1.39 MB)\n",
      "Trainable params: 364424 (1.39 MB)\n",
      "Non-trainable params: 0 (0.00 Byte)\n",
      "_________________________________________________________________\n"
     ]
    }
   ],
   "source": [
    "model.summary()  # tf.keras.utils.plot_model(model, show_shapes=True)"
   ]
  },
  {
   "cell_type": "code",
   "execution_count": 9,
   "metadata": {},
   "outputs": [],
   "source": [
    "# モデルチェックポイントのコールバック\n",
    "cp_callback = tf.keras.callbacks.ModelCheckpoint(\n",
    "    model_save_path, verbose=1, save_weights_only=False)\n",
    "# 早期打ち切り用コールバック\n",
    "es_callback = tf.keras.callbacks.EarlyStopping(patience=20, verbose=1)"
   ]
  },
  {
   "cell_type": "code",
   "execution_count": 10,
   "metadata": {},
   "outputs": [
    {
     "name": "stdout",
     "output_type": "stream",
     "text": [
      "WARNING:tensorflow:From C:\\ProgramData\\anaconda3\\Lib\\site-packages\\keras\\src\\optimizers\\__init__.py:309: The name tf.train.Optimizer is deprecated. Please use tf.compat.v1.train.Optimizer instead.\n",
      "\n"
     ]
    }
   ],
   "source": [
    "# モデルコンパイル\n",
    "model.compile(\n",
    "    optimizer='adam',\n",
    "    loss='sparse_categorical_crossentropy',\n",
    "    metrics=['accuracy']\n",
    ")"
   ]
  },
  {
   "cell_type": "markdown",
   "metadata": {},
   "source": [
    "# モデル訓練"
   ]
  },
  {
   "cell_type": "code",
   "execution_count": 11,
   "metadata": {
    "scrolled": true
   },
   "outputs": [
    {
     "name": "stdout",
     "output_type": "stream",
     "text": [
      "Epoch 1/1000\n",
      "WARNING:tensorflow:From C:\\ProgramData\\anaconda3\\Lib\\site-packages\\keras\\src\\utils\\tf_utils.py:492: The name tf.ragged.RaggedTensorValue is deprecated. Please use tf.compat.v1.ragged.RaggedTensorValue instead.\n",
      "\n",
      "WARNING:tensorflow:From C:\\ProgramData\\anaconda3\\Lib\\site-packages\\keras\\src\\engine\\base_layer_utils.py:384: The name tf.executing_eagerly_outside_functions is deprecated. Please use tf.compat.v1.executing_eagerly_outside_functions instead.\n",
      "\n",
      "409/415 [============================>.] - ETA: 0s - loss: 0.9422 - accuracy: 0.6786\n",
      "Epoch 1: saving model to model/keypoint_classifier\\keypoint_classifier.hdf5\n",
      "415/415 [==============================] - 4s 8ms/step - loss: 0.9367 - accuracy: 0.6804 - val_loss: 0.2486 - val_accuracy: 0.9407\n",
      "Epoch 2/1000\n",
      " 17/415 [>.............................] - ETA: 2s - loss: 0.5318 - accuracy: 0.8116"
     ]
    },
    {
     "name": "stderr",
     "output_type": "stream",
     "text": [
      "C:\\ProgramData\\anaconda3\\Lib\\site-packages\\keras\\src\\engine\\training.py:3103: UserWarning: You are saving your model as an HDF5 file via `model.save()`. This file format is considered legacy. We recommend using instead the native Keras format, e.g. `model.save('my_model.keras')`.\n",
      "  saving_api.save_model(\n"
     ]
    },
    {
     "name": "stdout",
     "output_type": "stream",
     "text": [
      "412/415 [============================>.] - ETA: 0s - loss: 0.4380 - accuracy: 0.8443\n",
      "Epoch 2: saving model to model/keypoint_classifier\\keypoint_classifier.hdf5\n",
      "415/415 [==============================] - 3s 8ms/step - loss: 0.4378 - accuracy: 0.8445 - val_loss: 0.1350 - val_accuracy: 0.9781\n",
      "Epoch 3/1000\n",
      "409/415 [============================>.] - ETA: 0s - loss: 0.3034 - accuracy: 0.8961\n",
      "Epoch 3: saving model to model/keypoint_classifier\\keypoint_classifier.hdf5\n",
      "415/415 [==============================] - 3s 8ms/step - loss: 0.3029 - accuracy: 0.8963 - val_loss: 0.1045 - val_accuracy: 0.9849\n",
      "Epoch 4/1000\n",
      "409/415 [============================>.] - ETA: 0s - loss: 0.2374 - accuracy: 0.9187\n",
      "Epoch 4: saving model to model/keypoint_classifier\\keypoint_classifier.hdf5\n",
      "415/415 [==============================] - 3s 8ms/step - loss: 0.2370 - accuracy: 0.9188 - val_loss: 0.0847 - val_accuracy: 0.9835\n",
      "Epoch 5/1000\n",
      "413/415 [============================>.] - ETA: 0s - loss: 0.2007 - accuracy: 0.9327\n",
      "Epoch 5: saving model to model/keypoint_classifier\\keypoint_classifier.hdf5\n",
      "415/415 [==============================] - 3s 7ms/step - loss: 0.2007 - accuracy: 0.9327 - val_loss: 0.0798 - val_accuracy: 0.9842\n",
      "Epoch 6/1000\n",
      "407/415 [============================>.] - ETA: 0s - loss: 0.1741 - accuracy: 0.9421\n",
      "Epoch 6: saving model to model/keypoint_classifier\\keypoint_classifier.hdf5\n",
      "415/415 [==============================] - 3s 8ms/step - loss: 0.1738 - accuracy: 0.9420 - val_loss: 0.0629 - val_accuracy: 0.9913\n",
      "Epoch 7/1000\n",
      "414/415 [============================>.] - ETA: 0s - loss: 0.1614 - accuracy: 0.9459\n",
      "Epoch 7: saving model to model/keypoint_classifier\\keypoint_classifier.hdf5\n",
      "415/415 [==============================] - 3s 7ms/step - loss: 0.1614 - accuracy: 0.9459 - val_loss: 0.0823 - val_accuracy: 0.9863\n",
      "Epoch 8/1000\n",
      "415/415 [==============================] - ETA: 0s - loss: 0.1415 - accuracy: 0.9526\n",
      "Epoch 8: saving model to model/keypoint_classifier\\keypoint_classifier.hdf5\n",
      "415/415 [==============================] - 3s 7ms/step - loss: 0.1415 - accuracy: 0.9526 - val_loss: 0.0602 - val_accuracy: 0.9927\n",
      "Epoch 9/1000\n",
      "409/415 [============================>.] - ETA: 0s - loss: 0.1404 - accuracy: 0.9533\n",
      "Epoch 9: saving model to model/keypoint_classifier\\keypoint_classifier.hdf5\n",
      "415/415 [==============================] - 3s 7ms/step - loss: 0.1399 - accuracy: 0.9534 - val_loss: 0.0520 - val_accuracy: 0.9912\n",
      "Epoch 10/1000\n",
      "408/415 [============================>.] - ETA: 0s - loss: 0.1253 - accuracy: 0.9586\n",
      "Epoch 10: saving model to model/keypoint_classifier\\keypoint_classifier.hdf5\n",
      "415/415 [==============================] - 3s 7ms/step - loss: 0.1251 - accuracy: 0.9586 - val_loss: 0.0472 - val_accuracy: 0.9932\n",
      "Epoch 11/1000\n",
      "415/415 [==============================] - ETA: 0s - loss: 0.1171 - accuracy: 0.9609\n",
      "Epoch 11: saving model to model/keypoint_classifier\\keypoint_classifier.hdf5\n",
      "415/415 [==============================] - 3s 7ms/step - loss: 0.1171 - accuracy: 0.9609 - val_loss: 0.0498 - val_accuracy: 0.9922\n",
      "Epoch 12/1000\n",
      "415/415 [==============================] - ETA: 0s - loss: 0.1115 - accuracy: 0.9623\n",
      "Epoch 12: saving model to model/keypoint_classifier\\keypoint_classifier.hdf5\n",
      "415/415 [==============================] - 3s 8ms/step - loss: 0.1115 - accuracy: 0.9623 - val_loss: 0.0547 - val_accuracy: 0.9911\n",
      "Epoch 13/1000\n",
      "411/415 [============================>.] - ETA: 0s - loss: 0.1057 - accuracy: 0.9651\n",
      "Epoch 13: saving model to model/keypoint_classifier\\keypoint_classifier.hdf5\n",
      "415/415 [==============================] - 3s 7ms/step - loss: 0.1056 - accuracy: 0.9652 - val_loss: 0.0512 - val_accuracy: 0.9933\n",
      "Epoch 14/1000\n",
      "415/415 [==============================] - ETA: 0s - loss: 0.0990 - accuracy: 0.9668\n",
      "Epoch 14: saving model to model/keypoint_classifier\\keypoint_classifier.hdf5\n",
      "415/415 [==============================] - 3s 7ms/step - loss: 0.0990 - accuracy: 0.9668 - val_loss: 0.0551 - val_accuracy: 0.9921\n",
      "Epoch 15/1000\n",
      "414/415 [============================>.] - ETA: 0s - loss: 0.0955 - accuracy: 0.9680\n",
      "Epoch 15: saving model to model/keypoint_classifier\\keypoint_classifier.hdf5\n",
      "415/415 [==============================] - 3s 7ms/step - loss: 0.0956 - accuracy: 0.9679 - val_loss: 0.0570 - val_accuracy: 0.9905\n",
      "Epoch 16/1000\n",
      "415/415 [==============================] - ETA: 0s - loss: 0.0957 - accuracy: 0.9675\n",
      "Epoch 16: saving model to model/keypoint_classifier\\keypoint_classifier.hdf5\n",
      "415/415 [==============================] - 3s 7ms/step - loss: 0.0957 - accuracy: 0.9675 - val_loss: 0.0478 - val_accuracy: 0.9899\n",
      "Epoch 17/1000\n",
      "409/415 [============================>.] - ETA: 0s - loss: 0.0875 - accuracy: 0.9711\n",
      "Epoch 17: saving model to model/keypoint_classifier\\keypoint_classifier.hdf5\n",
      "415/415 [==============================] - 3s 8ms/step - loss: 0.0876 - accuracy: 0.9710 - val_loss: 0.0432 - val_accuracy: 0.9918\n",
      "Epoch 18/1000\n",
      "414/415 [============================>.] - ETA: 0s - loss: 0.0862 - accuracy: 0.9720\n",
      "Epoch 18: saving model to model/keypoint_classifier\\keypoint_classifier.hdf5\n",
      "415/415 [==============================] - 3s 8ms/step - loss: 0.0862 - accuracy: 0.9720 - val_loss: 0.0434 - val_accuracy: 0.9901\n",
      "Epoch 19/1000\n",
      "415/415 [==============================] - ETA: 0s - loss: 0.0818 - accuracy: 0.9730\n",
      "Epoch 19: saving model to model/keypoint_classifier\\keypoint_classifier.hdf5\n",
      "415/415 [==============================] - 3s 8ms/step - loss: 0.0818 - accuracy: 0.9730 - val_loss: 0.0436 - val_accuracy: 0.9937\n",
      "Epoch 20/1000\n",
      "410/415 [============================>.] - ETA: 0s - loss: 0.0778 - accuracy: 0.9740\n",
      "Epoch 20: saving model to model/keypoint_classifier\\keypoint_classifier.hdf5\n",
      "415/415 [==============================] - 3s 8ms/step - loss: 0.0784 - accuracy: 0.9739 - val_loss: 0.0457 - val_accuracy: 0.9932\n",
      "Epoch 21/1000\n",
      "407/415 [============================>.] - ETA: 0s - loss: 0.0760 - accuracy: 0.9748\n",
      "Epoch 21: saving model to model/keypoint_classifier\\keypoint_classifier.hdf5\n",
      "415/415 [==============================] - 3s 7ms/step - loss: 0.0760 - accuracy: 0.9749 - val_loss: 0.0313 - val_accuracy: 0.9954\n",
      "Epoch 22/1000\n",
      "411/415 [============================>.] - ETA: 0s - loss: 0.0725 - accuracy: 0.9762\n",
      "Epoch 22: saving model to model/keypoint_classifier\\keypoint_classifier.hdf5\n",
      "415/415 [==============================] - 3s 7ms/step - loss: 0.0727 - accuracy: 0.9762 - val_loss: 0.0590 - val_accuracy: 0.9862\n",
      "Epoch 23/1000\n",
      "410/415 [============================>.] - ETA: 0s - loss: 0.0737 - accuracy: 0.9755\n",
      "Epoch 23: saving model to model/keypoint_classifier\\keypoint_classifier.hdf5\n",
      "415/415 [==============================] - 3s 7ms/step - loss: 0.0737 - accuracy: 0.9754 - val_loss: 0.0402 - val_accuracy: 0.9903\n",
      "Epoch 24/1000\n",
      "410/415 [============================>.] - ETA: 0s - loss: 0.0702 - accuracy: 0.9775\n",
      "Epoch 24: saving model to model/keypoint_classifier\\keypoint_classifier.hdf5\n",
      "415/415 [==============================] - 3s 7ms/step - loss: 0.0700 - accuracy: 0.9776 - val_loss: 0.0530 - val_accuracy: 0.9841\n",
      "Epoch 25/1000\n",
      "413/415 [============================>.] - ETA: 0s - loss: 0.0705 - accuracy: 0.9771\n",
      "Epoch 25: saving model to model/keypoint_classifier\\keypoint_classifier.hdf5\n",
      "415/415 [==============================] - 3s 7ms/step - loss: 0.0704 - accuracy: 0.9771 - val_loss: 0.0700 - val_accuracy: 0.9813\n",
      "Epoch 26/1000\n",
      "414/415 [============================>.] - ETA: 0s - loss: 0.0663 - accuracy: 0.9784\n",
      "Epoch 26: saving model to model/keypoint_classifier\\keypoint_classifier.hdf5\n",
      "415/415 [==============================] - 3s 7ms/step - loss: 0.0664 - accuracy: 0.9784 - val_loss: 0.0442 - val_accuracy: 0.9919\n",
      "Epoch 27/1000\n",
      "410/415 [============================>.] - ETA: 0s - loss: 0.0658 - accuracy: 0.9781\n",
      "Epoch 27: saving model to model/keypoint_classifier\\keypoint_classifier.hdf5\n",
      "415/415 [==============================] - 3s 7ms/step - loss: 0.0658 - accuracy: 0.9781 - val_loss: 0.0323 - val_accuracy: 0.9918\n",
      "Epoch 28/1000\n",
      "414/415 [============================>.] - ETA: 0s - loss: 0.0623 - accuracy: 0.9799\n",
      "Epoch 28: saving model to model/keypoint_classifier\\keypoint_classifier.hdf5\n",
      "415/415 [==============================] - 3s 8ms/step - loss: 0.0623 - accuracy: 0.9799 - val_loss: 0.0362 - val_accuracy: 0.9936\n",
      "Epoch 29/1000\n",
      "412/415 [============================>.] - ETA: 0s - loss: 0.0623 - accuracy: 0.9795\n",
      "Epoch 29: saving model to model/keypoint_classifier\\keypoint_classifier.hdf5\n",
      "415/415 [==============================] - 3s 8ms/step - loss: 0.0626 - accuracy: 0.9794 - val_loss: 0.0375 - val_accuracy: 0.9930\n",
      "Epoch 30/1000\n",
      "409/415 [============================>.] - ETA: 0s - loss: 0.0633 - accuracy: 0.9786\n",
      "Epoch 30: saving model to model/keypoint_classifier\\keypoint_classifier.hdf5\n",
      "415/415 [==============================] - 4s 8ms/step - loss: 0.0633 - accuracy: 0.9786 - val_loss: 0.0405 - val_accuracy: 0.9915\n",
      "Epoch 31/1000\n",
      "412/415 [============================>.] - ETA: 0s - loss: 0.0592 - accuracy: 0.9802\n",
      "Epoch 31: saving model to model/keypoint_classifier\\keypoint_classifier.hdf5\n",
      "415/415 [==============================] - 3s 8ms/step - loss: 0.0591 - accuracy: 0.9802 - val_loss: 0.0399 - val_accuracy: 0.9915\n",
      "Epoch 32/1000\n",
      "412/415 [============================>.] - ETA: 0s - loss: 0.0609 - accuracy: 0.9800\n",
      "Epoch 32: saving model to model/keypoint_classifier\\keypoint_classifier.hdf5\n",
      "415/415 [==============================] - 4s 9ms/step - loss: 0.0609 - accuracy: 0.9800 - val_loss: 0.0427 - val_accuracy: 0.9894\n",
      "Epoch 33/1000\n",
      "412/415 [============================>.] - ETA: 0s - loss: 0.0575 - accuracy: 0.9814\n",
      "Epoch 33: saving model to model/keypoint_classifier\\keypoint_classifier.hdf5\n",
      "415/415 [==============================] - 3s 8ms/step - loss: 0.0575 - accuracy: 0.9814 - val_loss: 0.0533 - val_accuracy: 0.9882\n",
      "Epoch 34/1000\n",
      "411/415 [============================>.] - ETA: 0s - loss: 0.0594 - accuracy: 0.9798\n",
      "Epoch 34: saving model to model/keypoint_classifier\\keypoint_classifier.hdf5\n",
      "415/415 [==============================] - 3s 8ms/step - loss: 0.0594 - accuracy: 0.9798 - val_loss: 0.0313 - val_accuracy: 0.9938\n",
      "Epoch 35/1000\n",
      "410/415 [============================>.] - ETA: 0s - loss: 0.0577 - accuracy: 0.9811\n",
      "Epoch 35: saving model to model/keypoint_classifier\\keypoint_classifier.hdf5\n",
      "415/415 [==============================] - 3s 7ms/step - loss: 0.0579 - accuracy: 0.9810 - val_loss: 0.0355 - val_accuracy: 0.9929\n",
      "Epoch 36/1000\n",
      "408/415 [============================>.] - ETA: 0s - loss: 0.0544 - accuracy: 0.9826\n",
      "Epoch 36: saving model to model/keypoint_classifier\\keypoint_classifier.hdf5\n",
      "415/415 [==============================] - 3s 8ms/step - loss: 0.0541 - accuracy: 0.9827 - val_loss: 0.0471 - val_accuracy: 0.9889\n",
      "Epoch 37/1000\n",
      "414/415 [============================>.] - ETA: 0s - loss: 0.0572 - accuracy: 0.9808\n",
      "Epoch 37: saving model to model/keypoint_classifier\\keypoint_classifier.hdf5\n",
      "415/415 [==============================] - 3s 8ms/step - loss: 0.0571 - accuracy: 0.9808 - val_loss: 0.0426 - val_accuracy: 0.9904\n",
      "Epoch 38/1000\n",
      "415/415 [==============================] - ETA: 0s - loss: 0.0547 - accuracy: 0.9814\n",
      "Epoch 38: saving model to model/keypoint_classifier\\keypoint_classifier.hdf5\n",
      "415/415 [==============================] - 3s 7ms/step - loss: 0.0547 - accuracy: 0.9814 - val_loss: 0.0369 - val_accuracy: 0.9923\n",
      "Epoch 39/1000\n",
      "411/415 [============================>.] - ETA: 0s - loss: 0.0544 - accuracy: 0.9821\n",
      "Epoch 39: saving model to model/keypoint_classifier\\keypoint_classifier.hdf5\n",
      "415/415 [==============================] - 3s 7ms/step - loss: 0.0546 - accuracy: 0.9821 - val_loss: 0.0420 - val_accuracy: 0.9891\n",
      "Epoch 40/1000\n",
      "409/415 [============================>.] - ETA: 0s - loss: 0.0520 - accuracy: 0.9832\n",
      "Epoch 40: saving model to model/keypoint_classifier\\keypoint_classifier.hdf5\n",
      "415/415 [==============================] - 3s 7ms/step - loss: 0.0520 - accuracy: 0.9832 - val_loss: 0.1016 - val_accuracy: 0.9686\n",
      "Epoch 41/1000\n",
      "412/415 [============================>.] - ETA: 0s - loss: 0.0520 - accuracy: 0.9833\n",
      "Epoch 41: saving model to model/keypoint_classifier\\keypoint_classifier.hdf5\n",
      "415/415 [==============================] - 3s 7ms/step - loss: 0.0523 - accuracy: 0.9832 - val_loss: 0.0322 - val_accuracy: 0.9918\n",
      "Epoch 41: early stopping\n"
     ]
    },
    {
     "data": {
      "text/plain": [
       "<keras.src.callbacks.History at 0x1d436cc3bd0>"
      ]
     },
     "execution_count": 11,
     "metadata": {},
     "output_type": "execute_result"
    }
   ],
   "source": [
    "model.fit(\n",
    "    X_train,\n",
    "    y_train,\n",
    "    epochs=1000,\n",
    "    batch_size=128,\n",
    "    validation_data=(X_test, y_test),\n",
    "    callbacks=[cp_callback, es_callback]\n",
    ")"
   ]
  },
  {
   "cell_type": "code",
   "execution_count": 12,
   "metadata": {},
   "outputs": [
    {
     "name": "stdout",
     "output_type": "stream",
     "text": [
      "139/139 [==============================] - 0s 3ms/step - loss: 0.0322 - accuracy: 0.9918\n"
     ]
    }
   ],
   "source": [
    "# モデル評価\n",
    "val_loss, val_acc = model.evaluate(X_test, y_test, batch_size=128)"
   ]
  },
  {
   "cell_type": "code",
   "execution_count": 13,
   "metadata": {},
   "outputs": [],
   "source": [
    "# 保存したモデルのロード\n",
    "model = tf.keras.models.load_model(model_save_path)"
   ]
  },
  {
   "cell_type": "code",
   "execution_count": 14,
   "metadata": {},
   "outputs": [
    {
     "name": "stdout",
     "output_type": "stream",
     "text": [
      "1/1 [==============================] - 0s 95ms/step\n",
      "[5.4846102e-13 1.8081782e-06 9.9855965e-01 2.3930498e-19 7.3601534e-08\n",
      " 7.7957041e-10 1.2225412e-16 7.2520961e-13 1.9011587e-07 1.6422399e-13\n",
      " 3.7227488e-13 3.3657630e-14 6.4381621e-25 1.4369609e-03 2.3371062e-12\n",
      " 2.3365901e-11 4.9856264e-10 1.1901204e-06 4.7409042e-18 2.2604694e-13\n",
      " 6.0917587e-19 1.5615571e-07 2.4663098e-13 6.0064066e-18]\n",
      "2\n"
     ]
    }
   ],
   "source": [
    "# 推論テスト\n",
    "predict_result = model.predict(np.array([X_test[0]]))\n",
    "print(np.squeeze(predict_result))\n",
    "print(np.argmax(np.squeeze(predict_result)))"
   ]
  },
  {
   "cell_type": "markdown",
   "metadata": {},
   "source": [
    "# 混同行列"
   ]
  },
  {
   "cell_type": "code",
   "execution_count": 15,
   "metadata": {},
   "outputs": [
    {
     "name": "stdout",
     "output_type": "stream",
     "text": [
      "554/554 [==============================] - 1s 2ms/step\n"
     ]
    },
    {
     "data": {
      "image/png": "[encoded data removed]",
      "text/plain": [
       "<Figure size 700x600 with 2 Axes>"
      ]
     },
     "metadata": {},
     "output_type": "display_data"
    },
    {
     "name": "stdout",
     "output_type": "stream",
     "text": [
      "Classification Report\n",
      "              precision    recall  f1-score   support\n",
      "\n",
      "           0       1.00      1.00      1.00       320\n",
      "           1       1.00      0.99      0.99       247\n",
      "           2       1.00      1.00      1.00       888\n",
      "           3       0.98      1.00      0.99       283\n",
      "           4       1.00      1.00      1.00       455\n",
      "           5       1.00      1.00      1.00       375\n",
      "           6       1.00      1.00      1.00       545\n",
      "           7       1.00      1.00      1.00       905\n",
      "           8       1.00      0.98      0.99       211\n",
      "           9       1.00      1.00      1.00       987\n",
      "          10       0.99      0.99      0.99       323\n",
      "          11       1.00      0.95      0.97      1385\n",
      "          12       0.94      1.00      0.97      1051\n",
      "          13       1.00      1.00      1.00      1055\n",
      "          14       1.00      1.00      1.00       334\n",
      "          15       1.00      0.98      0.99       213\n",
      "          16       0.99      0.97      0.98      1184\n",
      "          17       0.99      1.00      1.00      1340\n",
      "          18       1.00      0.99      0.99       561\n",
      "          19       0.96      0.99      0.97       804\n",
      "          20       1.00      1.00      1.00       654\n",
      "          21       1.00      1.00      1.00       952\n",
      "          22       1.00      1.00      1.00      1862\n",
      "          23       1.00      1.00      1.00       763\n",
      "\n",
      "    accuracy                           0.99     17697\n",
      "   macro avg       0.99      0.99      0.99     17697\n",
      "weighted avg       0.99      0.99      0.99     17697\n",
      "\n"
     ]
    }
   ],
   "source": [
    "import pandas as pd\n",
    "import seaborn as sns\n",
    "import matplotlib.pyplot as plt\n",
    "from sklearn.metrics import confusion_matrix, classification_report\n",
    "\n",
    "def print_confusion_matrix(y_true, y_pred, report=True):\n",
    "    labels = sorted(list(set(y_true)))\n",
    "    cmx_data = confusion_matrix(y_true, y_pred, labels=labels)\n",
    "    \n",
    "    df_cmx = pd.DataFrame(cmx_data, index=labels, columns=labels)\n",
    " \n",
    "    fig, ax = plt.subplots(figsize=(7, 6))\n",
    "    sns.heatmap(df_cmx, annot=True, fmt='g' ,square=False)\n",
    "    ax.set_ylim(len(set(y_true)), 0)\n",
    "    plt.show()\n",
    "    \n",
    "    if report:\n",
    "        print('Classification Report')\n",
    "        print(classification_report(y_test, y_pred))\n",
    "\n",
    "Y_pred = model.predict(X_test)\n",
    "y_pred = np.argmax(Y_pred, axis=1)\n",
    "\n",
    "print_confusion_matrix(y_test, y_pred)"
   ]
  },
  {
   "cell_type": "markdown",
   "metadata": {},
   "source": [
    "# Tensorflow-Lite用のモデルへ変換"
   ]
  },
  {
   "cell_type": "code",
   "execution_count": 16,
   "metadata": {},
   "outputs": [
    {
     "name": "stderr",
     "output_type": "stream",
     "text": [
      "C:\\ProgramData\\anaconda3\\Lib\\site-packages\\keras\\src\\engine\\training.py:3103: UserWarning: You are saving your model as an HDF5 file via `model.save()`. This file format is considered legacy. We recommend using instead the native Keras format, e.g. `model.save('my_model.keras')`.\n",
      "  saving_api.save_model(\n"
     ]
    }
   ],
   "source": [
    "# 推論専用のモデルとして保存\n",
    "model.save(model_save_path, include_optimizer=False)"
   ]
  },
  {
   "cell_type": "code",
   "execution_count": 17,
   "metadata": {},
   "outputs": [
    {
     "name": "stdout",
     "output_type": "stream",
     "text": [
      "INFO:tensorflow:Assets written to: C:\\Users\\tanta\\AppData\\Local\\Temp\\tmpy44su4y6\\assets\n"
     ]
    },
    {
     "name": "stderr",
     "output_type": "stream",
     "text": [
      "INFO:tensorflow:Assets written to: C:\\Users\\tanta\\AppData\\Local\\Temp\\tmpy44su4y6\\assets\n"
     ]
    },
    {
     "data": {
      "text/plain": [
       "370360"
      ]
     },
     "execution_count": 17,
     "metadata": {},
     "output_type": "execute_result"
    }
   ],
   "source": [
    "# モデルを変換(量子化)\n",
    "tflite_save_path = 'model/keypoint_classifier/keypoint_classifier.tflite'\n",
    "\n",
    "converter = tf.lite.TFLiteConverter.from_keras_model(model)\n",
    "converter.optimizations = [tf.lite.Optimize.DEFAULT]\n",
    "tflite_quantized_model = converter.convert()\n",
    "\n",
    "open(tflite_save_path, 'wb').write(tflite_quantized_model)"
   ]
  },
  {
   "cell_type": "markdown",
   "metadata": {},
   "source": [
    "# 推論テスト"
   ]
  },
  {
   "cell_type": "code",
   "execution_count": 18,
   "metadata": {},
   "outputs": [],
   "source": [
    "interpreter = tf.lite.Interpreter(model_path=tflite_save_path)\n",
    "interpreter.allocate_tensors()"
   ]
  },
  {
   "cell_type": "code",
   "execution_count": 19,
   "metadata": {},
   "outputs": [],
   "source": [
    "# 入出力テンソルを取得\n",
    "input_details = interpreter.get_input_details()\n",
    "output_details = interpreter.get_output_details()"
   ]
  },
  {
   "cell_type": "code",
   "execution_count": 20,
   "metadata": {},
   "outputs": [],
   "source": [
    "interpreter.set_tensor(input_details[0]['index'], np.array([X_test[0]]))"
   ]
  },
  {
   "cell_type": "code",
   "execution_count": 21,
   "metadata": {
    "scrolled": true
   },
   "outputs": [
    {
     "name": "stdout",
     "output_type": "stream",
     "text": [
      "CPU times: total: 0 ns\n",
      "Wall time: 0 ns\n"
     ]
    }
   ],
   "source": [
    "%%time\n",
    "# 推論実施\n",
    "interpreter.invoke()\n",
    "tflite_results = interpreter.get_tensor(output_details[0]['index'])"
   ]
  },
  {
   "cell_type": "code",
   "execution_count": 22,
   "metadata": {},
   "outputs": [
    {
     "name": "stdout",
     "output_type": "stream",
     "text": [
      "[6.1961406e-13 1.6708265e-06 9.9798274e-01 3.0077518e-19 5.8505243e-08\n",
      " 5.4270716e-10 1.9986281e-16 1.2722557e-12 2.3694444e-07 3.9776803e-13\n",
      " 3.7391515e-13 4.9434788e-14 1.6696357e-24 2.0136209e-03 5.0772867e-12\n",
      " 3.2346612e-11 7.8720569e-10 1.5740812e-06 9.1250074e-18 2.4891214e-13\n",
      " 9.1594226e-19 1.5379574e-07 3.2999160e-13 1.6400857e-17]\n",
      "2\n"
     ]
    }
   ],
   "source": [
    "print(np.squeeze(tflite_results))\n",
    "print(np.argmax(np.squeeze(tflite_results)))"
   ]
  }
 ],
 "metadata": {
  "kernelspec": {
   "display_name": "Python 3 (ipykernel)",
   "language": "python",
   "name": "python3"
  },
  "language_info": {
   "codemirror_mode": {
    "name": "ipython",
    "version": 3
   },
   "file_extension": ".py",
   "mimetype": "text/x-python",
   "name": "python",
   "nbconvert_exporter": "python",
   "pygments_lexer": "ipython3",
   "version": "3.11.5"
  }
 },
 "nbformat": 4,
 "nbformat_minor": 4
}
