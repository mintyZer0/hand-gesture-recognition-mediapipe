{
 "cells": [
  {
   "cell_type": "code",
   "execution_count": 1,
   "metadata": {},
   "outputs": [],
   "source": [
    "import csv\n",
    "\n",
    "import numpy as np\n",
    "import tensorflow as tf\n",
    "from sklearn.model_selection import train_test_split\n",
    "\n",
    "RANDOM_SEED = 42"
   ]
  },
  {
   "cell_type": "markdown",
   "metadata": {},
   "source": [
    "# 各パス指定"
   ]
  },
  {
   "cell_type": "code",
   "execution_count": 2,
   "metadata": {},
   "outputs": [],
   "source": [
    "dataset = 'model/keypoint_classifier/keypoint.csv'\n",
    "model_save_path = 'model/keypoint_classifier/keypoint_classifier.hdf5'"
   ]
  },
  {
   "cell_type": "markdown",
   "metadata": {},
   "source": [
    "# 分類数設定"
   ]
  },
  {
   "cell_type": "code",
   "execution_count": 3,
   "metadata": {},
   "outputs": [],
   "source": [
    "NUM_CLASSES = 19"
   ]
  },
  {
   "cell_type": "markdown",
   "metadata": {},
   "source": [
    "# 学習データ読み込み"
   ]
  },
  {
   "cell_type": "code",
   "execution_count": 4,
   "metadata": {},
   "outputs": [],
   "source": [
    "X_dataset = np.loadtxt(dataset, delimiter=',', dtype='float32', usecols=list(range(1, (21 * 2) + 1)))"
   ]
  },
  {
   "cell_type": "code",
   "execution_count": 5,
   "metadata": {},
   "outputs": [],
   "source": [
    "y_dataset = np.loadtxt(dataset, delimiter=',', dtype='int32', usecols=(0))"
   ]
  },
  {
   "cell_type": "code",
   "execution_count": 6,
   "metadata": {},
   "outputs": [],
   "source": [
    "X_train, X_test, y_train, y_test = train_test_split(X_dataset, y_dataset, train_size=0.75, random_state=RANDOM_SEED)"
   ]
  },
  {
   "cell_type": "markdown",
   "metadata": {},
   "source": [
    "# モデル構築"
   ]
  },
  {
   "cell_type": "code",
   "execution_count": 7,
   "metadata": {},
   "outputs": [],
   "source": [
    "model = tf.keras.models.Sequential([\n",
    "    tf.keras.layers.Input((21 * 2, )),\n",
    "    tf.keras.layers.Dropout(0.2),\n",
    "    tf.keras.layers.Dense(80, activation='relu'),\n",
    "    tf.keras.layers.Dropout(0.4),\n",
    "    tf.keras.layers.Dense(40, activation='relu'),\n",
    "    tf.keras.layers.Dense(NUM_CLASSES, activation='softmax')\n",
    "])"
   ]
  },
  {
   "cell_type": "code",
   "execution_count": 8,
   "metadata": {},
   "outputs": [
    {
     "name": "stdout",
     "output_type": "stream",
     "text": [
      "Model: \"sequential\"\n",
      "_________________________________________________________________\n",
      " Layer (type)                Output Shape              Param #   \n",
      "=================================================================\n",
      " dropout (Dropout)           (None, 42)                0         \n",
      "                                                                 \n",
      " dense (Dense)               (None, 80)                3440      \n",
      "                                                                 \n",
      " dropout_1 (Dropout)         (None, 80)                0         \n",
      "                                                                 \n",
      " dense_1 (Dense)             (None, 40)                3240      \n",
      "                                                                 \n",
      " dense_2 (Dense)             (None, 19)                779       \n",
      "                                                                 \n",
      "=================================================================\n",
      "Total params: 7,459\n",
      "Trainable params: 7,459\n",
      "Non-trainable params: 0\n",
      "_________________________________________________________________\n"
     ]
    }
   ],
   "source": [
    "model.summary()  # tf.keras.utils.plot_model(model, show_shapes=True)"
   ]
  },
  {
   "cell_type": "code",
   "execution_count": 9,
   "metadata": {},
   "outputs": [],
   "source": [
    "# モデルチェックポイントのコールバック\n",
    "cp_callback = tf.keras.callbacks.ModelCheckpoint(\n",
    "    model_save_path, verbose=1, save_weights_only=False)\n",
    "# 早期打ち切り用コールバック\n",
    "es_callback = tf.keras.callbacks.EarlyStopping(patience=20, verbose=1)"
   ]
  },
  {
   "cell_type": "code",
   "execution_count": 10,
   "metadata": {},
   "outputs": [],
   "source": [
    "# モデルコンパイル\n",
    "model.compile(\n",
    "    optimizer='adam',\n",
    "    loss='sparse_categorical_crossentropy',\n",
    "    metrics=['accuracy']\n",
    ")"
   ]
  },
  {
   "cell_type": "markdown",
   "metadata": {},
   "source": [
    "# モデル訓練"
   ]
  },
  {
   "cell_type": "code",
   "execution_count": 11,
   "metadata": {
    "scrolled": true
   },
   "outputs": [
    {
     "name": "stdout",
     "output_type": "stream",
     "text": [
      "Epoch 1/1000\n",
      "82/94 [=========================>....] - ETA: 0s - loss: 2.5460 - accuracy: 0.2490\n",
      "Epoch 1: saving model to model/keypoint_classifier\\keypoint_classifier.hdf5\n",
      "94/94 [==============================] - 2s 8ms/step - loss: 2.4940 - accuracy: 0.2661 - val_loss: 1.8960 - val_accuracy: 0.4630\n",
      "Epoch 2/1000\n",
      "92/94 [============================>.] - ETA: 0s - loss: 1.8019 - accuracy: 0.4446\n",
      "Epoch 2: saving model to model/keypoint_classifier\\keypoint_classifier.hdf5\n",
      "94/94 [==============================] - 0s 5ms/step - loss: 1.8002 - accuracy: 0.4448 - val_loss: 1.2742 - val_accuracy: 0.6037\n",
      "Epoch 3/1000\n",
      "83/94 [=========================>....] - ETA: 0s - loss: 1.4797 - accuracy: 0.5065\n",
      "Epoch 3: saving model to model/keypoint_classifier\\keypoint_classifier.hdf5\n",
      "94/94 [==============================] - 0s 5ms/step - loss: 1.4674 - accuracy: 0.5134 - val_loss: 0.9937 - val_accuracy: 0.6788\n",
      "Epoch 4/1000\n",
      "79/94 [========================>.....] - ETA: 0s - loss: 1.3142 - accuracy: 0.5440\n",
      "Epoch 4: saving model to model/keypoint_classifier\\keypoint_classifier.hdf5\n",
      "94/94 [==============================] - 0s 5ms/step - loss: 1.3110 - accuracy: 0.5469 - val_loss: 0.8616 - val_accuracy: 0.7372\n",
      "Epoch 5/1000\n",
      "89/94 [===========================>..] - ETA: 0s - loss: 1.1965 - accuracy: 0.5860\n",
      "Epoch 5: saving model to model/keypoint_classifier\\keypoint_classifier.hdf5\n",
      "94/94 [==============================] - 0s 5ms/step - loss: 1.1957 - accuracy: 0.5877 - val_loss: 0.7729 - val_accuracy: 0.7699\n",
      "Epoch 6/1000\n",
      "80/94 [========================>.....] - ETA: 0s - loss: 1.1451 - accuracy: 0.6021\n",
      "Epoch 6: saving model to model/keypoint_classifier\\keypoint_classifier.hdf5\n",
      "94/94 [==============================] - 0s 5ms/step - loss: 1.1429 - accuracy: 0.6023 - val_loss: 0.6962 - val_accuracy: 0.8102\n",
      "Epoch 7/1000\n",
      "86/94 [==========================>...] - ETA: 0s - loss: 1.0826 - accuracy: 0.6231\n",
      "Epoch 7: saving model to model/keypoint_classifier\\keypoint_classifier.hdf5\n",
      "94/94 [==============================] - 0s 5ms/step - loss: 1.0793 - accuracy: 0.6234 - val_loss: 0.6696 - val_accuracy: 0.8192\n",
      "Epoch 8/1000\n",
      "79/94 [========================>.....] - ETA: 0s - loss: 1.0502 - accuracy: 0.6316\n",
      "Epoch 8: saving model to model/keypoint_classifier\\keypoint_classifier.hdf5\n",
      "94/94 [==============================] - 0s 5ms/step - loss: 1.0487 - accuracy: 0.6317 - val_loss: 0.6180 - val_accuracy: 0.8439\n",
      "Epoch 9/1000\n",
      "87/94 [==========================>...] - ETA: 0s - loss: 1.0006 - accuracy: 0.6476\n",
      "Epoch 9: saving model to model/keypoint_classifier\\keypoint_classifier.hdf5\n",
      "94/94 [==============================] - 0s 5ms/step - loss: 1.0000 - accuracy: 0.6493 - val_loss: 0.5787 - val_accuracy: 0.8590\n",
      "Epoch 10/1000\n",
      "90/94 [===========================>..] - ETA: 0s - loss: 0.9761 - accuracy: 0.6582\n",
      "Epoch 10: saving model to model/keypoint_classifier\\keypoint_classifier.hdf5\n",
      "94/94 [==============================] - 0s 5ms/step - loss: 0.9772 - accuracy: 0.6577 - val_loss: 0.5737 - val_accuracy: 0.8444\n",
      "Epoch 11/1000\n",
      "79/94 [========================>.....] - ETA: 0s - loss: 0.9562 - accuracy: 0.6654\n",
      "Epoch 11: saving model to model/keypoint_classifier\\keypoint_classifier.hdf5\n",
      "94/94 [==============================] - 0s 5ms/step - loss: 0.9520 - accuracy: 0.6680 - val_loss: 0.5374 - val_accuracy: 0.8741\n",
      "Epoch 12/1000\n",
      "93/94 [============================>.] - ETA: 0s - loss: 0.9192 - accuracy: 0.6767\n",
      "Epoch 12: saving model to model/keypoint_classifier\\keypoint_classifier.hdf5\n",
      "94/94 [==============================] - 0s 5ms/step - loss: 0.9192 - accuracy: 0.6767 - val_loss: 0.5316 - val_accuracy: 0.8734\n",
      "Epoch 13/1000\n",
      "86/94 [==========================>...] - ETA: 0s - loss: 0.9158 - accuracy: 0.6798\n",
      "Epoch 13: saving model to model/keypoint_classifier\\keypoint_classifier.hdf5\n",
      "94/94 [==============================] - 0s 5ms/step - loss: 0.9143 - accuracy: 0.6802 - val_loss: 0.5201 - val_accuracy: 0.8731\n",
      "Epoch 14/1000\n",
      "90/94 [===========================>..] - ETA: 0s - loss: 0.8861 - accuracy: 0.6941\n",
      "Epoch 14: saving model to model/keypoint_classifier\\keypoint_classifier.hdf5\n",
      "94/94 [==============================] - 0s 4ms/step - loss: 0.8831 - accuracy: 0.6959 - val_loss: 0.5046 - val_accuracy: 0.8955\n",
      "Epoch 15/1000\n",
      "88/94 [===========================>..] - ETA: 0s - loss: 0.8509 - accuracy: 0.6979\n",
      "Epoch 15: saving model to model/keypoint_classifier\\keypoint_classifier.hdf5\n",
      "94/94 [==============================] - 0s 5ms/step - loss: 0.8521 - accuracy: 0.6981 - val_loss: 0.4712 - val_accuracy: 0.8927\n",
      "Epoch 16/1000\n",
      "92/94 [============================>.] - ETA: 0s - loss: 0.8385 - accuracy: 0.7045\n",
      "Epoch 16: saving model to model/keypoint_classifier\\keypoint_classifier.hdf5\n",
      "94/94 [==============================] - 1s 6ms/step - loss: 0.8384 - accuracy: 0.7044 - val_loss: 0.4748 - val_accuracy: 0.8781\n",
      "Epoch 17/1000\n",
      "87/94 [==========================>...] - ETA: 0s - loss: 0.8360 - accuracy: 0.7098\n",
      "Epoch 17: saving model to model/keypoint_classifier\\keypoint_classifier.hdf5\n",
      "94/94 [==============================] - 0s 5ms/step - loss: 0.8340 - accuracy: 0.7099 - val_loss: 0.4735 - val_accuracy: 0.8857\n",
      "Epoch 18/1000\n",
      "85/94 [==========================>...] - ETA: 0s - loss: 0.8282 - accuracy: 0.7057\n",
      "Epoch 18: saving model to model/keypoint_classifier\\keypoint_classifier.hdf5\n",
      "94/94 [==============================] - 0s 5ms/step - loss: 0.8296 - accuracy: 0.7048 - val_loss: 0.4557 - val_accuracy: 0.9001\n",
      "Epoch 19/1000\n",
      "93/94 [============================>.] - ETA: 0s - loss: 0.8101 - accuracy: 0.7115\n",
      "Epoch 19: saving model to model/keypoint_classifier\\keypoint_classifier.hdf5\n",
      "94/94 [==============================] - 1s 6ms/step - loss: 0.8100 - accuracy: 0.7115 - val_loss: 0.4432 - val_accuracy: 0.8978\n",
      "Epoch 20/1000\n",
      "76/94 [=======================>......] - ETA: 0s - loss: 0.7821 - accuracy: 0.7273\n",
      "Epoch 20: saving model to model/keypoint_classifier\\keypoint_classifier.hdf5\n",
      "94/94 [==============================] - 0s 5ms/step - loss: 0.7808 - accuracy: 0.7276 - val_loss: 0.4282 - val_accuracy: 0.8880\n",
      "Epoch 21/1000\n",
      "89/94 [===========================>..] - ETA: 0s - loss: 0.7603 - accuracy: 0.7312\n",
      "Epoch 21: saving model to model/keypoint_classifier\\keypoint_classifier.hdf5\n",
      "94/94 [==============================] - 1s 7ms/step - loss: 0.7597 - accuracy: 0.7310 - val_loss: 0.4123 - val_accuracy: 0.9121\n",
      "Epoch 22/1000\n",
      "81/94 [========================>.....] - ETA: 0s - loss: 0.7429 - accuracy: 0.7330\n",
      "Epoch 22: saving model to model/keypoint_classifier\\keypoint_classifier.hdf5\n",
      "94/94 [==============================] - 0s 5ms/step - loss: 0.7503 - accuracy: 0.7329 - val_loss: 0.4222 - val_accuracy: 0.9046\n",
      "Epoch 23/1000\n",
      "79/94 [========================>.....] - ETA: 0s - loss: 0.7242 - accuracy: 0.7437\n",
      "Epoch 23: saving model to model/keypoint_classifier\\keypoint_classifier.hdf5\n",
      "94/94 [==============================] - 1s 7ms/step - loss: 0.7273 - accuracy: 0.7427 - val_loss: 0.4012 - val_accuracy: 0.9106\n",
      "Epoch 24/1000\n",
      "91/94 [============================>.] - ETA: 0s - loss: 0.7315 - accuracy: 0.7408\n",
      "Epoch 24: saving model to model/keypoint_classifier\\keypoint_classifier.hdf5\n",
      "94/94 [==============================] - 0s 5ms/step - loss: 0.7273 - accuracy: 0.7424 - val_loss: 0.4010 - val_accuracy: 0.9245\n",
      "Epoch 25/1000\n",
      "90/94 [===========================>..] - ETA: 0s - loss: 0.7158 - accuracy: 0.7468\n",
      "Epoch 25: saving model to model/keypoint_classifier\\keypoint_classifier.hdf5\n",
      "94/94 [==============================] - 0s 5ms/step - loss: 0.7143 - accuracy: 0.7477 - val_loss: 0.4025 - val_accuracy: 0.9051\n",
      "Epoch 26/1000\n",
      "81/94 [========================>.....] - ETA: 0s - loss: 0.7066 - accuracy: 0.7456\n",
      "Epoch 26: saving model to model/keypoint_classifier\\keypoint_classifier.hdf5\n",
      "94/94 [==============================] - 1s 6ms/step - loss: 0.7088 - accuracy: 0.7451 - val_loss: 0.4032 - val_accuracy: 0.9076\n",
      "Epoch 27/1000\n",
      "79/94 [========================>.....] - ETA: 0s - loss: 0.7013 - accuracy: 0.7509\n",
      "Epoch 27: saving model to model/keypoint_classifier\\keypoint_classifier.hdf5\n",
      "94/94 [==============================] - 1s 6ms/step - loss: 0.6957 - accuracy: 0.7550 - val_loss: 0.3824 - val_accuracy: 0.9051\n",
      "Epoch 28/1000\n",
      "78/94 [=======================>......] - ETA: 0s - loss: 0.6721 - accuracy: 0.7669\n",
      "Epoch 28: saving model to model/keypoint_classifier\\keypoint_classifier.hdf5\n",
      "94/94 [==============================] - 0s 5ms/step - loss: 0.6697 - accuracy: 0.7663 - val_loss: 0.3740 - val_accuracy: 0.9386\n",
      "Epoch 29/1000\n",
      "79/94 [========================>.....] - ETA: 0s - loss: 0.6660 - accuracy: 0.7658\n",
      "Epoch 29: saving model to model/keypoint_classifier\\keypoint_classifier.hdf5\n",
      "94/94 [==============================] - 0s 5ms/step - loss: 0.6635 - accuracy: 0.7658 - val_loss: 0.3764 - val_accuracy: 0.9320\n",
      "Epoch 30/1000\n",
      "94/94 [==============================] - ETA: 0s - loss: 0.6491 - accuracy: 0.7749\n",
      "Epoch 30: saving model to model/keypoint_classifier\\keypoint_classifier.hdf5\n",
      "94/94 [==============================] - 0s 5ms/step - loss: 0.6491 - accuracy: 0.7749 - val_loss: 0.3575 - val_accuracy: 0.9313\n",
      "Epoch 31/1000\n",
      "90/94 [===========================>..] - ETA: 0s - loss: 0.6479 - accuracy: 0.7727\n",
      "Epoch 31: saving model to model/keypoint_classifier\\keypoint_classifier.hdf5\n",
      "94/94 [==============================] - 0s 5ms/step - loss: 0.6473 - accuracy: 0.7725 - val_loss: 0.3717 - val_accuracy: 0.9270\n",
      "Epoch 32/1000\n",
      "83/94 [=========================>....] - ETA: 0s - loss: 0.6350 - accuracy: 0.7740\n",
      "Epoch 32: saving model to model/keypoint_classifier\\keypoint_classifier.hdf5\n",
      "94/94 [==============================] - 0s 5ms/step - loss: 0.6362 - accuracy: 0.7745 - val_loss: 0.3748 - val_accuracy: 0.9121\n",
      "Epoch 33/1000\n",
      "87/94 [==========================>...] - ETA: 0s - loss: 0.6211 - accuracy: 0.7876\n",
      "Epoch 33: saving model to model/keypoint_classifier\\keypoint_classifier.hdf5\n",
      "94/94 [==============================] - 0s 5ms/step - loss: 0.6237 - accuracy: 0.7862 - val_loss: 0.3692 - val_accuracy: 0.9282\n",
      "Epoch 34/1000\n",
      "84/94 [=========================>....] - ETA: 0s - loss: 0.6304 - accuracy: 0.7796\n",
      "Epoch 34: saving model to model/keypoint_classifier\\keypoint_classifier.hdf5\n",
      "94/94 [==============================] - 0s 5ms/step - loss: 0.6267 - accuracy: 0.7821 - val_loss: 0.3602 - val_accuracy: 0.9147\n",
      "Epoch 35/1000\n",
      "82/94 [=========================>....] - ETA: 0s - loss: 0.6093 - accuracy: 0.7898\n",
      "Epoch 35: saving model to model/keypoint_classifier\\keypoint_classifier.hdf5\n",
      "94/94 [==============================] - 1s 5ms/step - loss: 0.6089 - accuracy: 0.7909 - val_loss: 0.3546 - val_accuracy: 0.9340\n",
      "Epoch 36/1000\n",
      "83/94 [=========================>....] - ETA: 0s - loss: 0.6029 - accuracy: 0.7899\n",
      "Epoch 36: saving model to model/keypoint_classifier\\keypoint_classifier.hdf5\n",
      "94/94 [==============================] - 0s 5ms/step - loss: 0.6001 - accuracy: 0.7910 - val_loss: 0.3456 - val_accuracy: 0.9366\n",
      "Epoch 37/1000\n",
      "80/94 [========================>.....] - ETA: 0s - loss: 0.6012 - accuracy: 0.7940\n",
      "Epoch 37: saving model to model/keypoint_classifier\\keypoint_classifier.hdf5\n",
      "94/94 [==============================] - 1s 6ms/step - loss: 0.5933 - accuracy: 0.7954 - val_loss: 0.3653 - val_accuracy: 0.9076\n",
      "Epoch 38/1000\n",
      "84/94 [=========================>....] - ETA: 0s - loss: 0.5885 - accuracy: 0.7957\n",
      "Epoch 38: saving model to model/keypoint_classifier\\keypoint_classifier.hdf5\n",
      "94/94 [==============================] - 0s 5ms/step - loss: 0.5914 - accuracy: 0.7949 - val_loss: 0.3556 - val_accuracy: 0.9293\n",
      "Epoch 39/1000\n",
      "90/94 [===========================>..] - ETA: 0s - loss: 0.5913 - accuracy: 0.7973\n",
      "Epoch 39: saving model to model/keypoint_classifier\\keypoint_classifier.hdf5\n",
      "94/94 [==============================] - 1s 15ms/step - loss: 0.5890 - accuracy: 0.7977 - val_loss: 0.3630 - val_accuracy: 0.9141\n",
      "Epoch 40/1000\n",
      "87/94 [==========================>...] - ETA: 0s - loss: 0.5739 - accuracy: 0.8037\n",
      "Epoch 40: saving model to model/keypoint_classifier\\keypoint_classifier.hdf5\n",
      "94/94 [==============================] - 1s 8ms/step - loss: 0.5755 - accuracy: 0.8035 - val_loss: 0.3423 - val_accuracy: 0.9215\n",
      "Epoch 41/1000\n",
      "82/94 [=========================>....] - ETA: 0s - loss: 0.5656 - accuracy: 0.8056\n",
      "Epoch 41: saving model to model/keypoint_classifier\\keypoint_classifier.hdf5\n",
      "94/94 [==============================] - 1s 8ms/step - loss: 0.5660 - accuracy: 0.8047 - val_loss: 0.3532 - val_accuracy: 0.9245\n",
      "Epoch 42/1000\n",
      "88/94 [===========================>..] - ETA: 0s - loss: 0.5746 - accuracy: 0.8050\n",
      "Epoch 42: saving model to model/keypoint_classifier\\keypoint_classifier.hdf5\n",
      "94/94 [==============================] - 1s 6ms/step - loss: 0.5764 - accuracy: 0.8049 - val_loss: 0.3713 - val_accuracy: 0.8890\n",
      "Epoch 43/1000\n",
      "78/94 [=======================>......] - ETA: 0s - loss: 0.5633 - accuracy: 0.8080\n",
      "Epoch 43: saving model to model/keypoint_classifier\\keypoint_classifier.hdf5\n",
      "94/94 [==============================] - 1s 7ms/step - loss: 0.5658 - accuracy: 0.8085 - val_loss: 0.3305 - val_accuracy: 0.9262\n",
      "Epoch 44/1000\n",
      "91/94 [============================>.] - ETA: 0s - loss: 0.5389 - accuracy: 0.8129\n",
      "Epoch 44: saving model to model/keypoint_classifier\\keypoint_classifier.hdf5\n",
      "94/94 [==============================] - 1s 6ms/step - loss: 0.5418 - accuracy: 0.8122 - val_loss: 0.3436 - val_accuracy: 0.9152\n",
      "Epoch 45/1000\n",
      "94/94 [==============================] - ETA: 0s - loss: 0.5398 - accuracy: 0.8200\n",
      "Epoch 45: saving model to model/keypoint_classifier\\keypoint_classifier.hdf5\n",
      "94/94 [==============================] - 1s 8ms/step - loss: 0.5398 - accuracy: 0.8200 - val_loss: 0.3400 - val_accuracy: 0.9013\n",
      "Epoch 46/1000\n",
      "79/94 [========================>.....] - ETA: 0s - loss: 0.5389 - accuracy: 0.8163\n",
      "Epoch 46: saving model to model/keypoint_classifier\\keypoint_classifier.hdf5\n",
      "94/94 [==============================] - 1s 7ms/step - loss: 0.5365 - accuracy: 0.8171 - val_loss: 0.3418 - val_accuracy: 0.9011\n",
      "Epoch 47/1000\n",
      "82/94 [=========================>....] - ETA: 0s - loss: 0.5305 - accuracy: 0.8180\n",
      "Epoch 47: saving model to model/keypoint_classifier\\keypoint_classifier.hdf5\n",
      "94/94 [==============================] - 1s 8ms/step - loss: 0.5297 - accuracy: 0.8190 - val_loss: 0.3324 - val_accuracy: 0.9237\n",
      "Epoch 48/1000\n",
      "79/94 [========================>.....] - ETA: 0s - loss: 0.5239 - accuracy: 0.8241\n",
      "Epoch 48: saving model to model/keypoint_classifier\\keypoint_classifier.hdf5\n",
      "94/94 [==============================] - 1s 7ms/step - loss: 0.5273 - accuracy: 0.8225 - val_loss: 0.3754 - val_accuracy: 0.8880\n",
      "Epoch 49/1000\n",
      "92/94 [============================>.] - ETA: 0s - loss: 0.5196 - accuracy: 0.8214\n",
      "Epoch 49: saving model to model/keypoint_classifier\\keypoint_classifier.hdf5\n",
      "94/94 [==============================] - 1s 6ms/step - loss: 0.5231 - accuracy: 0.8203 - val_loss: 0.3448 - val_accuracy: 0.9006\n",
      "Epoch 50/1000\n",
      "90/94 [===========================>..] - ETA: 0s - loss: 0.5176 - accuracy: 0.8273\n",
      "Epoch 50: saving model to model/keypoint_classifier\\keypoint_classifier.hdf5\n",
      "94/94 [==============================] - 1s 6ms/step - loss: 0.5195 - accuracy: 0.8273 - val_loss: 0.3596 - val_accuracy: 0.8764\n",
      "Epoch 51/1000\n",
      "92/94 [============================>.] - ETA: 0s - loss: 0.5104 - accuracy: 0.8286\n",
      "Epoch 51: saving model to model/keypoint_classifier\\keypoint_classifier.hdf5\n",
      "94/94 [==============================] - 1s 9ms/step - loss: 0.5094 - accuracy: 0.8290 - val_loss: 0.3509 - val_accuracy: 0.9101\n",
      "Epoch 52/1000\n",
      "87/94 [==========================>...] - ETA: 0s - loss: 0.5133 - accuracy: 0.8255\n",
      "Epoch 52: saving model to model/keypoint_classifier\\keypoint_classifier.hdf5\n",
      "94/94 [==============================] - 1s 7ms/step - loss: 0.5173 - accuracy: 0.8241 - val_loss: 0.3555 - val_accuracy: 0.8910\n",
      "Epoch 53/1000\n",
      "83/94 [=========================>....] - ETA: 0s - loss: 0.5016 - accuracy: 0.8325\n",
      "Epoch 53: saving model to model/keypoint_classifier\\keypoint_classifier.hdf5\n",
      "94/94 [==============================] - 1s 7ms/step - loss: 0.5019 - accuracy: 0.8320 - val_loss: 0.3586 - val_accuracy: 0.8797\n",
      "Epoch 54/1000\n",
      "88/94 [===========================>..] - ETA: 0s - loss: 0.5090 - accuracy: 0.8331\n",
      "Epoch 54: saving model to model/keypoint_classifier\\keypoint_classifier.hdf5\n",
      "94/94 [==============================] - 1s 7ms/step - loss: 0.5064 - accuracy: 0.8338 - val_loss: 0.3689 - val_accuracy: 0.8804\n",
      "Epoch 55/1000\n",
      "82/94 [=========================>....] - ETA: 0s - loss: 0.5067 - accuracy: 0.8294\n",
      "Epoch 55: saving model to model/keypoint_classifier\\keypoint_classifier.hdf5\n",
      "94/94 [==============================] - 1s 7ms/step - loss: 0.5047 - accuracy: 0.8304 - val_loss: 0.3625 - val_accuracy: 0.8985\n",
      "Epoch 56/1000\n",
      "81/94 [========================>.....] - ETA: 0s - loss: 0.4899 - accuracy: 0.8371\n",
      "Epoch 56: saving model to model/keypoint_classifier\\keypoint_classifier.hdf5\n",
      "94/94 [==============================] - 1s 9ms/step - loss: 0.4870 - accuracy: 0.8376 - val_loss: 0.3515 - val_accuracy: 0.8978\n",
      "Epoch 57/1000\n",
      "89/94 [===========================>..] - ETA: 0s - loss: 0.4917 - accuracy: 0.8385\n",
      "Epoch 57: saving model to model/keypoint_classifier\\keypoint_classifier.hdf5\n",
      "94/94 [==============================] - 1s 8ms/step - loss: 0.4914 - accuracy: 0.8385 - val_loss: 0.3320 - val_accuracy: 0.8940\n",
      "Epoch 58/1000\n",
      "94/94 [==============================] - ETA: 0s - loss: 0.4943 - accuracy: 0.8356\n",
      "Epoch 58: saving model to model/keypoint_classifier\\keypoint_classifier.hdf5\n",
      "94/94 [==============================] - 1s 7ms/step - loss: 0.4943 - accuracy: 0.8356 - val_loss: 0.3706 - val_accuracy: 0.8711\n",
      "Epoch 59/1000\n",
      "94/94 [==============================] - ETA: 0s - loss: 0.4856 - accuracy: 0.8360\n",
      "Epoch 59: saving model to model/keypoint_classifier\\keypoint_classifier.hdf5\n",
      "94/94 [==============================] - 1s 6ms/step - loss: 0.4856 - accuracy: 0.8360 - val_loss: 0.3634 - val_accuracy: 0.8834\n",
      "Epoch 60/1000\n",
      "84/94 [=========================>....] - ETA: 0s - loss: 0.4864 - accuracy: 0.8377\n",
      "Epoch 60: saving model to model/keypoint_classifier\\keypoint_classifier.hdf5\n",
      "94/94 [==============================] - 1s 6ms/step - loss: 0.4865 - accuracy: 0.8373 - val_loss: 0.3485 - val_accuracy: 0.8902\n",
      "Epoch 61/1000\n",
      "86/94 [==========================>...] - ETA: 0s - loss: 0.4901 - accuracy: 0.8366\n",
      "Epoch 61: saving model to model/keypoint_classifier\\keypoint_classifier.hdf5\n",
      "94/94 [==============================] - 1s 6ms/step - loss: 0.4894 - accuracy: 0.8367 - val_loss: 0.3389 - val_accuracy: 0.8933\n",
      "Epoch 62/1000\n",
      "89/94 [===========================>..] - ETA: 0s - loss: 0.4740 - accuracy: 0.8415\n",
      "Epoch 62: saving model to model/keypoint_classifier\\keypoint_classifier.hdf5\n",
      "94/94 [==============================] - 1s 7ms/step - loss: 0.4731 - accuracy: 0.8422 - val_loss: 0.3503 - val_accuracy: 0.8839\n",
      "Epoch 63/1000\n",
      "87/94 [==========================>...] - ETA: 0s - loss: 0.4637 - accuracy: 0.8456\n",
      "Epoch 63: saving model to model/keypoint_classifier\\keypoint_classifier.hdf5\n",
      "94/94 [==============================] - 1s 7ms/step - loss: 0.4632 - accuracy: 0.8457 - val_loss: 0.3321 - val_accuracy: 0.8933\n",
      "Epoch 63: early stopping\n"
     ]
    },
    {
     "data": {
      "text/plain": [
       "<keras.callbacks.History at 0x1b52397a470>"
      ]
     },
     "execution_count": 11,
     "metadata": {},
     "output_type": "execute_result"
    }
   ],
   "source": [
    "model.fit(\n",
    "    X_train,\n",
    "    y_train,\n",
    "    epochs=1000,\n",
    "    batch_size=128,\n",
    "    validation_data=(X_test, y_test),\n",
    "    callbacks=[cp_callback, es_callback]\n",
    ")"
   ]
  },
  {
   "cell_type": "code",
   "execution_count": 12,
   "metadata": {},
   "outputs": [
    {
     "name": "stdout",
     "output_type": "stream",
     "text": [
      "32/32 [==============================] - 0s 4ms/step - loss: 0.3321 - accuracy: 0.8933\n"
     ]
    }
   ],
   "source": [
    "# モデル評価\n",
    "val_loss, val_acc = model.evaluate(X_test, y_test, batch_size=128)"
   ]
  },
  {
   "cell_type": "code",
   "execution_count": 13,
   "metadata": {},
   "outputs": [],
   "source": [
    "# 保存したモデルのロード\n",
    "model = tf.keras.models.load_model(model_save_path)"
   ]
  },
  {
   "cell_type": "code",
   "execution_count": 14,
   "metadata": {},
   "outputs": [
    {
     "name": "stdout",
     "output_type": "stream",
     "text": [
      "1/1 [==============================] - 0s 251ms/step\n",
      "[1.2751379e-02 1.5130278e-06 2.1006622e-07 6.7745475e-04 4.7442587e-03\n",
      " 2.5534844e-06 6.8929836e-07 7.2288820e-08 2.1393974e-03 8.4778894e-04\n",
      " 6.2272605e-04 8.3604139e-01 9.1650739e-02 5.3928792e-04 5.9194289e-08\n",
      " 4.3872136e-05 3.3833592e-06 4.9904890e-02 2.8380518e-05]\n",
      "11\n"
     ]
    }
   ],
   "source": [
    "# 推論テスト\n",
    "predict_result = model.predict(np.array([X_test[0]]))\n",
    "print(np.squeeze(predict_result))\n",
    "print(np.argmax(np.squeeze(predict_result)))"
   ]
  },
  {
   "cell_type": "markdown",
   "metadata": {},
   "source": [
    "# 混同行列"
   ]
  },
  {
   "cell_type": "code",
   "execution_count": 15,
   "metadata": {},
   "outputs": [
    {
     "name": "stdout",
     "output_type": "stream",
     "text": [
      "125/125 [==============================] - 0s 3ms/step\n"
     ]
    },
    {
     "data": {
      "image/png": "[encoded data removed]",
      "text/plain": [
       "<Figure size 700x600 with 2 Axes>"
      ]
     },
     "metadata": {},
     "output_type": "display_data"
    },
    {
     "name": "stdout",
     "output_type": "stream",
     "text": [
      "Classification Report\n",
      "              precision    recall  f1-score   support\n",
      "\n",
      "           0       0.99      0.96      0.97        99\n",
      "           1       0.96      1.00      0.98       241\n",
      "           2       1.00      0.40      0.57       107\n",
      "           3       0.96      0.84      0.89        91\n",
      "           4       0.96      0.38      0.54       121\n",
      "           5       0.99      0.89      0.94       102\n",
      "           6       0.98      0.98      0.98       134\n",
      "           7       0.94      0.97      0.95       125\n",
      "           8       1.00      0.96      0.98       210\n",
      "           9       1.00      0.94      0.97       172\n",
      "          10       0.99      1.00      0.99       333\n",
      "          11       0.58      0.97      0.73       292\n",
      "          12       0.78      0.49      0.60       343\n",
      "          13       0.81      1.00      0.89       322\n",
      "          14       0.98      0.99      0.98       347\n",
      "          15       1.00      0.99      1.00       217\n",
      "          16       0.93      0.99      0.96       257\n",
      "          17       0.88      0.87      0.87       255\n",
      "          18       0.99      1.00      0.99       204\n",
      "\n",
      "    accuracy                           0.89      3972\n",
      "   macro avg       0.93      0.87      0.88      3972\n",
      "weighted avg       0.91      0.89      0.89      3972\n",
      "\n"
     ]
    }
   ],
   "source": [
    "import pandas as pd\n",
    "import seaborn as sns\n",
    "import matplotlib.pyplot as plt\n",
    "from sklearn.metrics import confusion_matrix, classification_report\n",
    "\n",
    "def print_confusion_matrix(y_true, y_pred, report=True):\n",
    "    labels = sorted(list(set(y_true)))\n",
    "    cmx_data = confusion_matrix(y_true, y_pred, labels=labels)\n",
    "    \n",
    "    df_cmx = pd.DataFrame(cmx_data, index=labels, columns=labels)\n",
    " \n",
    "    fig, ax = plt.subplots(figsize=(7, 6))\n",
    "    sns.heatmap(df_cmx, annot=True, fmt='g' ,square=False)\n",
    "    ax.set_ylim(len(set(y_true)), 0)\n",
    "    plt.show()\n",
    "    \n",
    "    if report:\n",
    "        print('Classification Report')\n",
    "        print(classification_report(y_test, y_pred))\n",
    "\n",
    "Y_pred = model.predict(X_test)\n",
    "y_pred = np.argmax(Y_pred, axis=1)\n",
    "\n",
    "print_confusion_matrix(y_test, y_pred)"
   ]
  },
  {
   "cell_type": "markdown",
   "metadata": {},
   "source": [
    "# Tensorflow-Lite用のモデルへ変換"
   ]
  },
  {
   "cell_type": "code",
   "execution_count": 16,
   "metadata": {},
   "outputs": [],
   "source": [
    "# 推論専用のモデルとして保存\n",
    "model.save(model_save_path, include_optimizer=False)"
   ]
  },
  {
   "cell_type": "code",
   "execution_count": 17,
   "metadata": {},
   "outputs": [
    {
     "name": "stderr",
     "output_type": "stream",
     "text": [
      "WARNING:absl:Found untraced functions such as _update_step_xla while saving (showing 1 of 1). These functions will not be directly callable after loading.\n"
     ]
    },
    {
     "name": "stdout",
     "output_type": "stream",
     "text": [
      "INFO:tensorflow:Assets written to: C:\\Users\\tanta\\AppData\\Local\\Temp\\tmp4br_ig1g\\assets\n"
     ]
    },
    {
     "name": "stderr",
     "output_type": "stream",
     "text": [
      "INFO:tensorflow:Assets written to: C:\\Users\\tanta\\AppData\\Local\\Temp\\tmp4br_ig1g\\assets\n"
     ]
    },
    {
     "data": {
      "text/plain": [
       "12376"
      ]
     },
     "execution_count": 17,
     "metadata": {},
     "output_type": "execute_result"
    }
   ],
   "source": [
    "# モデルを変換(量子化)\n",
    "tflite_save_path = 'model/keypoint_classifier/keypoint_classifier.tflite'\n",
    "\n",
    "converter = tf.lite.TFLiteConverter.from_keras_model(model)\n",
    "converter.optimizations = [tf.lite.Optimize.DEFAULT]\n",
    "tflite_quantized_model = converter.convert()\n",
    "\n",
    "open(tflite_save_path, 'wb').write(tflite_quantized_model)"
   ]
  },
  {
   "cell_type": "markdown",
   "metadata": {},
   "source": [
    "# 推論テスト"
   ]
  },
  {
   "cell_type": "code",
   "execution_count": 18,
   "metadata": {},
   "outputs": [],
   "source": [
    "interpreter = tf.lite.Interpreter(model_path=tflite_save_path)\n",
    "interpreter.allocate_tensors()"
   ]
  },
  {
   "cell_type": "code",
   "execution_count": 19,
   "metadata": {},
   "outputs": [],
   "source": [
    "# 入出力テンソルを取得\n",
    "input_details = interpreter.get_input_details()\n",
    "output_details = interpreter.get_output_details()"
   ]
  },
  {
   "cell_type": "code",
   "execution_count": 20,
   "metadata": {},
   "outputs": [],
   "source": [
    "interpreter.set_tensor(input_details[0]['index'], np.array([X_test[0]]))"
   ]
  },
  {
   "cell_type": "code",
   "execution_count": 21,
   "metadata": {
    "scrolled": true
   },
   "outputs": [
    {
     "name": "stdout",
     "output_type": "stream",
     "text": [
      "CPU times: total: 0 ns\n",
      "Wall time: 0 ns\n"
     ]
    }
   ],
   "source": [
    "%%time\n",
    "# 推論実施\n",
    "interpreter.invoke()\n",
    "tflite_results = interpreter.get_tensor(output_details[0]['index'])"
   ]
  },
  {
   "cell_type": "code",
   "execution_count": 22,
   "metadata": {},
   "outputs": [
    {
     "name": "stdout",
     "output_type": "stream",
     "text": [
      "[1.2347246e-02 1.1562605e-06 1.4770100e-07 5.5303017e-04 4.2843018e-03\n",
      " 1.8513958e-06 6.5275970e-07 5.4347975e-08 1.9611416e-03 8.4134954e-04\n",
      " 5.5257545e-04 8.4283090e-01 9.1401801e-02 4.5233441e-04 4.7632540e-08\n",
      " 3.9332997e-05 2.6334103e-06 4.4701606e-02 2.7918253e-05]\n",
      "11\n"
     ]
    }
   ],
   "source": [
    "print(np.squeeze(tflite_results))\n",
    "print(np.argmax(np.squeeze(tflite_results)))"
   ]
  }
 ],
 "metadata": {
  "kernelspec": {
   "display_name": "Python 3 (ipykernel)",
   "language": "python",
   "name": "python3"
  },
  "language_info": {
   "codemirror_mode": {
    "name": "ipython",
    "version": 3
   },
   "file_extension": ".py",
   "mimetype": "text/x-python",
   "name": "python",
   "nbconvert_exporter": "python",
   "pygments_lexer": "ipython3",
   "version": "3.10.0"
  }
 },
 "nbformat": 4,
 "nbformat_minor": 4
}
